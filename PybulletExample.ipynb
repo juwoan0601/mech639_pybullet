{
 "cells": [
  {
   "attachments": {},
   "cell_type": "markdown",
   "metadata": {},
   "source": [
    "# Initial Setting"
   ]
  },
  {
   "cell_type": "code",
   "execution_count": 49,
   "metadata": {},
   "outputs": [],
   "source": [
    "import numpy as np\n",
    "import pybullet as p\n",
    "import pybullet_data\n",
    "import time\n",
    "\n",
    "# Pybullet GUI 창 열기\n",
    "pID = p.connect(p.GUI)\n",
    "\n",
    "# 기타 URDF 파일 경로 설정\n",
    "p.setAdditionalSearchPath(pybullet_data.getDataPath())\n",
    "\n",
    "# 기존 번잡한 UI를 깔끔하게 바꿔줌\n",
    "p.configureDebugVisualizer(p.COV_ENABLE_GUI, 1)\n",
    "# p.configureDebugVisualizer(p.COV_ENABLE_SHADOWS, 0)\n",
    "# p.configureDebugVisualizer(p.COV_ENABLE_RGB_BUFFER_PREVIEW, 0)\n",
    "# p.configureDebugVisualizer(p.COV_ENABLE_DEPTH_BUFFER_PREVIEW, 0)\n",
    "# p.configureDebugVisualizer(p.COV_ENABLE_SEGMENTATION_MARK_PREVIEW, 0)\n",
    "\n",
    "# 처음 로드하면 로봇이 굉장히 멀리 있는데, camera position을 카메라에 가깝게 세팅함\n",
    "p.resetDebugVisualizerCamera(cameraDistance=1, cameraYaw=45, cameraPitch=-30, cameraTargetPosition=[0, 0, 0.7])\n",
    "\n",
    "# 3D Object 로드\n",
    "plain_id = p.loadURDF(\"plane.urdf\")\n",
    "# Solid Robot\n",
    "#robot_id = p.loadURDF(r\"D:\\MECH639\\mech639_pybullet\\urdf\\indyRP2\\indyrp2.urdf\", basePosition=[0, 0, 0], baseOrientation=p.getQuaternionFromEuler([0, 0, 0]))\n",
    "# Transparent Robot\n",
    "robot_id = p.loadURDF(r\"D:\\MECH639\\mech639_pybullet\\urdf\\indyRP2\\indyrp2_transp.urdf\", basePosition=[0, 0, 0], baseOrientation=p.getQuaternionFromEuler([0, 0, 0]))\n",
    "\n",
    "# 중력 설정\n",
    "p.setGravity(0, 0, -9.81) # set gravity\n",
    "\n",
    "# XYZ 축 표시\n",
    "z_axis_visual_shape = p.createVisualShape(p.GEOM_CYLINDER, length=2, radius=0.01, rgbaColor=[0, 0, 1, 1])  # Red sphere shape\n",
    "z_axis_visual_id = p.createMultiBody(baseMass=0, baseVisualShapeIndex=z_axis_visual_shape)\n",
    "p.resetBasePositionAndOrientation(z_axis_visual_id, [0,0,1], [0,0,1,0])\n",
    "x_axis_visual_shape = p.createVisualShape(p.GEOM_CYLINDER, length=2, radius=0.01, rgbaColor=[1, 0, 0, 1])  # Red sphere shape\n",
    "x_axis_visual_id = p.createMultiBody(baseMass=0, baseVisualShapeIndex=x_axis_visual_shape)\n",
    "p.resetBasePositionAndOrientation(x_axis_visual_id, [1,0,0], [0,1,0,1])\n",
    "y_axis_visual_shape = p.createVisualShape(p.GEOM_CYLINDER, length=2, radius=0.01, rgbaColor=[0, 1, 0, 1])  # Red sphere shape\n",
    "y_axis_visual_id = p.createMultiBody(baseMass=0, baseVisualShapeIndex=y_axis_visual_shape)\n",
    "p.resetBasePositionAndOrientation(y_axis_visual_id, [0,1,0], [-1,0,0,1])"
   ]
  },
  {
   "cell_type": "code",
   "execution_count": 54,
   "metadata": {},
   "outputs": [],
   "source": [
    "p.disconnect()"
   ]
  },
  {
   "cell_type": "code",
   "execution_count": 53,
   "metadata": {},
   "outputs": [
    {
     "data": {
      "text/plain": [
       "3"
      ]
     },
     "execution_count": 53,
     "metadata": {},
     "output_type": "execute_result"
    }
   ],
   "source": [
    "p.addUserDebugText(\"aaa\",[1,0,1],textSize=5)"
   ]
  },
  {
   "cell_type": "code",
   "execution_count": 32,
   "metadata": {},
   "outputs": [
    {
     "data": {
      "text/plain": [
       "4"
      ]
     },
     "execution_count": 32,
     "metadata": {},
     "output_type": "execute_result"
    }
   ],
   "source": [
    "p.addUserDebugPoints([[0,1,1]],[[1,0,0]],pointSize=10)"
   ]
  },
  {
   "cell_type": "code",
   "execution_count": 39,
   "metadata": {},
   "outputs": [],
   "source": [
    "p.removeAllUserDebugItems(0)"
   ]
  },
  {
   "cell_type": "code",
   "execution_count": 56,
   "metadata": {},
   "outputs": [],
   "source": [
    "# CoM of Links 표시\n",
    "for i in range(p.getNumJoints(robot_id)):\n",
    "    exec(f\"link{i}_visual_shape = p.createVisualShape(p.GEOM_SPHERE, radius=0.03, rgbaColor=[1, 1, 0, 1])  # Red sphere shape\")\n",
    "    exec(f\"link{i}_visual_id = p.createMultiBody(baseMass=0, baseVisualShapeIndex=link{i}_visual_shape)\")\n",
    "    exec(f\"p.resetBasePositionAndOrientation(link{i}_visual_id, p.getLinkState(robot_id, {i})[0], p.getLinkState(robot_id, {i})[1])\")\n"
   ]
  },
  {
   "cell_type": "code",
   "execution_count": 76,
   "metadata": {},
   "outputs": [
    {
     "data": {
      "text/plain": [
       "5"
      ]
     },
     "execution_count": 76,
     "metadata": {},
     "output_type": "execute_result"
    }
   ],
   "source": [
    "# End-Effector 표시\n",
    "L_ee = [0,0,0.06] # Zero Position일 때 End-effector의 offset\n",
    "end_effector_visual_shape = p.createVisualShape(p.GEOM_CYLINDER, length=0.03, radius=0.025, rgbaColor=[1, 0, 0, 0.5])  # Red sphere shape\n",
    "end_effector_visual_id = p.createMultiBody(baseMass=0, baseVisualShapeIndex=end_effector_visual_shape)\n",
    "p.resetBasePositionAndOrientation(end_effector_visual_id, \n",
    "                                  np.array(p.getLinkState(robot_id,p.getNumJoints(robot_id)-1)[0])+L_ee,\n",
    "                                  p.getLinkState(robot_id,p.getNumJoints(robot_id)-1)[1])\n",
    "end_effector_visual_id"
   ]
  },
  {
   "cell_type": "code",
   "execution_count": 34,
   "metadata": {},
   "outputs": [],
   "source": [
    "joint_angle = np.array(2*(1-2*np.random.rand(7))).reshape([p.getNumJoints(robot_id)])\n",
    "p.setJointMotorControlArray(bodyUniqueId=robot_id,\n",
    "                                jointIndices=range(p.getNumJoints(robot_id)),\n",
    "                                controlMode=p.POSITION_CONTROL,\n",
    "                                targetPositions=joint_angle)\n",
    "\n",
    "for i in range(100):\n",
    "    p.stepSimulation()\n",
    "    # Calculate end-effector position\n",
    "    end_effector_link_index = 6  # Replace with the index of your robot's end-effector link\n",
    "    end_effector_position, _ = p.getLinkState(robot_id, end_effector_link_index)[:2]\n",
    "    end_effector_orientation = p.getLinkState(robot_id, end_effector_link_index)[1]\n",
    "    #trajectory.append(end_effector_position)  # Store end-effector position in trajectory list\n",
    "\n",
    "    # Update the position of the visual object representing the end-effector in the 3D environment\n",
    "    p.resetBasePositionAndOrientation(end_effector_visual_id, end_effector_position, end_effector_orientation)\n",
    "\n",
    "    time.sleep(1./240)"
   ]
  },
  {
   "attachments": {},
   "cell_type": "markdown",
   "metadata": {},
   "source": [
    "# Remove Bodies except Robot, Plane and axis"
   ]
  },
  {
   "cell_type": "code",
   "execution_count": 37,
   "metadata": {},
   "outputs": [],
   "source": [
    "def isRemainObject(id):\n",
    "    if id in [robot_id, plain_id, x_axis_visual_id, y_axis_visual_id, z_axis_visual_id]: return False\n",
    "    else: return True\n",
    "\n",
    "for i in [x for x in range(0,100) if isRemainObject(x)]:\n",
    "    #print(f\"Removed Body {i}\")\n",
    "    p.removeBody(i)"
   ]
  },
  {
   "attachments": {},
   "cell_type": "markdown",
   "metadata": {},
   "source": [
    "# Figure Out Robot's Dimention"
   ]
  },
  {
   "cell_type": "code",
   "execution_count": 58,
   "metadata": {},
   "outputs": [
    {
     "name": "stdout",
     "output_type": "stream",
     "text": [
      "Link 0 Info: \n",
      "-- Position:  [0.0, 0.0, 0.0775]\n",
      "-- Orientation(Q):  [-0.0, -0.0, 0.0, 1.0]\n",
      "-- Orientation(E):  [-0.0, -0.0, 0.0]\n",
      "-- Orientation(A):  [1.0, 0.0, 0.0] 0.0\n",
      "-- Orientation(M):  [1.0, -0.0, -0.0, 0.0, 1.0, 0.0, 0.0, -0.0, 1.0]\n",
      "Link 1 Info: \n",
      "-- Position:  [0.0, -0.109, 0.2995]\n",
      "-- Orientation(Q):  [0.5, 0.5, -0.5, 0.5]\n",
      "-- Orientation(E):  [0.0, 90.0, -90.0]\n",
      "-- Orientation(A):  [0.57735, 0.577351, -0.57735] 120.0\n",
      "-- Orientation(M):  [-0.0, 1.0, 0.0, -0.0, 0.0, -1.0, -1.0, -0.0, 0.0]\n",
      "Link 2 Info: \n",
      "-- Position:  [0.0, -0.1937, 0.6835]\n",
      "-- Orientation(Q):  [0.0, 0.0, 0.0, 1.0]\n",
      "-- Orientation(E):  [0.0, 0.0, 0.0]\n",
      "-- Orientation(A):  [1.0, 0.0, 0.0] 0.0\n",
      "-- Orientation(M):  [1.0, -0.0, 0.0, 0.0, 1.0, -0.0, -0.0, 0.0, 1.0]\n",
      "Link 3 Info: \n",
      "-- Position:  [0.0, -0.0784, 0.749]\n",
      "-- Orientation(Q):  [0.5, 0.5, -0.5, 0.5]\n",
      "-- Orientation(E):  [0.0, 90.0, -90.0]\n",
      "-- Orientation(A):  [0.577349, 0.577352, -0.57735] 120.0\n",
      "-- Orientation(M):  [-0.0, 1.0, 0.0, 0.0, 0.0, -1.0, -1.0, -0.0, -0.0]\n",
      "Link 4 Info: \n",
      "-- Position:  [0.0, -0.0034, 1.016]\n",
      "-- Orientation(Q):  [0.0, 0.0, 0.0, 1.0]\n",
      "-- Orientation(E):  [0.0, 0.0, 0.0]\n",
      "-- Orientation(A):  [1.0, 0.0, 0.0] 0.0\n",
      "-- Orientation(M):  [1.0, -0.0, 0.0, 0.0, 1.0, -0.0, -0.0, 0.0, 1.0]\n",
      "Link 5 Info: \n",
      "-- Position:  [0.0, -0.1174, 1.099]\n",
      "-- Orientation(Q):  [0.5, 0.5, -0.5, 0.5]\n",
      "-- Orientation(E):  [0.0, 90.0, -90.0]\n",
      "-- Orientation(A):  [0.577365, 0.577345, -0.577341] 120.0\n",
      "-- Orientation(M):  [0.0, 1.0, 0.0, 0.0, 0.0, -1.0, -1.0, 0.0, -0.0]\n",
      "Link 6 Info: \n",
      "-- Position:  [-0.0, -0.1864, 1.267]\n",
      "-- Orientation(Q):  [0.0, -0.0, 0.0, 1.0]\n",
      "-- Orientation(E):  [0.0, -0.0, 0.0]\n",
      "-- Orientation(A):  [1.0, 0.0, 0.0] 0.0\n",
      "-- Orientation(M):  [1.0, -0.0, -0.0, 0.0, 1.0, -0.0, 0.0, 0.0, 1.0]\n"
     ]
    }
   ],
   "source": [
    "for i in range(0,p.getNumJoints(robot_id)):\n",
    "    print(f\"Link {i} Info: \")\n",
    "    print(\"-- Position: \", [round(x,4) for x in p.getLinkState(1,i)[0]])\n",
    "    print(\"-- Orientation(Q): \", [round(x,2) for x in p.getLinkState(1,i)[1]])\n",
    "    print(\"-- Orientation(E): \", [round(x*180/np.pi,2) for x in p.getEulerFromQuaternion(p.getLinkState(1,i)[1])])\n",
    "    print(\"-- Orientation(A): \", [round(x,6) for x in p.getAxisAngleFromQuaternion(p.getLinkState(1,i)[1])[0]], round(180/np.pi*p.getAxisAngleFromQuaternion(p.getLinkState(1,i)[1])[1],2))\n",
    "    print(\"-- Orientation(M): \", [round(x,2) for x in p.getMatrixFromQuaternion(p.getLinkState(1,i)[1])])"
   ]
  },
  {
   "attachments": {},
   "cell_type": "markdown",
   "metadata": {},
   "source": [
    "# Move Robot Using Joint Angle"
   ]
  },
  {
   "attachments": {},
   "cell_type": "markdown",
   "metadata": {},
   "source": [
    "## Set Random Joint Angle"
   ]
  },
  {
   "cell_type": "code",
   "execution_count": 213,
   "metadata": {},
   "outputs": [],
   "source": [
    "import time\n",
    "p.setJointMotorControlArray(bodyUniqueId=robot_id,\n",
    "                                jointIndices=range(p.getNumJoints(robot_id)),\n",
    "                                controlMode=p.POSITION_CONTROL,\n",
    "                                targetPositions=np.array(2*(1-2*np.random.rand(7))).reshape([p.getNumJoints(robot_id)]))\n",
    "\n",
    "for i in range(100):\n",
    "    p.stepSimulation()\n",
    "    time.sleep(1./240)"
   ]
  },
  {
   "attachments": {},
   "cell_type": "markdown",
   "metadata": {},
   "source": [
    "## Set Robot Zero Position"
   ]
  },
  {
   "cell_type": "code",
   "execution_count": 164,
   "metadata": {},
   "outputs": [],
   "source": [
    "import time\n",
    "p.setJointMotorControlArray(bodyUniqueId=robot_id,\n",
    "                                jointIndices=range(p.getNumJoints(robot_id)),\n",
    "                                controlMode=p.POSITION_CONTROL,\n",
    "                                targetPositions=np.zeros(7).reshape([p.getNumJoints(robot_id)]))\n",
    "\n",
    "for i in range(100):\n",
    "    p.stepSimulation()\n",
    "    time.sleep(1./240)"
   ]
  },
  {
   "attachments": {},
   "cell_type": "markdown",
   "metadata": {},
   "source": [
    "## Set Specific Joint Angle"
   ]
  },
  {
   "cell_type": "code",
   "execution_count": 21,
   "metadata": {},
   "outputs": [
    {
     "name": "stdout",
     "output_type": "stream",
     "text": [
      "Last Link Info: \n",
      "-- Position:  [-0.2118, -0.2443, 1.2277]\n",
      "-- Orientation(M):  [0.64, -0.61, -0.46, 0.61, 0.77, -0.17, 0.46, -0.17, 0.87]\n"
     ]
    }
   ],
   "source": [
    "import time\n",
    "# thetalist = np.array([0,45,0,-90,0,45,0])\n",
    "# thetalist = np.array([170,0,0,0,0,0,0])\n",
    "# thetalist = np.array([0,0,90,0,0,0,0])\n",
    "thetalist = np.ones(7)*10\n",
    "# thetalist = np.array([170.01224834774075,19.90207326018981,33.05070859545958,154.8715380004641,56.22058650480949,51.59578506452726,56.76358544110735])\n",
    "p.setJointMotorControlArray(bodyUniqueId=robot_id,\n",
    "                                jointIndices=range(p.getNumJoints(robot_id)),\n",
    "                                controlMode=p.POSITION_CONTROL,\n",
    "                                targetPositions=(thetalist*np.pi/180.0).reshape([p.getNumJoints(robot_id)]))\n",
    "\n",
    "for i in range(100):\n",
    "    p.stepSimulation()\n",
    "    time.sleep(1./240)\n",
    "    \n",
    "\n",
    "print(f\"Last Link Info: \")\n",
    "print(\"-- Position: \", [round(x,4) for x in p.getLinkState(1,p.getNumJoints(robot_id)-1)[0]])\n",
    "print(\"-- Orientation(M): \", [round(x,2) for x in p.getMatrixFromQuaternion(p.getLinkState(1,p.getNumJoints(robot_id)-1)[1])])"
   ]
  },
  {
   "attachments": {},
   "cell_type": "markdown",
   "metadata": {},
   "source": [
    "# Move Robot Using FK and IK"
   ]
  },
  {
   "attachments": {},
   "cell_type": "markdown",
   "metadata": {},
   "source": [
    "## Current Last Link Position"
   ]
  },
  {
   "cell_type": "code",
   "execution_count": 121,
   "metadata": {},
   "outputs": [
    {
     "name": "stdout",
     "output_type": "stream",
     "text": [
      "Current Last Link Info: \n",
      "-- Position:  [0.0, -0.1864, 1.267]\n",
      "-- Orientation(M):  [1.0, -0.0, 0.0, 0.0, 1.0, 0.0, -0.0, 0.0, 1.0]\n",
      "((4.137306072380456e-07, -0.18640000013906277, 1.266999999997328), (2.196848258861906e-11, 2.2297940935334117e-06, 1.8446793349780062e-05, 0.9999999998273719), (0.0, 0.0, 0.0), (0.0, 0.0, 0.0, 1.0), (4.1373061776539544e-07, -0.18639999628067017, 1.2669999599456787), (2.196848432334253e-11, 2.2297940631688107e-06, 1.8446793546900153e-05, 1.0))\n"
     ]
    }
   ],
   "source": [
    "print(f\"Current Last Link Info: \")\n",
    "print(\"-- Position: \", [round(x,4) for x in p.getLinkState(robot_id,p.getNumJoints(robot_id)-1)[0]])\n",
    "print(\"-- Orientation(M): \", [round(x,2) for x in p.getMatrixFromQuaternion(p.getLinkState(robot_id,p.getNumJoints(robot_id)-1)[1])])\n",
    "print(p.getLinkState(robot_id,p.getNumJoints(robot_id)-1))"
   ]
  },
  {
   "attachments": {},
   "cell_type": "markdown",
   "metadata": {},
   "source": [
    "## Move Robot with FK and IK"
   ]
  },
  {
   "attachments": {},
   "cell_type": "markdown",
   "metadata": {},
   "source": [
    "### Generate Endeffector Marker"
   ]
  },
  {
   "cell_type": "code",
   "execution_count": 18,
   "metadata": {},
   "outputs": [
    {
     "data": {
      "text/plain": [
       "5"
      ]
     },
     "execution_count": 18,
     "metadata": {},
     "output_type": "execute_result"
    }
   ],
   "source": [
    "end_effector_visual_shape = p.createVisualShape(p.GEOM_CYLINDER, length=0.03, radius=0.025, rgbaColor=[1, 0, 0, 0.5])\n",
    "end_effector_visual_sim_id = p.createMultiBody(baseMass=0, baseVisualShapeIndex=end_effector_visual_shape)\n",
    "end_effector_visual_sim_id"
   ]
  },
  {
   "cell_type": "code",
   "execution_count": 19,
   "metadata": {},
   "outputs": [
    {
     "data": {
      "text/plain": [
       "6"
      ]
     },
     "execution_count": 19,
     "metadata": {},
     "output_type": "execute_result"
    }
   ],
   "source": [
    "end_effector_visual_shape = p.createVisualShape(p.GEOM_CYLINDER, length=0.03, radius=0.05, rgbaColor=[0, 1, 0, 0.5])\n",
    "end_effector_visual_cal_id = p.createMultiBody(baseMass=0, baseVisualShapeIndex=end_effector_visual_shape)\n",
    "end_effector_visual_cal_id"
   ]
  },
  {
   "attachments": {},
   "cell_type": "markdown",
   "metadata": {},
   "source": [
    "### FK"
   ]
  },
  {
   "cell_type": "code",
   "execution_count": 27,
   "metadata": {},
   "outputs": [
    {
     "name": "stdout",
     "output_type": "stream",
     "text": [
      ">>> Mean of FKs-FKb(T):  -1.214306433183765e-17\n",
      ">>> Desired Joint Angle:  [-52.8191, -20.9083, -0.6628, 53.4644, 47.6047, -46.6225, 96.326]\n",
      ">>> Desired Position(Cal):  [0.0581, -0.0789, 1.2785]\n",
      ">>> Final   Position(Sim):  [0.0305, -0.0961, 1.228]\n",
      ">>> Differ  Position     :  [-0.0276, -0.0172, -0.0504]\n"
     ]
    }
   ],
   "source": [
    "from RoboticsCore import *\n",
    "\n",
    "h7 = 0.06 # zero position에서 Endeffector의 offset\n",
    "Tee = np.array([\n",
    "    [ 1, 0, 0,  0],\n",
    "    [ 0, 1, 0,  0],\n",
    "    [ 0, 0, 1, h7],\n",
    "    [ 0, 0, 0,  1]])\n",
    "M = np.array([\n",
    "    [ 1, 0, 0,       0],\n",
    "    [ 0, 1, 0, -0.1864],\n",
    "    [ 0, 0, 1,  1.2670],\n",
    "    [ 0, 0, 0,       1]]) # == Tsb(0)\n",
    "Blist = np.array([\n",
    "    [ 0.1864,0,0,0,\t0,1],\n",
    "    [-0.9675,0,0,0,-1,0],\n",
    "    [-0.0073,0,0,0,\t0,1],\n",
    "    [ -0.518,0,0,0,-1,0],\n",
    "    [  0.183,0,0,0,\t0,1],\n",
    "    [ -0.168,0,0,0,-1,0],\n",
    "    [      0,0,0,0,\t0,1]]).T\n",
    "Slist = np.array([\n",
    "    [      0,0,0,0, 0,1],\n",
    "    [ 0.2995,0,0,0,-1,0],\n",
    "    [-0.1937,0,0,0, 0,1],\n",
    "    [  0.749,0,0,0,-1,0],\n",
    "    [-0.0034,0,0,0, 0,1],\n",
    "    [  1.099,0,0,0,-1,0],\n",
    "    [-0.1864,0,0,0, 0,1]]).T\n",
    "\n",
    "# thetalist_des = np.array([0,0,0,0,0,90,0]) # degree\n",
    "thetalist_des = np.array(2*(1-2*np.random.rand(7)))*180.0/np.pi\n",
    "# thetalist_des = np.ones(7)*90\n",
    "\n",
    "Tb = FKinBody(M,Blist,thetalist_des*np.pi/180.0)\n",
    "Ts = FKinSpace(M,Slist,thetalist_des*np.pi/180.0)\n",
    "print(\">>> Mean of FKs-FKb(T): \", np.mean(Tb-Ts))\n",
    "T = np.dot(Ts,Tee)\n",
    "\n",
    "print(\">>> Desired Joint Angle: \",[round(x,4) for x in thetalist_des])\n",
    "print(\">>> Desired Position(Cal): \",[round(x,4) for x in T[0:3,3]])\n",
    "qw = np.sqrt(1+T[0,0]+T[1,1]+T[2,2])/2.0\n",
    "\n",
    "#p.resetBasePositionAndOrientation(end_effector_visual_cal_id, T[0:3,3], [(T[2,1]-T[1,2])/(4*qw),(T[0,2]-T[2,0])/(4*qw),(T[1,0]-T[0,1])/(4*qw),qw])\n",
    "\n",
    "# for yungtae\n",
    "p.resetBasePositionAndOrientation(end_effector_visual_cal_id, (np.dot(Ts,np.array([0,0,h7,1])))[0:3], [(Ts[2,1]-Ts[1,2])/(4*qw),(Ts[0,2]-Ts[2,0])/(4*qw),(Ts[1,0]-Ts[0,1])/(4*qw),qw])\n",
    "\n",
    "# Set Zero Position\n",
    "p.setJointMotorControlArray(bodyUniqueId=robot_id,\n",
    "                                jointIndices=range(p.getNumJoints(robot_id)),\n",
    "                                controlMode=p.POSITION_CONTROL,\n",
    "                                targetPositions=np.zeros(7).reshape([p.getNumJoints(robot_id)]))\n",
    "for i in range(100):\n",
    "    p.stepSimulation()\n",
    "    end_effector_link_index = 6  # Replace with the index of your robot's end-effector link\n",
    "    end_effector_offset = np.dot(np.array(p.getMatrixFromQuaternion(p.getLinkState(robot_id, end_effector_link_index)[1])).reshape((3,3)),np.array([0,0,h7]))\n",
    "    p.resetBasePositionAndOrientation(end_effector_visual_sim_id,\n",
    "                                      p.getLinkState(robot_id, end_effector_link_index)[0]+end_effector_offset, \n",
    "                                      p.getLinkState(robot_id, end_effector_link_index)[1])\n",
    "    time.sleep(1./240)\n",
    "\n",
    "# Plot Desired Position\n",
    "p.setJointMotorControlArray(bodyUniqueId=robot_id,\n",
    "                                jointIndices=range(p.getNumJoints(robot_id)),\n",
    "                                controlMode=p.POSITION_CONTROL,\n",
    "                                targetPositions=(thetalist_des*np.pi/180.0).reshape([p.getNumJoints(robot_id)]))\n",
    "for i in range(100):\n",
    "    p.stepSimulation()\n",
    "    end_effector_link_index = 6  # Replace with the index of your robot's end-effector link\n",
    "    end_effector_offset = np.dot(np.array(p.getMatrixFromQuaternion(p.getLinkState(robot_id, end_effector_link_index)[1])).reshape((3,3)),np.array([0,0,h7]))\n",
    "    p.resetBasePositionAndOrientation(end_effector_visual_sim_id,\n",
    "                                      np.array(p.getLinkState(robot_id, end_effector_link_index)[0])+end_effector_offset, \n",
    "                                      p.getLinkState(robot_id, end_effector_link_index)[1])\n",
    "    time.sleep(1./240)\n",
    "\n",
    "print(\">>> Final   Position(Sim): \", [round(x,4) for x in p.getLinkState(robot_id,p.getNumJoints(robot_id)-1)[0]])\n",
    "print(\">>> Differ  Position     : \", [round(x,4) for x in p.getLinkState(robot_id,p.getNumJoints(robot_id)-1)[0]-T[0:3,3]])\n"
   ]
  },
  {
   "attachments": {},
   "cell_type": "markdown",
   "metadata": {},
   "source": [
    "### FK and IK"
   ]
  },
  {
   "cell_type": "code",
   "execution_count": 110,
   "metadata": {},
   "outputs": [
    {
     "name": "stdout",
     "output_type": "stream",
     "text": [
      ">>> Mean of FKs-FKb(T):  -2.2171934427328566e-17\n"
     ]
    },
    {
     "name": "stderr",
     "output_type": "stream",
     "text": [
      "[IKinBody] Root Finding with iterative Newton-Raphson:   2%|▎         | 25/1000 [00:00<00:02, 464.51it/s]"
     ]
    },
    {
     "name": "stdout",
     "output_type": "stream",
     "text": [
      ">>> InvKine Joint Angle(rad):  [-25.2855, 7.5158, -57.0869, 4.8021, 22.2968, -33.1062, 5.2814] True\n",
      ">>> InvKine Joint Angle(deg):  [-1448.75, 430.62, -3270.84, 275.14, 1277.51, -1896.85, 302.6] True\n",
      ">>> Result of IK(deg,%,const):  [-8.75, 70.62, -30.84, -84.86, -162.49, -96.85, -57.4]\n",
      ">>> Desired Joint Angle:  [ 0  0  0 90 90  0  0]\n",
      ">>> Noise of Initial Point:  [53.6, 403.99, 357.44, 179.06, 232.83, 10.98, 270.71]\n",
      ">>> Initial Joint Angle:  [-53.6, -403.99, -357.44, -89.06, -142.83, -10.98, -270.71]\n",
      ">>> InvKine Joint Angle:  [-8.75, 70.62, -30.84, -84.86, -162.49, -96.85, -57.4] True\n",
      ">>> Desired Position(Cal):  [-0.518, -0.0034, 0.932]\n"
     ]
    },
    {
     "name": "stderr",
     "output_type": "stream",
     "text": [
      "\n"
     ]
    },
    {
     "name": "stdout",
     "output_type": "stream",
     "text": [
      ">>> Desired Position(Sim):  [-0.518, -0.0034, 0.932]\n",
      ">>> Final   Position(Sim):  [-0.5406, -0.0249, 0.9215]\n",
      ">>> Differ  Position     :  [0.0374, -0.0215, -0.0105]\n"
     ]
    }
   ],
   "source": [
    "from RoboticsCore import *\n",
    "\n",
    "h7 = 0.06 # zero position에서 Endeffector의 offset\n",
    "Tee = np.array([\n",
    "    [ 1, 0, 0,  0],\n",
    "    [ 0, 1, 0,  0],\n",
    "    [ 0, 0, 1, h7],\n",
    "    [ 0, 0, 0,  1]])\n",
    "M = np.array([\n",
    "    [ 1, 0, 0,       0],\n",
    "    [ 0, 1, 0, -0.1864],\n",
    "    [ 0, 0, 1,  1.2670],\n",
    "    [ 0, 0, 0,       1]])\n",
    "Blist = np.array([\n",
    "    [ 0.1864,0,0,0,\t0,1],\n",
    "    [-0.9675,0,0,0,-1,0],\n",
    "    [-0.0073,0,0,0,\t0,1],\n",
    "    [ -0.518,0,0,0,-1,0],\n",
    "    [  0.183,0,0,0,\t0,1],\n",
    "    [ -0.168,0,0,0,-1,0],\n",
    "    [      0,0,0,0,\t0,1]]).T\n",
    "Slist = np.array([\n",
    "    [      0,0,0,0, 0,1],\n",
    "    [ 0.2995,0,0,0,-1,0],\n",
    "    [-0.1937,0,0,0, 0,1],\n",
    "    [  0.749,0,0,0,-1,0],\n",
    "    [-0.0034,0,0,0, 0,1],\n",
    "    [  1.099,0,0,0,-1,0],\n",
    "    [-0.1864,0,0,0, 0,1]]).T\n",
    "\n",
    "thetalist_des = np.array([0,0,0,90,90,0,0]) # degree\n",
    "\n",
    "eomg = 0.0001\n",
    "ev = 0.0001\n",
    "amp_noise = 10\n",
    "\n",
    "angle_noise = np.random.rand(p.getNumJoints(robot_id))*amp_noise*180/np.pi\n",
    "thetalist0 = thetalist_des - angle_noise\n",
    "#thetalist0 = np.zeros(p.getNumJoints(robot_id))\n",
    "\n",
    "Tb = FKinBody(M,Blist,thetalist_des*np.pi/180.0)\n",
    "Ts = FKinSpace(M,Slist,thetalist_des*np.pi/180.0)\n",
    "print(\">>> Mean of FKs-FKb(T): \", np.mean(Tb-Ts))\n",
    "\n",
    "T = np.dot(Tb,Tee)\n",
    "qw = np.sqrt(1+T[0,0]+T[1,1]+T[2,2])/2.0\n",
    "p.resetBasePositionAndOrientation(end_effector_visual_cal_id, T[0:3,3], [(T[2,1]-T[1,2])/(4*qw),(T[0,2]-T[2,0])/(4*qw),(T[1,0]-T[0,1])/(4*qw),qw])\n",
    "\n",
    "thetalist_IK = IKinBody(Blist, M, Tb, thetalist0*np.pi/180.0, eomg, ev, maxiter=1000)\n",
    "\n",
    "# Apply Joint Angle Constrains\n",
    "if True:\n",
    "    print(\">>> InvKine Joint Angle(rad): \", [round(x,4) for x in thetalist_IK[0]], thetalist_IK[1])\n",
    "    print(\">>> InvKine Joint Angle(deg): \", [round(x,2) for x in thetalist_IK[0]*180.0/np.pi], thetalist_IK[1])\n",
    "    for i in range(p.getNumJoints(robot_id)):\n",
    "        if thetalist_IK[0][i] < np.pi and thetalist_IK[0][i] > -np.pi:\n",
    "            thetalist_IK[0][i] = thetalist_IK[0][i]\n",
    "        else:\n",
    "            thetalist_IK[0][i] = (thetalist_IK[0][i]+np.pi) % (np.pi*2) - np.pi\n",
    "    print(\">>> Result of IK(deg,%,const): \", [round(x,2) for x in thetalist_IK[0]*180.0/np.pi])\n",
    "\n",
    "print(\">>> Desired Joint Angle: \", thetalist_des)\n",
    "print(\">>> Noise of Initial Point: \",[round(x,2) for x in angle_noise])\n",
    "print(\">>> Initial Joint Angle: \",[round(x,2) for x in thetalist0])\n",
    "print(\">>> InvKine Joint Angle: \", [round(x,2) for x in thetalist_IK[0]*180.0/np.pi], thetalist_IK[1])\n",
    "print(\">>> Desired Position(Cal): \",[round(x,4) for x in Tb[0:3,3]])\n",
    "\n",
    "# Set Zero Position\n",
    "p.setJointMotorControlArray(bodyUniqueId=robot_id,\n",
    "                                jointIndices=range(p.getNumJoints(robot_id)),\n",
    "                                controlMode=p.POSITION_CONTROL,\n",
    "                                targetPositions=np.zeros(7).reshape([p.getNumJoints(robot_id)]))\n",
    "for i in range(100):\n",
    "    p.stepSimulation()\n",
    "    end_effector_link_index = 6  # Replace with the index of your robot's end-effector link\n",
    "    end_effector_offset = np.dot(np.array(p.getMatrixFromQuaternion(p.getLinkState(robot_id, end_effector_link_index)[1])).reshape((3,3)),np.array([0,0,h7]))\n",
    "    p.resetBasePositionAndOrientation(end_effector_visual_sim_id,\n",
    "                                      np.array(p.getLinkState(robot_id, end_effector_link_index)[0])+end_effector_offset, \n",
    "                                      p.getLinkState(robot_id, end_effector_link_index)[1])\n",
    "    time.sleep(1./240)\n",
    "\n",
    "# Plot Desired Position\n",
    "p.setJointMotorControlArray(bodyUniqueId=robot_id,\n",
    "                                jointIndices=range(p.getNumJoints(robot_id)),\n",
    "                                controlMode=p.POSITION_CONTROL,\n",
    "                                targetPositions=(thetalist_des*np.pi/180.0).reshape([p.getNumJoints(robot_id)]))\n",
    "for i in range(100):\n",
    "    p.stepSimulation()\n",
    "    end_effector_link_index = 6  # Replace with the index of your robot's end-effector link\n",
    "    end_effector_offset = np.dot(np.array(p.getMatrixFromQuaternion(p.getLinkState(robot_id, end_effector_link_index)[1])).reshape((3,3)),np.array([0,0,h7]))\n",
    "    p.resetBasePositionAndOrientation(end_effector_visual_sim_id,\n",
    "                                      np.array(p.getLinkState(robot_id, end_effector_link_index)[0])+end_effector_offset, \n",
    "                                      p.getLinkState(robot_id, end_effector_link_index)[1])\n",
    "    time.sleep(1./240)\n",
    "print(\">>> Desired Position(Sim): \", [round(x,4) for x in p.getLinkState(robot_id,p.getNumJoints(robot_id)-1)[0]])\n",
    "\n",
    "# Set Zero Position\n",
    "p.setJointMotorControlArray(bodyUniqueId=robot_id,\n",
    "                                jointIndices=range(p.getNumJoints(robot_id)),\n",
    "                                controlMode=p.POSITION_CONTROL,\n",
    "                                targetPositions=np.zeros(7).reshape([p.getNumJoints(robot_id)]))\n",
    "for i in range(100):\n",
    "    p.stepSimulation()\n",
    "    end_effector_link_index = 6  # Replace with the index of your robot's end-effector link\n",
    "    end_effector_offset = np.dot(np.array(p.getMatrixFromQuaternion(p.getLinkState(robot_id, end_effector_link_index)[1])).reshape((3,3)),np.array([0,0,h7]))\n",
    "    p.resetBasePositionAndOrientation(end_effector_visual_sim_id,\n",
    "                                      np.array(p.getLinkState(robot_id, end_effector_link_index)[0])+end_effector_offset, \n",
    "                                      p.getLinkState(robot_id, end_effector_link_index)[1])\n",
    "    time.sleep(1./240)\n",
    "\n",
    "# Plot Inverse Kinematics Position\n",
    "p.setJointMotorControlArray(bodyUniqueId=robot_id,\n",
    "                                jointIndices=range(p.getNumJoints(robot_id)),\n",
    "                                controlMode=p.POSITION_CONTROL,\n",
    "                                targetPositions=(thetalist_IK[0]).reshape([p.getNumJoints(robot_id)]))\n",
    "for i in range(100):\n",
    "    p.stepSimulation()\n",
    "    end_effector_link_index = 6  # Replace with the index of your robot's end-effector link\n",
    "    end_effector_offset = np.dot(np.array(p.getMatrixFromQuaternion(p.getLinkState(robot_id, end_effector_link_index)[1])).reshape((3,3)),np.array([0,0,h7]))\n",
    "    p.resetBasePositionAndOrientation(end_effector_visual_sim_id,\n",
    "                                      np.array(p.getLinkState(robot_id, end_effector_link_index)[0])+end_effector_offset, \n",
    "                                      p.getLinkState(robot_id, end_effector_link_index)[1])\n",
    "    time.sleep(1./240)\n",
    "print(\">>> Final   Position(Sim): \", [round(x,4) for x in p.getLinkState(robot_id,p.getNumJoints(robot_id)-1)[0]])\n",
    "print(\">>> Differ  Position     : \", [round(x,4) for x in p.getLinkState(robot_id,p.getNumJoints(robot_id)-1)[0]-T[0:3,3]])\n"
   ]
  },
  {
   "attachments": {},
   "cell_type": "markdown",
   "metadata": {},
   "source": [
    "### IK"
   ]
  },
  {
   "cell_type": "code",
   "execution_count": 80,
   "metadata": {},
   "outputs": [
    {
     "name": "stderr",
     "output_type": "stream",
     "text": [
      "[IKinBody] Root Finding with iterative Newton-Raphson:   2%|▏         | 16/1000 [00:00<00:02, 411.63it/s]\n"
     ]
    },
    {
     "name": "stdout",
     "output_type": "stream",
     "text": [
      ">>> InvKine Joint Angle(rad):  [-305.4701, -143.3573, 207.2932, 225.0811, 95.096, -62.8952, -9.5155] True\n",
      ">>> InvKine Joint Angle(deg):  [-17502.15, -8213.77, 11877.03, 12896.2, 5448.6, -3603.63, -545.2] True\n",
      ">>> Result of IK(deg,%,const):  [137.85, 66.23, -2.97, -63.8, 48.6, -3.63, 174.8]\n",
      ">>> Initial Joint Angle:  [-1.38, -0.17, -1.67, -1.17, -0.78, -0.69, -0.59]\n",
      ">>> InvKine Joint Angle:  [137.85, 66.23, -2.97, -63.8, 48.6, -3.63, 174.8] True\n",
      ">>> Desired Position(Cal):  [0.31, -0.0864, 1.067]\n",
      ">>> Final   Position(Sim):  [0.31, -0.0864, 1.007]\n",
      ">>> Differ  Position     :  [-0.0, -0.0, -0.06]\n"
     ]
    }
   ],
   "source": [
    "from RoboticsCore import *\n",
    "T = np.array([\n",
    "    [ 1, 0, 0,    0.31],\n",
    "    [ 0, 1, 0, -0.0864],\n",
    "    [ 0, 0, 1,  1.0670],\n",
    "    [ 0, 0, 0,       1]])\n",
    "\n",
    "\n",
    "h7 = 0.06 # zero position에서 Endeffector의 offset\n",
    "Tee = np.array([\n",
    "    [ 1, 0, 0,  0],\n",
    "    [ 0, 1, 0,  0],\n",
    "    [ 0, 0, 1, h7],\n",
    "    [ 0, 0, 0,  1]])\n",
    "M = np.array([\n",
    "    [ 1, 0, 0,       0],\n",
    "    [ 0, 1, 0, -0.1864],\n",
    "    [ 0, 0, 1,  1.2670],\n",
    "    [ 0, 0, 0,       1]])\n",
    "Blist = np.array([\n",
    "    [ 0.1864,0,0,0,\t0,1],\n",
    "    [-0.9675,0,0,0,-1,0],\n",
    "    [-0.0073,0,0,0,\t0,1],\n",
    "    [ -0.518,0,0,0,-1,0],\n",
    "    [  0.183,0,0,0,\t0,1],\n",
    "    [ -0.168,0,0,0,-1,0],\n",
    "    [      0,0,0,0,\t0,1]]).T\n",
    "Slist = np.array([\n",
    "    [      0,0,0,0, 0,1],\n",
    "    [ 0.2995,0,0,0,-1,0],\n",
    "    [-0.1937,0,0,0, 0,1],\n",
    "    [  0.749,0,0,0,-1,0],\n",
    "    [-0.0034,0,0,0, 0,1],\n",
    "    [  1.099,0,0,0,-1,0],\n",
    "    [-0.1864,0,0,0, 0,1]]).T\n",
    "\n",
    "eomg = 0.0001\n",
    "ev = 0.0001\n",
    "amp_noise = 10\n",
    "#thetalist0 = np.zeros(p.getNumJoints(robot_id))\n",
    "thetalist0 = (np.random.rand(p.getNumJoints(robot_id))-1.0)*2.0\n",
    "thetalist_IK = IKinBody(Blist, M, np.dot(TransInv(Tee),T), thetalist0*np.pi/180.0, eomg, ev, maxiter=1000)\n",
    "# thetalist_IK = IKinSpace(Slist, M, T, thetalist0*np.pi/180.0, eomg, ev, maxiter=1000)\n",
    "qw = np.sqrt(1+T[0,0]+T[1,1]+T[2,2])/2.0\n",
    "p.resetBasePositionAndOrientation(end_effector_visual_cal_id, T[0:3,3], [(T[2,1]-T[1,2])/(4*qw),(T[0,2]-T[2,0])/(4*qw),(T[1,0]-T[0,1])/(4*qw),qw])\n",
    "# Apply Joint Angle Constrains\n",
    "if True:\n",
    "    print(\">>> InvKine Joint Angle(rad): \", [round(x,4) for x in thetalist_IK[0]], thetalist_IK[1])\n",
    "    print(\">>> InvKine Joint Angle(deg): \", [round(x,2) for x in thetalist_IK[0]*180.0/np.pi], thetalist_IK[1])\n",
    "    for i in range(p.getNumJoints(robot_id)):\n",
    "        if thetalist_IK[0][i] < np.pi and thetalist_IK[0][i] > -np.pi:\n",
    "            thetalist_IK[0][i] = thetalist_IK[0][i]\n",
    "        else:\n",
    "            thetalist_IK[0][i] = (thetalist_IK[0][i]+np.pi) % (np.pi*2) - np.pi\n",
    "    print(\">>> Result of IK(deg,%,const): \", [round(x,2) for x in thetalist_IK[0]*180.0/np.pi])\n",
    "\n",
    "print(\">>> Initial Joint Angle: \",[round(x,2) for x in thetalist0])\n",
    "print(\">>> InvKine Joint Angle: \", [round(x,2) for x in thetalist_IK[0]*180.0/np.pi], thetalist_IK[1])\n",
    "print(\">>> Desired Position(Cal): \",[round(x,4) for x in T[0:3,3]])\n",
    "\n",
    "# Set Zero Position\n",
    "p.setJointMotorControlArray(bodyUniqueId=robot_id,\n",
    "                                jointIndices=range(p.getNumJoints(robot_id)),\n",
    "                                controlMode=p.POSITION_CONTROL,\n",
    "                                targetPositions=np.zeros(7).reshape([p.getNumJoints(robot_id)]))\n",
    "for i in range(100):\n",
    "    p.stepSimulation()\n",
    "    end_effector_link_index = 6  # Replace with the index of your robot's end-effector link\n",
    "    end_effector_offset = np.dot(np.array(p.getMatrixFromQuaternion(p.getLinkState(robot_id, end_effector_link_index)[1])).reshape((3,3)),np.array([0,0,h7]))\n",
    "    p.resetBasePositionAndOrientation(end_effector_visual_sim_id,\n",
    "                                      np.array(p.getLinkState(robot_id, end_effector_link_index)[0])+end_effector_offset, \n",
    "                                      p.getLinkState(robot_id, end_effector_link_index)[1])\n",
    "    time.sleep(1./240)\n",
    "\n",
    "# Plot Inverse Kinematics Position\n",
    "p.setJointMotorControlArray(bodyUniqueId=robot_id,\n",
    "                                jointIndices=range(p.getNumJoints(robot_id)),\n",
    "                                controlMode=p.POSITION_CONTROL,\n",
    "                                targetPositions=(thetalist_IK[0]).reshape([p.getNumJoints(robot_id)]))\n",
    "for i in range(100):\n",
    "    p.stepSimulation()\n",
    "    end_effector_link_index = 6  # Replace with the index of your robot's end-effector link\n",
    "    end_effector_offset = np.dot(np.array(p.getMatrixFromQuaternion(p.getLinkState(robot_id, end_effector_link_index)[1])).reshape((3,3)),np.array([0,0,h7]))\n",
    "    p.resetBasePositionAndOrientation(end_effector_visual_sim_id,\n",
    "                                      np.array(p.getLinkState(robot_id, end_effector_link_index)[0])+end_effector_offset, \n",
    "                                      p.getLinkState(robot_id, end_effector_link_index)[1])\n",
    "    time.sleep(1./240)\n",
    "print(\">>> Final   Position(Sim): \", [round(x,4) for x in p.getLinkState(robot_id,p.getNumJoints(robot_id)-1)[0]])\n",
    "print(\">>> Differ  Position     : \", [round(x,4) for x in p.getLinkState(robot_id,p.getNumJoints(robot_id)-1)[0]-T[0:3,3]])\n"
   ]
  },
  {
   "attachments": {},
   "cell_type": "markdown",
   "metadata": {},
   "source": [
    "# Generate Circular Motion"
   ]
  },
  {
   "attachments": {},
   "cell_type": "markdown",
   "metadata": {},
   "source": [
    "## Generate circle in Space 1"
   ]
  },
  {
   "cell_type": "code",
   "execution_count": 8,
   "metadata": {},
   "outputs": [
    {
     "data": {
      "image/png": "[encoded data removed]",
      "text/plain": [
       "<Figure size 640x480 with 1 Axes>"
      ]
     },
     "metadata": {},
     "output_type": "display_data"
    }
   ],
   "source": [
    "from matplotlib import pyplot as plt\n",
    "\n",
    "#creating a 3d numpy array (empty in this example, but will represent a binary 3D image in my application)\n",
    "space=np.zeros((40,40,20))\n",
    "\n",
    "r = 8 #radius of the circle\n",
    "theta = np.pi / 5 # \"tilt\" of the circle\n",
    "phirange = np.arange(0, 2 * np.pi,0.2) #to make a full circle\n",
    "\n",
    "#center of the circle\n",
    "center=[10.0,10.0,10.0]\n",
    "\n",
    "#computing the values of the circle in spherical coordinates and converting them\n",
    "#back to cartesian\n",
    "for phi in phirange:\n",
    "    x = r * np.cos(theta) * np.cos(phi) + center[0]\n",
    "    y=  r * np.sin(phi)  + center[1]\n",
    "    z=  r * np.sin(theta)* np.cos(phi) + center[2]\n",
    "    space[int(round(x)),int(round(y)),int(round(z))]=1\n",
    "\n",
    "x,y,z = space.nonzero()\n",
    "\n",
    "#plotting\n",
    "fig = plt.figure()\n",
    "ax = fig.add_subplot(111, projection='3d')\n",
    "ax.scatter(x, y, z, zdir='z', c= 'red')\n",
    "plt.show()"
   ]
  },
  {
   "attachments": {},
   "cell_type": "markdown",
   "metadata": {},
   "source": [
    "## Generate circle in Space 2"
   ]
  },
  {
   "cell_type": "code",
   "execution_count": 148,
   "metadata": {},
   "outputs": [
    {
     "name": "stderr",
     "output_type": "stream",
     "text": [
      "C:\\Users\\user\\AppData\\Local\\Temp\\ipykernel_31800\\670902190.py:20: UserWarning: No data for colormapping provided via 'c'. Parameters 'cmap' will be ignored\n",
      "  ax.scatter(x_circle,y_circle,z_circle, marker='o', s=15, cmap='Greens')\n"
     ]
    },
    {
     "data": {
      "image/png": "[encoded data removed]",
      "text/plain": [
       "<Figure size 600x600 with 1 Axes>"
      ]
     },
     "metadata": {},
     "output_type": "display_data"
    }
   ],
   "source": [
    "from matplotlib import pyplot as plt\n",
    "\n",
    "t = np.arange(0,2*np.pi,0.2)\n",
    "r = 0.3\n",
    "p0 = np.array([0.2,0.2,1.0])\n",
    "p1 = np.array([1,1,-0.7])\n",
    "p1 =  p1 / np.linalg.norm(p1) \n",
    "p2 = np.array([1,-1,0])\n",
    "p2 =  p2 / np.linalg.norm(p2) \n",
    "p_circle = []\n",
    "for tt in t : \n",
    "    p_circle.append(p0+r*np.cos(tt)*p1+r*np.sin(tt)*p2)\n",
    "p_circle = np.array(p_circle)\n",
    "\n",
    "fig = plt.figure(figsize=(6, 6))\n",
    "ax = fig.add_subplot(111, projection='3d')\n",
    "x_circle = p_circle[:,0]\n",
    "y_circle = p_circle[:,1]\n",
    "z_circle = p_circle[:,2]\n",
    "ax.scatter(x_circle,y_circle,z_circle, marker='o', s=15, cmap='Greens')\n",
    "\n",
    "plt.show()"
   ]
  },
  {
   "attachments": {},
   "cell_type": "markdown",
   "metadata": {},
   "source": [
    "## Plot circle in 3D Space"
   ]
  },
  {
   "cell_type": "code",
   "execution_count": 165,
   "metadata": {},
   "outputs": [],
   "source": [
    "# circle 표시\n",
    "x_circle = np.array(x_circle)\n",
    "y_circle = np.array(y_circle)\n",
    "z_circle = np.array(z_circle)\n",
    "for i in range(len(x_circle)):\n",
    "    exec(f\"trace{i}_visual_shape = p.createVisualShape(p.GEOM_SPHERE, radius=0.03, rgbaColor=[0, 0, 1, 1])  # Red sphere shape\")\n",
    "    exec(f\"trace{i}_visual_id = p.createMultiBody(baseMass=0, baseVisualShapeIndex=trace{i}_visual_shape)\")\n",
    "    exec(f\"p.resetBasePositionAndOrientation(trace{i}_visual_id, [x_circle[{i}],y_circle[{i}],z_circle[{i}]], [1,0,0,1])\")"
   ]
  },
  {
   "cell_type": "code",
   "execution_count": 163,
   "metadata": {},
   "outputs": [],
   "source": [
    "def isRemainObject(id):\n",
    "    if id in [robot_id, plain_id, x_axis_visual_id, y_axis_visual_id, z_axis_visual_id]: return False\n",
    "    else: return True\n",
    "\n",
    "for i in [x for x in range(0,100) if isRemainObject(x)]:\n",
    "    #print(f\"Removed Body {i}\")\n",
    "    p.removeBody(i)"
   ]
  },
  {
   "attachments": {},
   "cell_type": "markdown",
   "metadata": {},
   "source": [
    "## Tracking Circle"
   ]
  },
  {
   "attachments": {},
   "cell_type": "markdown",
   "metadata": {},
   "source": [
    "## Tracking Circle 1"
   ]
  },
  {
   "cell_type": "code",
   "execution_count": 80,
   "metadata": {},
   "outputs": [
    {
     "name": "stderr",
     "output_type": "stream",
     "text": [
      "[IKinBody] Root Finding with iterative Newton-Raphson:   1%|▏         | 14/1000 [00:00<00:01, 540.30it/s]\n"
     ]
    },
    {
     "name": "stdout",
     "output_type": "stream",
     "text": [
      ">>> InvKine Joint Angle(rad):  [26.9071, 64.1188, -75.567, -77.0976, 68.7311, 19.2945, -32.7929] True\n",
      ">>> InvKine Joint Angle(deg):  [1541.66, 3673.73, -4329.67, -4417.37, 3938.0, 1105.5, -1878.9] True\n",
      ">>> Result of IK(deg,%,const):  [101.66, 73.73, -9.67, -97.37, -22.0, 25.5, -78.9]\n",
      ">>> Initial Joint Angle:  [-0.8, -1.79, -0.04, -1.35, -1.29, -0.64, -0.91]\n",
      ">>> InvKine Joint Angle:  [101.66, 73.73, -9.67, -97.37, -22.0, 25.5, -78.9] True\n",
      ">>> Desired Position(Cal):  [0.3, -0.3, 1.0]\n",
      ">>> Final   Position(Sim):  [0.3, -0.3, 0.94]\n",
      ">>> Differ  Position     :  [-0.0, 0.0, -0.06]\n"
     ]
    },
    {
     "name": "stderr",
     "output_type": "stream",
     "text": [
      "[IKinBody] Root Finding with iterative Newton-Raphson:   1%|          | 9/1000 [00:00<00:01, 501.66it/s]"
     ]
    },
    {
     "name": "stdout",
     "output_type": "stream",
     "text": [
      ">>> InvKine Joint Angle(rad):  [-4.0607, 18.9633, -0.3252, -55.2915, 18.8866, 17.4845, -8.19] True\n",
      ">>> InvKine Joint Angle(deg):  [-232.66, 1086.51, -18.63, -3167.97, 1082.12, 1001.79, -469.25] True\n",
      ">>> Result of IK(deg,%,const):  [127.34, 6.51, -18.63, 72.03, 2.12, -78.21, -109.25]\n",
      ">>> Initial Joint Angle:  [1.77, 1.29, -0.17, -1.7, -0.38, 0.44, -1.38]\n",
      ">>> InvKine Joint Angle:  [127.34, 6.51, -18.63, 72.03, 2.12, -78.21, -109.25] True\n",
      ">>> Desired Position(Cal):  [0.2907, -0.2475, 1.0525]\n"
     ]
    },
    {
     "name": "stderr",
     "output_type": "stream",
     "text": [
      "\n"
     ]
    },
    {
     "name": "stdout",
     "output_type": "stream",
     "text": [
      ">>> Final   Position(Sim):  [0.2907, -0.2475, 0.9925]\n",
      ">>> Differ  Position     :  [0.0, -0.0, -0.06]\n"
     ]
    },
    {
     "name": "stderr",
     "output_type": "stream",
     "text": [
      "[IKinBody] Root Finding with iterative Newton-Raphson:   1%|          | 10/1000 [00:00<00:02, 477.78it/s]"
     ]
    },
    {
     "name": "stdout",
     "output_type": "stream",
     "text": [
      ">>> InvKine Joint Angle(rad):  [17.6648, -13.4776, -4.7103, 43.1728, 2.0812, -26.2658, -2.8829] True\n",
      ">>> InvKine Joint Angle(deg):  [1012.12, -772.21, -269.88, 2473.62, 119.24, -1504.92, -165.18] True\n",
      ">>> Result of IK(deg,%,const):  [-67.88, -52.21, 90.12, -46.38, 119.24, -64.92, -165.18]\n",
      ">>> Initial Joint Angle:  [2.22, 0.11, -0.33, 1.26, 0.04, -1.37, -1.91]\n",
      ">>> InvKine Joint Angle:  [-67.88, -52.21, 90.12, -46.38, 119.24, -64.92, -165.18] True\n",
      ">>> Desired Position(Cal):  [0.2633, -0.1983, 1.1017]\n"
     ]
    },
    {
     "name": "stderr",
     "output_type": "stream",
     "text": [
      "\n"
     ]
    },
    {
     "name": "stdout",
     "output_type": "stream",
     "text": [
      ">>> Final   Position(Sim):  [0.2633, -0.1983, 1.0417]\n",
      ">>> Differ  Position     :  [0.0, 0.0, -0.06]\n"
     ]
    },
    {
     "name": "stderr",
     "output_type": "stream",
     "text": [
      "[IKinBody] Root Finding with iterative Newton-Raphson:   1%|          | 10/1000 [00:00<00:02, 436.15it/s]"
     ]
    },
    {
     "name": "stdout",
     "output_type": "stream",
     "text": [
      ">>> InvKine Joint Angle(rad):  [-21.3263, 0.4376, 25.4456, 5.0367, 22.168, -0.8355, -26.2019] True\n",
      ">>> InvKine Joint Angle(deg):  [-1221.91, 25.07, 1457.93, 288.58, 1270.13, -47.87, -1501.26] True\n",
      ">>> Result of IK(deg,%,const):  [-141.91, 25.07, 17.93, -71.42, -169.87, -47.87, -61.26]\n",
      ">>> Initial Joint Angle:  [-1.18, -0.91, 1.57, -0.81, 2.08, -1.13, -2.88]\n",
      ">>> InvKine Joint Angle:  [-141.91, 25.07, 17.93, -71.42, -169.87, -47.87, -61.26] True\n",
      ">>> Desired Position(Cal):  [0.2195, -0.1554, 1.1446]\n"
     ]
    },
    {
     "name": "stderr",
     "output_type": "stream",
     "text": [
      "\n"
     ]
    },
    {
     "name": "stdout",
     "output_type": "stream",
     "text": [
      ">>> Final   Position(Sim):  [0.1997, -0.1115, 1.1166]\n",
      ">>> Differ  Position     :  [-0.0198, 0.0439, -0.028]\n"
     ]
    },
    {
     "name": "stderr",
     "output_type": "stream",
     "text": [
      "[IKinBody] Root Finding with iterative Newton-Raphson:   2%|▏         | 21/1000 [00:00<00:01, 520.20it/s]"
     ]
    },
    {
     "name": "stdout",
     "output_type": "stream",
     "text": [
      ">>> InvKine Joint Angle(rad):  [-80.0156, 32.1303, 15.876, -23.8431, 63.0297, 24.5413, 20.033] True\n",
      ">>> InvKine Joint Angle(deg):  [-4584.56, 1840.93, 909.63, -1366.11, 3611.34, 1406.11, 1147.81] True\n",
      ">>> Result of IK(deg,%,const):  [95.44, 40.93, -170.37, 73.89, 11.34, -33.89, 67.81]\n",
      ">>> Initial Joint Angle:  [-2.48, 0.44, 0.31, -1.25, -2.96, -0.84, -1.07]\n",
      ">>> InvKine Joint Angle:  [95.44, 40.93, -170.37, 73.89, 11.34, -33.89, 67.81] True\n",
      ">>> Desired Position(Cal):  [0.1621, -0.1215, 1.1785]\n"
     ]
    },
    {
     "name": "stderr",
     "output_type": "stream",
     "text": [
      "\n"
     ]
    },
    {
     "name": "stdout",
     "output_type": "stream",
     "text": [
      ">>> Final   Position(Sim):  [0.1621, -0.1215, 1.1185]\n",
      ">>> Differ  Position     :  [-0.0, -0.0001, -0.06]\n"
     ]
    },
    {
     "name": "stderr",
     "output_type": "stream",
     "text": [
      "[IKinBody] Root Finding with iterative Newton-Raphson:   1%|          | 10/1000 [00:00<00:02, 345.97it/s]"
     ]
    },
    {
     "name": "stdout",
     "output_type": "stream",
     "text": [
      ">>> InvKine Joint Angle(rad):  [-1.1068, -0.8105, -18.7365, 13.4182, 16.7817, -18.7564, 3.0984] True\n",
      ">>> InvKine Joint Angle(deg):  [-63.41, -46.44, -1073.52, 768.81, 961.52, -1074.66, 177.53] True\n",
      ">>> Result of IK(deg,%,const):  [-63.41, -46.44, 6.48, 48.81, -118.48, 5.34, 177.53]\n",
      ">>> Initial Joint Angle:  [1.67, 0.71, -2.97, 1.29, 0.2, -0.59, 1.18]\n",
      ">>> InvKine Joint Angle:  [-63.41, -46.44, 6.48, 48.81, -118.48, 5.34, 177.53] True\n",
      ">>> Desired Position(Cal):  [0.0946, -0.0987, 1.2013]\n"
     ]
    },
    {
     "name": "stderr",
     "output_type": "stream",
     "text": [
      "\n"
     ]
    },
    {
     "name": "stdout",
     "output_type": "stream",
     "text": [
      ">>> Final   Position(Sim):  [0.0946, -0.0986, 1.1413]\n",
      ">>> Differ  Position     :  [0.0, 0.0001, -0.06]\n"
     ]
    },
    {
     "name": "stderr",
     "output_type": "stream",
     "text": [
      "[IKinBody] Root Finding with iterative Newton-Raphson:   1%|          | 6/1000 [00:00<00:02, 493.47it/s]"
     ]
    },
    {
     "name": "stdout",
     "output_type": "stream",
     "text": [
      ">>> InvKine Joint Angle(rad):  [-23.4077, -12.0182, -12.1816, 18.1544, 7.1212, -6.017, 28.538] True\n",
      ">>> InvKine Joint Angle(deg):  [-1341.16, -688.59, -697.95, 1040.17, 408.01, -344.75, 1635.11] True\n",
      ">>> Result of IK(deg,%,const):  [98.84, 31.41, 22.05, -39.83, 48.01, 15.25, -164.89]\n",
      ">>> Initial Joint Angle:  [-1.11, -0.81, 0.11, 0.85, -2.07, 0.09, 3.1]\n",
      ">>> InvKine Joint Angle:  [98.84, 31.41, 22.05, -39.83, 48.01, 15.25, -164.89] True\n",
      ">>> Desired Position(Cal):  [0.0212, -0.0884, 1.2116]\n"
     ]
    },
    {
     "name": "stderr",
     "output_type": "stream",
     "text": [
      "\n"
     ]
    },
    {
     "name": "stdout",
     "output_type": "stream",
     "text": [
      ">>> Final   Position(Sim):  [0.0213, -0.0885, 1.1517]\n",
      ">>> Differ  Position     :  [0.0001, -0.0001, -0.0599]\n"
     ]
    },
    {
     "name": "stderr",
     "output_type": "stream",
     "text": [
      "[IKinBody] Root Finding with iterative Newton-Raphson:   1%|          | 9/1000 [00:00<00:02, 430.00it/s]"
     ]
    },
    {
     "name": "stdout",
     "output_type": "stream",
     "text": [
      ">>> InvKine Joint Angle(rad):  [13.3949, -5.7613, -8.744, -105.5953, 38.1313, -19.6963, 7.6875] True\n",
      ">>> InvKine Joint Angle(deg):  [767.47, -330.1, -500.99, -6050.16, 2184.76, -1128.51, 440.46] True\n",
      ">>> Result of IK(deg,%,const):  [47.47, 29.9, -140.99, 69.84, 24.76, -48.51, 80.46]\n",
      ">>> Initial Joint Angle:  [1.73, 0.55, 0.38, -0.7, 0.84, 0.27, -2.88]\n",
      ">>> InvKine Joint Angle:  [47.47, 29.9, -140.99, 69.84, 24.76, -48.51, 80.46] True\n",
      ">>> Desired Position(Cal):  [-0.0535, -0.0913, 1.2087]\n"
     ]
    },
    {
     "name": "stderr",
     "output_type": "stream",
     "text": [
      "\n"
     ]
    },
    {
     "name": "stdout",
     "output_type": "stream",
     "text": [
      ">>> Final   Position(Sim):  [-0.0535, -0.0913, 1.1487]\n",
      ">>> Differ  Position     :  [-0.0, -0.0, -0.06]\n"
     ]
    },
    {
     "name": "stderr",
     "output_type": "stream",
     "text": [
      "[IKinBody] Root Finding with iterative Newton-Raphson:   1%|▏         | 13/1000 [00:00<00:02, 483.09it/s]"
     ]
    },
    {
     "name": "stdout",
     "output_type": "stream",
     "text": [
      ">>> InvKine Joint Angle(rad):  [15.0395, 6.7871, 18.7964, 23.9262, -3.1812, -25.8363, -18.1044] True\n",
      ">>> InvKine Joint Angle(deg):  [861.7, 388.87, 1076.96, 1370.87, -182.27, -1480.31, -1037.3] True\n",
      ">>> Result of IK(deg,%,const):  [141.7, 28.87, -3.04, -69.13, 177.73, -40.31, 42.7]\n",
      ">>> Initial Joint Angle:  [0.83, 0.52, -2.46, 1.22, 0.43, -0.85, 1.4]\n",
      ">>> InvKine Joint Angle:  [141.7, 28.87, -3.04, -69.13, 177.73, -40.31, 42.7] True\n",
      ">>> Desired Position(Cal):  [-0.1248, -0.1071, 1.1929]\n"
     ]
    },
    {
     "name": "stderr",
     "output_type": "stream",
     "text": [
      "\n"
     ]
    },
    {
     "name": "stdout",
     "output_type": "stream",
     "text": [
      ">>> Final   Position(Sim):  [-0.1883, -0.0864, 1.0814]\n",
      ">>> Differ  Position     :  [-0.0635, 0.0207, -0.1115]\n"
     ]
    },
    {
     "name": "stderr",
     "output_type": "stream",
     "text": [
      "[IKinBody] Root Finding with iterative Newton-Raphson:   3%|▎         | 28/1000 [00:00<00:02, 476.12it/s]"
     ]
    },
    {
     "name": "stdout",
     "output_type": "stream",
     "text": [
      ">>> InvKine Joint Angle(rad):  [35.5164, 17.847, -35.3061, -7.1741, 26.7562, -6.8951, -39.8295] True\n",
      ">>> InvKine Joint Angle(deg):  [2034.94, 1022.56, -2022.89, -411.04, 1533.02, -395.06, -2282.06] True\n",
      ">>> Result of IK(deg,%,const):  [-125.06, -57.44, 137.11, -51.04, 93.02, -35.06, -122.06]\n",
      ">>> Initial Joint Angle:  [2.47, 0.5, -0.05, -1.21, 3.1, -0.7, 0.75]\n",
      ">>> InvKine Joint Angle:  [-125.06, -57.44, 137.11, -51.04, 93.02, -35.06, -122.06] True\n",
      ">>> Desired Position(Cal):  [-0.1885, -0.1349, 1.1651]\n"
     ]
    },
    {
     "name": "stderr",
     "output_type": "stream",
     "text": [
      "\n"
     ]
    },
    {
     "name": "stdout",
     "output_type": "stream",
     "text": [
      ">>> Final   Position(Sim):  [-0.1884, -0.135, 1.1051]\n",
      ">>> Differ  Position     :  [0.0001, -0.0, -0.06]\n"
     ]
    },
    {
     "name": "stderr",
     "output_type": "stream",
     "text": [
      "[IKinBody] Root Finding with iterative Newton-Raphson:   1%|          | 9/1000 [00:00<00:02, 451.47it/s]"
     ]
    },
    {
     "name": "stdout",
     "output_type": "stream",
     "text": [
      ">>> InvKine Joint Angle(rad):  [-30.2929, -11.6116, 62.8929, 11.6583, 33.7298, -6.2155, -47.4556] True\n",
      ">>> InvKine Joint Angle(deg):  [-1735.66, -665.3, 3603.5, 667.97, 1932.57, -356.12, -2719.01] True\n",
      ">>> Result of IK(deg,%,const):  [64.34, 54.7, 3.5, -52.03, 132.57, 3.88, 160.99]\n",
      ">>> Initial Joint Angle:  [-2.18, -1.0, 2.39, -0.89, 1.62, -0.61, -2.13]\n",
      ">>> InvKine Joint Angle:  [64.34, 54.7, 3.5, -52.03, 132.57, 3.88, 160.99] True\n",
      ">>> Desired Position(Cal):  [-0.2403, -0.173, 1.127]\n"
     ]
    },
    {
     "name": "stderr",
     "output_type": "stream",
     "text": [
      "\n"
     ]
    },
    {
     "name": "stdout",
     "output_type": "stream",
     "text": [
      ">>> Final   Position(Sim):  [-0.2404, -0.173, 1.067]\n",
      ">>> Differ  Position     :  [-0.0, 0.0001, -0.06]\n"
     ]
    },
    {
     "name": "stderr",
     "output_type": "stream",
     "text": [
      "[IKinBody] Root Finding with iterative Newton-Raphson:   1%|▏         | 14/1000 [00:00<00:01, 529.91it/s]"
     ]
    },
    {
     "name": "stdout",
     "output_type": "stream",
     "text": [
      ">>> InvKine Joint Angle(rad):  [79.0892, 37.4355, 35.4789, -30.4899, -25.3679, -7.3824, -76.7435] True\n",
      ">>> InvKine Joint Angle(deg):  [4531.48, 2144.89, 2032.79, -1746.94, -1453.47, -422.98, -4397.08] True\n",
      ">>> Result of IK(deg,%,const):  [-148.52, -15.11, -127.21, 53.06, -13.47, -62.98, -77.08]\n",
      ">>> Initial Joint Angle:  [1.12, 0.95, 0.06, -0.91, 2.31, 0.07, 2.81]\n",
      ">>> InvKine Joint Angle:  [-148.52, -15.11, -127.21, 53.06, -13.47, -62.98, -77.08] True\n",
      ">>> Desired Position(Cal):  [-0.2773, -0.219, 1.081]\n"
     ]
    },
    {
     "name": "stderr",
     "output_type": "stream",
     "text": [
      "\n"
     ]
    },
    {
     "name": "stdout",
     "output_type": "stream",
     "text": [
      ">>> Final   Position(Sim):  [-0.2772, -0.219, 1.021]\n",
      ">>> Differ  Position     :  [0.0001, -0.0, -0.06]\n"
     ]
    },
    {
     "name": "stderr",
     "output_type": "stream",
     "text": [
      "[IKinBody] Root Finding with iterative Newton-Raphson:   0%|          | 5/1000 [00:00<00:02, 456.07it/s]"
     ]
    },
    {
     "name": "stdout",
     "output_type": "stream",
     "text": [
      ">>> InvKine Joint Angle(rad):  [91.7653, -12.8806, 154.7633, 32.4157, -81.9251, -20.076, -164.7385] True\n",
      ">>> InvKine Joint Angle(deg):  [5257.77, -738.0, 8867.29, 1857.28, -4693.96, -1150.27, -9438.82] True\n",
      ">>> Result of IK(deg,%,const):  [-142.23, -18.0, -132.71, 57.28, -13.96, -70.27, -78.82]\n",
      ">>> Initial Joint Angle:  [-2.59, -0.26, -2.22, 0.93, -0.24, -1.1, -1.35]\n",
      ">>> InvKine Joint Angle:  [-142.23, -18.0, -132.71, 57.28, -13.96, -70.27, -78.82] True\n",
      ">>> Desired Position(Cal):  [-0.297, -0.2701, 1.0299]\n"
     ]
    },
    {
     "name": "stderr",
     "output_type": "stream",
     "text": [
      "\n"
     ]
    },
    {
     "name": "stdout",
     "output_type": "stream",
     "text": [
      ">>> Final   Position(Sim):  [-0.297, -0.2701, 0.9699]\n",
      ">>> Differ  Position     :  [0.0, 0.0, -0.06]\n"
     ]
    },
    {
     "name": "stderr",
     "output_type": "stream",
     "text": [
      "[IKinBody] Root Finding with iterative Newton-Raphson:   1%|          | 11/1000 [00:00<00:01, 513.07it/s]"
     ]
    },
    {
     "name": "stdout",
     "output_type": "stream",
     "text": [
      ">>> InvKine Joint Angle(rad):  [87.0351, -19.6468, 192.2685, 42.4688, -106.2482, -17.9431, -178.987] True\n",
      ">>> InvKine Joint Angle(deg):  [4986.75, -1125.68, 11016.18, 2433.28, -6087.57, -1028.07, -10255.2] True\n",
      ">>> Result of IK(deg,%,const):  [-53.25, -45.68, -143.82, -86.72, 32.43, 51.93, -175.2]\n",
      ">>> Initial Joint Angle:  [-2.48, -0.31, -2.32, 1.0, -0.24, -1.23, -1.38]\n",
      ">>> InvKine Joint Angle:  [-53.25, -45.68, -143.82, -86.72, 32.43, 51.93, -175.2] True\n",
      ">>> Desired Position(Cal):  [-0.2982, -0.323, 0.977]\n"
     ]
    },
    {
     "name": "stderr",
     "output_type": "stream",
     "text": [
      "\n"
     ]
    },
    {
     "name": "stdout",
     "output_type": "stream",
     "text": [
      ">>> Final   Position(Sim):  [-0.2983, -0.323, 0.917]\n",
      ">>> Differ  Position     :  [-0.0, -0.0, -0.06]\n"
     ]
    },
    {
     "name": "stderr",
     "output_type": "stream",
     "text": [
      "[IKinBody] Root Finding with iterative Newton-Raphson:   1%|          | 7/1000 [00:00<00:02, 390.18it/s]"
     ]
    },
    {
     "name": "stdout",
     "output_type": "stream",
     "text": [
      ">>> InvKine Joint Angle(rad):  [-27.3633, 6.2824, 92.3354, -54.8311, -28.2751, 45.7001, -36.6979] True\n",
      ">>> InvKine Joint Angle(deg):  [-1567.8, 359.96, 5290.43, -3141.59, -1620.04, 2618.42, -2102.63] True\n",
      ">>> Result of IK(deg,%,const):  [-127.8, -0.04, -109.57, 98.41, 179.96, 98.42, 57.37]\n",
      ">>> Initial Joint Angle:  [-0.93, -0.8, -2.51, -1.51, 0.57, 0.91, -3.06]\n",
      ">>> InvKine Joint Angle:  [-127.8, -0.04, -109.57, 98.41, 179.96, 98.42, 57.37] True\n",
      ">>> Desired Position(Cal):  [-0.2809, -0.3744, 0.9256]\n"
     ]
    },
    {
     "name": "stderr",
     "output_type": "stream",
     "text": [
      "\n"
     ]
    },
    {
     "name": "stdout",
     "output_type": "stream",
     "text": [
      ">>> Final   Position(Sim):  [-0.2022, -0.3347, 0.9269]\n",
      ">>> Differ  Position     :  [0.0788, 0.0397, 0.0013]\n"
     ]
    },
    {
     "name": "stderr",
     "output_type": "stream",
     "text": [
      "[IKinBody] Root Finding with iterative Newton-Raphson:   0%|          | 5/1000 [00:00<00:02, 418.03it/s]"
     ]
    },
    {
     "name": "stdout",
     "output_type": "stream",
     "text": [
      ">>> InvKine Joint Angle(rad):  [26.3013, -17.3365, 16.719, 7.2513, -82.9617, 7.3653, 40.5839] True\n",
      ">>> InvKine Joint Angle(deg):  [1506.96, -993.31, 957.93, 415.47, -4753.35, 422.0, 2325.29] True\n",
      ">>> Result of IK(deg,%,const):  [66.96, 86.69, -122.07, 55.47, -73.35, 62.0, 165.29]\n",
      ">>> Initial Joint Angle:  [-2.23, -0.0, -1.91, 1.72, 3.14, 1.72, 1.0]\n",
      ">>> InvKine Joint Angle:  [66.96, 86.69, -122.07, 55.47, -73.35, 62.0, 165.29] True\n",
      ">>> Desired Position(Cal):  [-0.2462, -0.4212, 0.8788]\n"
     ]
    },
    {
     "name": "stderr",
     "output_type": "stream",
     "text": [
      "\n"
     ]
    },
    {
     "name": "stdout",
     "output_type": "stream",
     "text": [
      ">>> Final   Position(Sim):  [-0.2462, -0.4212, 0.8188]\n",
      ">>> Differ  Position     :  [-0.0, 0.0001, -0.06]\n"
     ]
    },
    {
     "name": "stderr",
     "output_type": "stream",
     "text": [
      "[IKinBody] Root Finding with iterative Newton-Raphson:   1%|          | 6/1000 [00:00<00:01, 547.31it/s]"
     ]
    },
    {
     "name": "stdout",
     "output_type": "stream",
     "text": [
      ">>> InvKine Joint Angle(rad):  [50.9073, -4.5853, -63.1311, 10.503, -50.9808, -5.8211, 62.8119] True\n",
      ">>> InvKine Joint Angle(deg):  [2916.77, -262.72, -3617.15, 601.78, -2920.98, -333.52, 3598.86] True\n",
      ">>> Result of IK(deg,%,const):  [36.77, 97.28, -17.15, -118.22, -40.98, 26.48, -1.14]\n",
      ">>> Initial Joint Angle:  [1.17, 1.51, -2.13, 0.97, -1.28, 1.08, 2.88]\n",
      ">>> InvKine Joint Angle:  [36.77, 97.28, -17.15, -118.22, -40.98, 26.48, -1.14] True\n",
      ">>> Desired Position(Cal):  [-0.1961, -0.4605, 0.8395]\n"
     ]
    },
    {
     "name": "stderr",
     "output_type": "stream",
     "text": [
      "\n"
     ]
    },
    {
     "name": "stdout",
     "output_type": "stream",
     "text": [
      ">>> Final   Position(Sim):  [-0.1961, -0.4606, 0.7794]\n",
      ">>> Differ  Position     :  [0.0, -0.0001, -0.06]\n"
     ]
    },
    {
     "name": "stderr",
     "output_type": "stream",
     "text": [
      "[IKinBody] Root Finding with iterative Newton-Raphson:   3%|▎         | 28/1000 [00:00<00:02, 426.94it/s]"
     ]
    },
    {
     "name": "stdout",
     "output_type": "stream",
     "text": [
      ">>> InvKine Joint Angle(rad):  [-6.2099, 38.9216, 36.4381, -65.3679, -1.1231, -4.5946, -49.7613] True\n",
      ">>> InvKine Joint Angle(deg):  [-355.8, 2230.04, 2087.75, -3745.31, -64.35, -263.25, -2851.11] True\n",
      ">>> Result of IK(deg,%,const):  [4.2, 70.04, -72.25, -145.31, -64.35, 96.75, 28.89]\n",
      ">>> Initial Joint Angle:  [0.64, 1.7, -0.3, -2.06, -0.72, 0.46, -0.02]\n",
      ">>> InvKine Joint Angle:  [4.2, 70.04, -72.25, -145.31, -64.35, 96.75, 28.89] True\n",
      ">>> Desired Position(Cal):  [-0.1338, -0.4899, 0.8101]\n"
     ]
    },
    {
     "name": "stderr",
     "output_type": "stream",
     "text": [
      "\n"
     ]
    },
    {
     "name": "stdout",
     "output_type": "stream",
     "text": [
      ">>> Final   Position(Sim):  [-0.1338, -0.4899, 0.7501]\n",
      ">>> Differ  Position     :  [0.0, -0.0, -0.06]\n"
     ]
    },
    {
     "name": "stderr",
     "output_type": "stream",
     "text": [
      "[IKinBody] Root Finding with iterative Newton-Raphson:   0%|          | 5/1000 [00:00<00:03, 323.27it/s]"
     ]
    },
    {
     "name": "stdout",
     "output_type": "stream",
     "text": [
      ">>> InvKine Joint Angle(rad):  [-30.3377, 33.1732, 31.4207, -89.6615, 6.2057, 50.2049, -7.2832] True\n",
      ">>> InvKine Joint Angle(deg):  [-1738.22, 1900.68, 1800.27, -5137.22, 355.56, 2876.53, -417.3] True\n",
      ">>> Result of IK(deg,%,const):  [61.78, 100.68, 0.27, -97.22, -4.44, -3.47, -57.3]\n",
      ">>> Initial Joint Angle:  [0.07, 1.22, -1.26, -2.54, -1.12, 1.69, 0.5]\n",
      ">>> InvKine Joint Angle:  [61.78, 100.68, 0.27, -97.22, -4.44, -3.47, -57.3] True\n",
      ">>> Desired Position(Cal):  [-0.0632, -0.5074, 0.7926]\n"
     ]
    },
    {
     "name": "stderr",
     "output_type": "stream",
     "text": [
      "\n"
     ]
    },
    {
     "name": "stdout",
     "output_type": "stream",
     "text": [
      ">>> Final   Position(Sim):  [-0.0632, -0.5074, 0.7326]\n",
      ">>> Differ  Position     :  [0.0, -0.0, -0.06]\n"
     ]
    },
    {
     "name": "stderr",
     "output_type": "stream",
     "text": [
      "[IKinBody] Root Finding with iterative Newton-Raphson:   1%|▏         | 14/1000 [00:00<00:01, 502.91it/s]"
     ]
    },
    {
     "name": "stdout",
     "output_type": "stream",
     "text": [
      ">>> InvKine Joint Angle(rad):  [25.0013, 31.0821, 7.8977, -54.2388, 38.1428, 35.4246, -45.1695] True\n",
      ">>> InvKine Joint Angle(deg):  [1432.47, 1780.88, 452.5, -3107.65, 2185.42, 2029.68, -2588.02] True\n",
      ">>> Result of IK(deg,%,const):  [-7.53, -19.12, 92.5, 132.35, 25.42, -130.32, -68.02]\n",
      ">>> Initial Joint Angle:  [1.08, 1.76, 0.0, -1.7, -0.08, -0.06, -1.0]\n",
      ">>> InvKine Joint Angle:  [-7.53, -19.12, 92.5, 132.35, 25.42, -130.32, -68.02] True\n",
      ">>> Desired Position(Cal):  [0.0113, -0.512, 0.788]\n"
     ]
    },
    {
     "name": "stderr",
     "output_type": "stream",
     "text": [
      "\n"
     ]
    },
    {
     "name": "stdout",
     "output_type": "stream",
     "text": [
      ">>> Final   Position(Sim):  [0.0113, -0.512, 0.7281]\n",
      ">>> Differ  Position     :  [-0.0, -0.0, -0.06]\n"
     ]
    },
    {
     "name": "stderr",
     "output_type": "stream",
     "text": [
      "[IKinBody] Root Finding with iterative Newton-Raphson:   1%|          | 6/1000 [00:00<00:03, 279.88it/s]"
     ]
    },
    {
     "name": "stdout",
     "output_type": "stream",
     "text": [
      ">>> InvKine Joint Angle(rad):  [31.043, -20.5352, -46.9854, 67.4362, 1.6277, -43.8445, 14.4686] True\n",
      ">>> InvKine Joint Angle(deg):  [1778.63, -1176.58, -2692.06, 3863.81, 93.26, -2512.1, 828.99] True\n",
      ">>> Result of IK(deg,%,const):  [-21.37, -96.58, -172.06, -96.19, 93.26, 7.9, 108.99]\n",
      ">>> Initial Joint Angle:  [-0.13, -0.33, 1.61, 2.31, 0.44, -2.27, -1.19]\n",
      ">>> InvKine Joint Angle:  [-21.37, -96.58, -172.06, -96.19, 93.26, 7.9, 108.99] True\n",
      ">>> Desired Position(Cal):  [0.0851, -0.5034, 0.7966]\n"
     ]
    },
    {
     "name": "stderr",
     "output_type": "stream",
     "text": [
      "\n"
     ]
    },
    {
     "name": "stdout",
     "output_type": "stream",
     "text": [
      ">>> Final   Position(Sim):  [0.0851, -0.5035, 0.7366]\n",
      ">>> Differ  Position     :  [0.0, -0.0001, -0.06]\n"
     ]
    },
    {
     "name": "stderr",
     "output_type": "stream",
     "text": [
      "[IKinBody] Root Finding with iterative Newton-Raphson:   2%|▏         | 16/1000 [00:00<00:02, 416.92it/s]"
     ]
    },
    {
     "name": "stdout",
     "output_type": "stream",
     "text": [
      ">>> InvKine Joint Angle(rad):  [-29.5066, -6.1377, 88.3704, -29.5555, -22.0539, 27.1262, -36.8946] True\n",
      ">>> InvKine Joint Angle(deg):  [-1690.6, -351.66, 5063.25, -1693.41, -1263.6, 1554.22, -2113.91] True\n",
      ">>> Result of IK(deg,%,const):  [109.4, 8.34, 23.25, 106.59, 176.4, 114.22, 46.09]\n",
      ">>> Initial Joint Angle:  [-0.37, -1.69, -3.0, -1.68, 1.63, 0.14, 1.9]\n",
      ">>> InvKine Joint Angle:  [109.4, 8.34, 23.25, 106.59, 176.4, 114.22, 46.09] True\n",
      ">>> Desired Position(Cal):  [0.1536, -0.4822, 0.8178]\n"
     ]
    },
    {
     "name": "stderr",
     "output_type": "stream",
     "text": [
      "\n"
     ]
    },
    {
     "name": "stdout",
     "output_type": "stream",
     "text": [
      ">>> Final   Position(Sim):  [0.2193, -0.451, 0.8094]\n",
      ">>> Differ  Position     :  [0.0657, 0.0312, -0.0084]\n"
     ]
    },
    {
     "name": "stderr",
     "output_type": "stream",
     "text": [
      "[IKinBody] Root Finding with iterative Newton-Raphson:   2%|▏         | 18/1000 [00:00<00:01, 531.00it/s]"
     ]
    },
    {
     "name": "stdout",
     "output_type": "stream",
     "text": [
      ">>> InvKine Joint Angle(rad):  [-168.0476, 125.9407, 0.0392, -463.3495, -163.3741, 343.6922, 331.3692] True\n",
      ">>> InvKine Joint Angle(deg):  [-9628.42, 7215.87, 2.25, -26547.97, -9360.65, 19692.11, 18986.06] True\n",
      ">>> Result of IK(deg,%,const):  [91.58, 15.87, 2.25, 92.03, -0.65, -107.89, -93.94]\n",
      ">>> Initial Joint Angle:  [1.91, 0.15, 0.41, 1.86, 3.08, 1.99, 0.8]\n",
      ">>> InvKine Joint Angle:  [91.58, 15.87, 2.25, 92.03, -0.65, -107.89, -93.94] True\n",
      ">>> Desired Position(Cal):  [0.2126, -0.4497, 0.8503]\n"
     ]
    },
    {
     "name": "stderr",
     "output_type": "stream",
     "text": [
      "\n"
     ]
    },
    {
     "name": "stdout",
     "output_type": "stream",
     "text": [
      ">>> Final   Position(Sim):  [0.2126, -0.4497, 0.7903]\n",
      ">>> Differ  Position     :  [-0.0, -0.0, -0.06]\n"
     ]
    },
    {
     "name": "stderr",
     "output_type": "stream",
     "text": [
      "[IKinBody] Root Finding with iterative Newton-Raphson:   1%|          | 6/1000 [00:00<00:02, 430.01it/s]"
     ]
    },
    {
     "name": "stdout",
     "output_type": "stream",
     "text": [
      ">>> InvKine Joint Angle(rad):  [26.2562, -23.6969, -15.912, 64.3173, 4.9629, -44.191, -15.4886] True\n",
      ">>> InvKine Joint Angle(deg):  [1504.37, -1357.73, -911.69, 3685.11, 284.35, -2531.96, -887.43] True\n",
      ">>> Result of IK(deg,%,const):  [64.37, 82.27, 168.31, 85.11, -75.65, -11.96, -167.43]\n",
      ">>> Initial Joint Angle:  [1.6, 0.28, 0.04, 1.61, -0.01, -1.88, -1.64]\n",
      ">>> InvKine Joint Angle:  [64.37, 82.27, 168.31, 85.11, -75.65, -11.96, -167.43] True\n",
      ">>> Desired Position(Cal):  [0.2584, -0.4078, 0.8922]\n"
     ]
    },
    {
     "name": "stderr",
     "output_type": "stream",
     "text": [
      "\n"
     ]
    },
    {
     "name": "stdout",
     "output_type": "stream",
     "text": [
      ">>> Final   Position(Sim):  [0.2584, -0.4078, 0.8322]\n",
      ">>> Differ  Position     :  [0.0, 0.0, -0.06]\n"
     ]
    },
    {
     "name": "stderr",
     "output_type": "stream",
     "text": [
      "[IKinBody] Root Finding with iterative Newton-Raphson:   0%|          | 5/1000 [00:00<00:02, 385.93it/s]"
     ]
    },
    {
     "name": "stdout",
     "output_type": "stream",
     "text": [
      ">>> InvKine Joint Angle(rad):  [27.7273, 0.8429, -83.1169, 26.6666, 25.9686, -26.7796, 30.2743] True\n",
      ">>> InvKine Joint Angle(deg):  [1588.66, 48.29, -4762.25, 1527.88, 1487.89, -1534.36, 1734.59] True\n",
      ">>> Result of IK(deg,%,const):  [148.66, 48.29, -82.25, 87.88, 47.89, -94.36, -65.41]\n",
      ">>> Initial Joint Angle:  [1.12, 1.44, 2.94, 1.49, -1.32, -0.21, -2.92]\n",
      ">>> InvKine Joint Angle:  [148.66, 48.29, -82.25, 87.88, 47.89, -94.36, -65.41] True\n",
      ">>> Desired Position(Cal):  [0.2881, -0.3593, 0.9407]\n"
     ]
    },
    {
     "name": "stderr",
     "output_type": "stream",
     "text": [
      "\n"
     ]
    },
    {
     "name": "stdout",
     "output_type": "stream",
     "text": [
      ">>> Final   Position(Sim):  [0.2881, -0.3593, 0.8807]\n",
      ">>> Differ  Position     :  [0.0, -0.0001, -0.0601]\n"
     ]
    },
    {
     "name": "stderr",
     "output_type": "stream",
     "text": [
      "[IKinBody] Root Finding with iterative Newton-Raphson:   1%|          | 10/1000 [00:00<00:02, 404.64it/s]"
     ]
    },
    {
     "name": "stdout",
     "output_type": "stream",
     "text": [
      ">>> InvKine Joint Angle(rad):  [23.6274, -12.8882, -13.6472, 32.8647, -22.2846, -23.8284, -6.7814] True\n",
      ">>> InvKine Joint Angle(deg):  [1353.75, -738.44, -781.93, 1883.01, -1276.82, -1365.26, -388.55] True\n",
      ">>> Result of IK(deg,%,const):  [-86.25, -18.44, -61.93, 83.01, 163.18, 74.74, -28.55]\n",
      ">>> Initial Joint Angle:  [2.59, 0.84, -1.44, 1.53, 0.84, -1.65, -1.14]\n",
      ">>> InvKine Joint Angle:  [-86.25, -18.44, -61.93, 83.01, 163.18, 74.74, -28.55] True\n",
      ">>> Desired Position(Cal):  [0.2998, -0.307, 0.993]\n"
     ]
    },
    {
     "name": "stderr",
     "output_type": "stream",
     "text": [
      "\n"
     ]
    },
    {
     "name": "stdout",
     "output_type": "stream",
     "text": [
      ">>> Final   Position(Sim):  [0.282, -0.2878, 0.9569]\n",
      ">>> Differ  Position     :  [-0.0178, 0.0192, -0.0361]\n"
     ]
    }
   ],
   "source": [
    "from RoboticsCore import *\n",
    "\n",
    "# Generate Endeffector shape\n",
    "end_effector_visual_shape = p.createVisualShape(p.GEOM_CYLINDER, length=0.03, radius=0.025, rgbaColor=[1, 0, 0, 0.5])\n",
    "end_effector_visual_sim_id = p.createMultiBody(baseMass=0, baseVisualShapeIndex=end_effector_visual_shape)\n",
    "end_effector_visual_shape = p.createVisualShape(p.GEOM_CYLINDER, length=0.03, radius=0.05, rgbaColor=[0, 1, 0, 0.5])\n",
    "end_effector_visual_cal_id = p.createMultiBody(baseMass=0, baseVisualShapeIndex=end_effector_visual_shape)\n",
    "\n",
    "h7 = 0.06 # zero position에서 Endeffector의 offset\n",
    "Tee = np.array([\n",
    "    [ 1, 0, 0,  0],\n",
    "    [ 0, 1, 0,  0],\n",
    "    [ 0, 0, 1, h7],\n",
    "    [ 0, 0, 0,  1]])\n",
    "M = np.array([\n",
    "    [ 1, 0, 0,       0],\n",
    "    [ 0, 1, 0, -0.1864],\n",
    "    [ 0, 0, 1,  1.2670],\n",
    "    [ 0, 0, 0,       1]])\n",
    "Blist = np.array([\n",
    "    [ 0.1864,0,0,0,\t0,1],\n",
    "    [-0.9675,0,0,0,-1,0],\n",
    "    [-0.0073,0,0,0,\t0,1],\n",
    "    [ -0.518,0,0,0,-1,0],\n",
    "    [  0.183,0,0,0,\t0,1],\n",
    "    [ -0.168,0,0,0,-1,0],\n",
    "    [      0,0,0,0,\t0,1]]).T\n",
    "Slist = np.array([\n",
    "    [      0,0,0,0, 0,1],\n",
    "    [ 0.2995,0,0,0,-1,0],\n",
    "    [-0.1937,0,0,0, 0,1],\n",
    "    [  0.749,0,0,0,-1,0],\n",
    "    [-0.0034,0,0,0, 0,1],\n",
    "    [  1.099,0,0,0,-1,0],\n",
    "    [-0.1864,0,0,0, 0,1]]).T\n",
    "\n",
    "def MoveRobot(thetalist0, T):\n",
    "    eomg = 0.001\n",
    "    ev = 0.0001\n",
    "    thetalist_IK = IKinBody(Blist, M, np.dot(TransInv(Tee),T), thetalist0*np.pi/180.0, eomg, ev, maxiter=1000)\n",
    "    # thetalist_IK = IKinSpace(Slist, M, T, thetalist0*np.pi/180.0, eomg, ev, maxiter=1000)\n",
    "    qw = np.sqrt(1+T[0,0]+T[1,1]+T[2,2])/2.0\n",
    "    p.resetBasePositionAndOrientation(end_effector_visual_cal_id, T[0:3,3], [(T[2,1]-T[1,2])/(4*qw),(T[0,2]-T[2,0])/(4*qw),(T[1,0]-T[0,1])/(4*qw),qw])\n",
    "    # Apply Joint Angle Constrains\n",
    "    if True:\n",
    "        print(\">>> InvKine Joint Angle(rad): \", [round(x,4) for x in thetalist_IK[0]], thetalist_IK[1])\n",
    "        print(\">>> InvKine Joint Angle(deg): \", [round(x,2) for x in thetalist_IK[0]*180.0/np.pi], thetalist_IK[1])\n",
    "        for i in range(p.getNumJoints(robot_id)):\n",
    "            if thetalist_IK[0][i] < np.pi and thetalist_IK[0][i] > -np.pi:\n",
    "                thetalist_IK[0][i] = thetalist_IK[0][i]\n",
    "            else:\n",
    "                thetalist_IK[0][i] = (thetalist_IK[0][i]+np.pi) % (np.pi*2) - np.pi\n",
    "        print(\">>> Result of IK(deg,%,const): \", [round(x,2) for x in thetalist_IK[0]*180.0/np.pi])\n",
    "    print(\">>> Initial Joint Angle: \",[round(x,2) for x in thetalist0])\n",
    "    print(\">>> InvKine Joint Angle: \", [round(x,2) for x in thetalist_IK[0]*180.0/np.pi], thetalist_IK[1])\n",
    "    print(\">>> Desired Position(Cal): \",[round(x,4) for x in T[0:3,3]])\n",
    "\n",
    "    # Plot Inverse Kinematics Position\n",
    "    p.setJointMotorControlArray(bodyUniqueId=robot_id,\n",
    "                                    jointIndices=range(p.getNumJoints(robot_id)),\n",
    "                                    controlMode=p.POSITION_CONTROL,\n",
    "                                    targetPositions=(thetalist_IK[0]).reshape([p.getNumJoints(robot_id)]))\n",
    "    for i in range(100):\n",
    "        p.stepSimulation()\n",
    "        end_effector_link_index = 6  # Replace with the index of your robot's end-effector link\n",
    "        end_effector_offset = np.dot(np.array(p.getMatrixFromQuaternion(p.getLinkState(robot_id, end_effector_link_index)[1])).reshape((3,3)),np.array([0,0,h7]))\n",
    "        p.resetBasePositionAndOrientation(end_effector_visual_sim_id,\n",
    "                                        np.array(p.getLinkState(robot_id, end_effector_link_index)[0])+end_effector_offset, \n",
    "                                        p.getLinkState(robot_id, end_effector_link_index)[1])\n",
    "        time.sleep(1./240)\n",
    "    print(\">>> Final   Position(Sim): \", [round(x,4) for x in p.getLinkState(robot_id,p.getNumJoints(robot_id)-1)[0]])\n",
    "    print(\">>> Differ  Position     : \", [round(x,4) for x in p.getLinkState(robot_id,p.getNumJoints(robot_id)-1)[0]-T[0:3,3]])\n",
    "    return thetalist_IK[0]\n",
    "\n",
    "thetalist0 = (np.random.rand(p.getNumJoints(robot_id))-1.0)*2.0\n",
    "for i in range(len(x_circle)):\n",
    "    T = np.array([\n",
    "        [ 1, 0, 0, x_circle[i]],\n",
    "        [ 0, 1, 0, y_circle[i]],\n",
    "        [ 0, 0, 1, z_circle[i]],\n",
    "        [ 0, 0, 0,    1]])\n",
    "    thetalist0 = MoveRobot(thetalist0, T)\n",
    "\n"
   ]
  },
  {
   "attachments": {},
   "cell_type": "markdown",
   "metadata": {},
   "source": [
    "## Tracking Circle 2"
   ]
  },
  {
   "cell_type": "code",
   "execution_count": 167,
   "metadata": {},
   "outputs": [
    {
     "name": "stderr",
     "output_type": "stream",
     "text": [
      "[IKinBody] Root Finding with iterative Newton-Raphson:   0%|          | 5/1000 [00:00<00:01, 557.52it/s]\n"
     ]
    },
    {
     "name": "stdout",
     "output_type": "stream",
     "text": [
      ">>> InvKine Joint Angle(rad):  [-80.8779, -95.8878, 83.9708, 243.1939, 136.8109, -149.9337, -140.914] True\n",
      ">>> InvKine Joint Angle(deg):  [-4633.96, -5493.97, 4811.17, 13933.98, 7838.68, -8590.57, -8073.78] True\n",
      ">>> Result of IK(deg,%,const):  [46.04, -93.97, 131.17, -106.02, -81.32, 49.43, -153.78]\n",
      ">>> Initial Joint Angle:  [-0.52, -0.39, -1.73, -1.24, -1.96, -1.09, -1.32]\n",
      ">>> InvKine Joint Angle:  [46.04, -93.97, 131.17, -106.02, -81.32, 49.43, -153.78] True\n",
      ">>> Desired Position(Cal):  [0.3901, 0.3901, 0.8669]\n",
      ">>> Final   Position(Sim):  [0.4967, 0.4821, 0.8099]\n",
      ">>> Differ  Position     :  [0.1066, 0.0919, -0.057]\n",
      ">>> InvKine Joint Angle(rad):  [0.7131, -1.6294, 2.3286, -1.879, -1.366, 0.8331, -2.647] True\n",
      ">>> InvKine Joint Angle(deg):  [40.86, -93.36, 133.42, -107.66, -78.26, 47.73, -151.66] True\n",
      ">>> Result of IK(deg,%,const):  [40.86, -93.36, 133.42, -107.66, -78.26, 47.73, -151.66]\n",
      ">>> Initial Joint Angle:  [0.8, -1.64, 2.29, -1.85, -1.42, 0.86, -2.68]\n",
      ">>> InvKine Joint Angle:  [40.86, -93.36, 133.42, -107.66, -78.26, 47.73, -151.66] True\n",
      ">>> Desired Position(Cal):  [0.4285, 0.3442, 0.8696]\n",
      ">>> Final   Position(Sim):  [0.3635, 0.4586, 0.805]\n",
      ">>> Differ  Position     :  [-0.065, 0.1144, -0.0646]\n",
      ">>> InvKine Joint Angle(rad):  [0.6216, -1.603, 2.367, -1.901, -1.2948, 0.8112, -2.617] True\n",
      ">>> InvKine Joint Angle(deg):  [35.62, -91.85, 135.62, -108.92, -74.19, 46.48, -149.94] True\n",
      ">>> Result of IK(deg,%,const):  [35.62, -91.85, 135.62, -108.92, -74.19, 46.48, -149.94]\n",
      ">>> Initial Joint Angle:  [0.71, -1.63, 2.33, -1.88, -1.37, 0.83, -2.65]\n",
      ">>> InvKine Joint Angle:  [35.62, -91.85, 135.62, -108.92, -74.19, 46.48, -149.94] True\n",
      ">>> Desired Position(Cal):  [0.4577, 0.2925, 0.8774]\n",
      ">>> Final   Position(Sim):  [0.3987, 0.3523, 0.8246]\n",
      ">>> Differ  Position     :  [-0.059, 0.0598, -0.0528]\n",
      ">>> InvKine Joint Angle(rad):  [0.5297, -1.5613, 2.404, -1.9149, -1.209, 0.7989, -2.5923] True\n",
      ">>> InvKine Joint Angle(deg):  [30.35, -89.45, 137.74, -109.71, -69.27, 45.77, -148.53] True\n",
      ">>> Result of IK(deg,%,const):  [30.35, -89.45, 137.74, -109.71, -69.27, 45.77, -148.53]\n",
      ">>> Initial Joint Angle:  [0.62, -1.6, 2.37, -1.9, -1.29, 0.81, -2.62]\n",
      ">>> InvKine Joint Angle:  [30.35, -89.45, 137.74, -109.71, -69.27, 45.77, -148.53] True\n",
      ">>> Desired Position(Cal):  [0.4767, 0.2371, 0.8902]\n",
      ">>> Final   Position(Sim):  [0.4235, 0.2724, 0.8375]\n",
      ">>> Differ  Position     :  [-0.0532, 0.0353, -0.0527]\n",
      ">>> InvKine Joint Angle(rad):  [0.4385, -1.5052, 2.4391, -1.9201, -1.1128, 0.7968, -2.5717] True\n",
      ">>> InvKine Joint Angle(deg):  [25.13, -86.24, 139.75, -110.01, -63.76, 45.65, -147.35] True\n",
      ">>> Result of IK(deg,%,const):  [25.13, -86.24, 139.75, -110.01, -63.76, 45.65, -147.35]\n",
      ">>> Initial Joint Angle:  [0.53, -1.56, 2.4, -1.91, -1.21, 0.8, -2.59]\n",
      ">>> InvKine Joint Angle:  [25.13, -86.24, 139.75, -110.01, -63.76, 45.65, -147.35] True\n",
      ">>> Desired Position(Cal):  [0.4846, 0.1803, 0.9073]\n",
      ">>> Final   Position(Sim):  [0.4281, 0.2072, 0.854]\n",
      ">>> Differ  Position     :  [-0.0565, 0.0269, -0.0533]\n",
      ">>> InvKine Joint Angle(rad):  [0.35, -1.4362, 2.4723, -1.9169, -1.0104, 0.8046, -2.5544] True\n",
      ">>> InvKine Joint Angle(deg):  [20.06, -82.29, 141.66, -109.83, -57.89, 46.1, -146.36] True\n",
      ">>> Result of IK(deg,%,const):  [20.06, -82.29, 141.66, -109.83, -57.89, 46.1, -146.36]\n",
      ">>> Initial Joint Angle:  [0.44, -1.51, 2.44, -1.92, -1.11, 0.8, -2.57]\n",
      ">>> InvKine Joint Angle:  [20.06, -82.29, 141.66, -109.83, -57.89, 46.1, -146.36] True\n",
      ">>> Desired Position(Cal):  [0.4812, 0.1242, 0.9281]\n",
      ">>> Final   Position(Sim):  [0.4177, 0.1503, 0.8742]\n",
      ">>> Differ  Position     :  [-0.0636, 0.026, -0.0539]\n",
      ">>> InvKine Joint Angle(rad):  [0.2665, -1.3561, 2.504, -1.9058, -0.9053, 0.8214, -2.5404] True\n",
      ">>> InvKine Joint Angle(deg):  [15.27, -77.7, 143.47, -109.2, -51.87, 47.07, -145.56] True\n",
      ">>> Result of IK(deg,%,const):  [15.27, -77.7, 143.47, -109.2, -51.87, 47.07, -145.56]\n",
      ">>> Initial Joint Angle:  [0.35, -1.44, 2.47, -1.92, -1.01, 0.8, -2.55]\n",
      ">>> InvKine Joint Angle:  [15.27, -77.7, 143.47, -109.2, -51.87, 47.07, -145.56] True\n",
      ">>> Desired Position(Cal):  [0.4666, 0.0712, 0.9518]\n",
      ">>> Final   Position(Sim):  [0.395, 0.1001, 0.897]\n",
      ">>> Differ  Position     :  [-0.0716, 0.0289, -0.0548]\n",
      ">>> InvKine Joint Angle(rad):  [0.1905, -1.2665, 2.5341, -1.8876, -0.8008, 0.8464, -2.5304] True\n",
      ">>> InvKine Joint Angle(deg):  [10.92, -72.56, 145.19, -108.15, -45.88, 48.49, -144.98] True\n",
      ">>> Result of IK(deg,%,const):  [10.92, -72.56, 145.19, -108.15, -45.88, 48.49, -144.98]\n",
      ">>> Initial Joint Angle:  [0.27, -1.36, 2.5, -1.91, -0.91, 0.82, -2.54]\n",
      ">>> InvKine Joint Angle:  [10.92, -72.56, 145.19, -108.15, -45.88, 48.49, -144.98] True\n",
      ">>> Desired Position(Cal):  [0.4414, 0.0233, 0.9774]\n",
      ">>> Final   Position(Sim):  [0.3621, 0.0572, 0.921]\n",
      ">>> Differ  Position     :  [-0.0793, 0.0339, -0.0564]\n",
      ">>> InvKine Joint Angle(rad):  [0.1249, -1.1686, 2.5615, -1.8629, -0.6998, 0.8789, -2.5254] True\n",
      ">>> InvKine Joint Angle(deg):  [7.16, -66.96, 146.77, -106.74, -40.1, 50.36, -144.7] True\n",
      ">>> Result of IK(deg,%,const):  [7.16, -66.96, 146.77, -106.74, -40.1, 50.36, -144.7]\n",
      ">>> Initial Joint Angle:  [0.19, -1.27, 2.53, -1.89, -0.8, 0.85, -2.53]\n",
      ">>> InvKine Joint Angle:  [7.16, -66.96, 146.77, -106.74, -40.1, 50.36, -144.7] True\n",
      ">>> Desired Position(Cal):  [0.4065, -0.0176, 1.0039]\n",
      ">>> Final   Position(Sim):  [0.3204, 0.0227, 0.9451]\n",
      ">>> Differ  Position     :  [-0.086, 0.0403, -0.0588]\n",
      ">>> InvKine Joint Angle(rad):  [0.0732, -1.0636, 2.5844, -1.8325, -0.6053, 0.9193, -2.5263] True\n",
      ">>> InvKine Joint Angle(deg):  [4.19, -60.94, 148.08, -105.0, -34.68, 52.67, -144.75] True\n",
      ">>> Result of IK(deg,%,const):  [4.19, -60.94, 148.08, -105.0, -34.68, 52.67, -144.75]\n",
      ">>> Initial Joint Angle:  [0.12, -1.17, 2.56, -1.86, -0.7, 0.88, -2.53]\n",
      ">>> InvKine Joint Angle:  [4.19, -60.94, 148.08, -105.0, -34.68, 52.67, -144.75] True\n",
      ">>> Desired Position(Cal):  [0.3634, -0.0498, 1.0302]\n",
      ">>> Final   Position(Sim):  [0.2718, -0.0024, 0.9683]\n",
      ">>> Differ  Position     :  [-0.0916, 0.0474, -0.062]\n",
      ">>> InvKine Joint Angle(rad):  [0.0393, -0.9522, 2.5988, -1.7972, -0.5206, 0.9686, -2.5329] True\n",
      ">>> InvKine Joint Angle(deg):  [2.25, -54.56, 148.9, -102.97, -29.83, 55.5, -145.12] True\n",
      ">>> Result of IK(deg,%,const):  [2.25, -54.56, 148.9, -102.97, -29.83, 55.5, -145.12]\n",
      ">>> Initial Joint Angle:  [0.07, -1.06, 2.58, -1.83, -0.61, 0.92, -2.53]\n",
      ">>> InvKine Joint Angle:  [2.25, -54.56, 148.9, -102.97, -29.83, 55.5, -145.12] True\n",
      ">>> Desired Position(Cal):  [0.3138, -0.072, 1.0554]\n",
      ">>> Final   Position(Sim):  [0.2181, -0.0174, 0.9894]\n",
      ">>> Differ  Position     :  [-0.0956, 0.0546, -0.066]\n",
      ">>> InvKine Joint Angle(rad):  [0.0277, -0.8343, 2.5979, -1.7569, -0.4497, 1.0284, -2.5424] True\n",
      ">>> InvKine Joint Angle(deg):  [1.59, -47.8, 148.85, -100.66, -25.76, 58.93, -145.67] True\n",
      ">>> Result of IK(deg,%,const):  [1.59, -47.8, 148.85, -100.66, -25.76, 58.93, -145.67]\n",
      ">>> Initial Joint Angle:  [0.04, -0.95, 2.6, -1.8, -0.52, 0.97, -2.53]\n",
      ">>> InvKine Joint Angle:  [1.59, -47.8, 148.85, -100.66, -25.76, 58.93, -145.67] True\n",
      ">>> Desired Position(Cal):  [0.2596, -0.0834, 1.0783]\n",
      ">>> Final   Position(Sim):  [0.1614, -0.0221, 1.0075]\n",
      ">>> Differ  Position     :  [-0.0982, 0.0613, -0.0708]\n",
      ">>> InvKine Joint Angle(rad):  [0.0421, -0.7092, 2.5715, -1.7104, -0.3954, 1.0995, -2.5478] True\n",
      ">>> InvKine Joint Angle(deg):  [2.41, -40.63, 147.34, -98.0, -22.65, 63.0, -145.98] True\n",
      ">>> Result of IK(deg,%,const):  [2.41, -40.63, 147.34, -98.0, -22.65, 63.0, -145.98]\n",
      ">>> Initial Joint Angle:  [0.03, -0.83, 2.6, -1.76, -0.45, 1.03, -2.54]\n",
      ">>> InvKine Joint Angle:  [2.41, -40.63, 147.34, -98.0, -22.65, 63.0, -145.98] True\n",
      ">>> Desired Position(Cal):  [0.2031, -0.0835, 1.0981]\n",
      ">>> Final   Position(Sim):  [0.1037, -0.0168, 1.0218]\n",
      ">>> Differ  Position     :  [-0.0994, 0.0667, -0.0763]\n",
      ">>> InvKine Joint Angle(rad):  [0.0832, -0.5758, 2.5062, -1.6532, -0.3566, 1.1794, -2.5357] True\n",
      ">>> InvKine Joint Angle(deg):  [4.77, -32.99, 143.59, -94.72, -20.43, 67.57, -145.29] True\n",
      ">>> Result of IK(deg,%,const):  [4.77, -32.99, 143.59, -94.72, -20.43, 67.57, -145.29]\n",
      ">>> Initial Joint Angle:  [0.04, -0.71, 2.57, -1.71, -0.4, 1.1, -2.55]\n",
      ">>> InvKine Joint Angle:  [4.77, -32.99, 143.59, -94.72, -20.43, 67.57, -145.29] True\n",
      ">>> Desired Position(Cal):  [0.1464, -0.0723, 1.114]\n",
      ">>> Final   Position(Sim):  [0.0472, -0.0023, 1.0318]\n",
      ">>> Differ  Position     :  [-0.0992, 0.0699, -0.0823]\n",
      ">>> InvKine Joint Angle(rad):  [0.147, -0.4318, 2.3867, -1.5765, -0.3234, 1.26, -2.4869] True\n",
      ">>> InvKine Joint Angle(deg):  [8.42, -24.74, 136.75, -90.33, -18.53, 72.2, -142.49] True\n",
      ">>> Result of IK(deg,%,const):  [8.42, -24.74, 136.75, -90.33, -18.53, 72.2, -142.49]\n",
      ">>> Initial Joint Angle:  [0.08, -0.58, 2.51, -1.65, -0.36, 1.18, -2.54]\n",
      ">>> InvKine Joint Angle:  [8.42, -24.74, 136.75, -90.33, -18.53, 72.2, -142.49] True\n",
      ">>> Desired Position(Cal):  [0.0919, -0.0502, 1.1254]\n",
      ">>> Final   Position(Sim):  [-0.006, 0.0199, 1.0372]\n",
      ">>> Differ  Position     :  [-0.0979, 0.0701, -0.0882]\n",
      ">>> InvKine Joint Angle(rad):  [0.2234, -0.269, 2.1943, -1.4656, -0.2704, 1.3273, -2.3738] True\n",
      ">>> InvKine Joint Angle(deg):  [12.8, -15.41, 125.72, -83.97, -15.49, 76.05, -136.01] True\n",
      ">>> Result of IK(deg,%,const):  [12.8, -15.41, 125.72, -83.97, -15.49, 76.05, -136.01]\n",
      ">>> Initial Joint Angle:  [0.15, -0.43, 2.39, -1.58, -0.32, 1.26, -2.49]\n",
      ">>> InvKine Joint Angle:  [12.8, -15.41, 125.72, -83.97, -15.49, 76.05, -136.01] True\n",
      ">>> Desired Position(Cal):  [0.0417, -0.0182, 1.1318]\n",
      ">>> Final   Position(Sim):  [-0.0531, 0.0476, 1.0388]\n",
      ">>> Differ  Position     :  [-0.0948, 0.0657, -0.093]\n",
      ">>> InvKine Joint Angle(rad):  [0.2792, -0.0575, 1.8884, -1.2917, -0.1402, 1.3528, -2.1313] True\n",
      ">>> InvKine Joint Angle(deg):  [15.99, -3.29, 108.2, -74.01, -8.03, 77.51, -122.11] True\n",
      ">>> Result of IK(deg,%,const):  [15.99, -3.29, 108.2, -74.01, -8.03, 77.51, -122.11]\n",
      ">>> Initial Joint Angle:  [0.22, -0.27, 2.19, -1.47, -0.27, 1.33, -2.37]\n",
      ">>> InvKine Joint Angle:  [15.99, -3.29, 108.2, -74.01, -8.03, 77.51, -122.11] True\n",
      ">>> Desired Position(Cal):  [-0.0022, 0.0226, 1.1329]\n",
      ">>> Final   Position(Sim):  [-0.0908, 0.0755, 1.0388]\n",
      ">>> Differ  Position     :  [-0.0886, 0.0529, -0.094]\n",
      ">>> InvKine Joint Angle(rad):  [-0.1103, 0.2572, 1.531, -1.0198, 0.2146, 1.2483, -1.4612] True\n",
      ">>> InvKine Joint Angle(deg):  [-6.32, 14.74, 87.72, -58.43, 12.29, 71.52, -83.72] True\n",
      ">>> Result of IK(deg,%,const):  [-6.32, 14.74, 87.72, -58.43, 12.29, 71.52, -83.72]\n",
      ">>> Initial Joint Angle:  [0.28, -0.06, 1.89, -1.29, -0.14, 1.35, -2.13]\n",
      ">>> InvKine Joint Angle:  [-6.32, 14.74, 87.72, -58.43, 12.29, 71.52, -83.72] True\n",
      ">>> Desired Position(Cal):  [-0.038, 0.0704, 1.1287]\n",
      ">>> Final   Position(Sim):  [-0.1185, 0.1034, 1.0396]\n",
      ">>> Differ  Position     :  [-0.0804, 0.033, -0.089]\n",
      ">>> InvKine Joint Angle(rad):  [-0.5001, 0.2891, 1.6878, -0.9282, 0.3048, 1.2184, -1.286] True\n",
      ">>> InvKine Joint Angle(deg):  [-28.65, 16.57, 96.7, -53.18, 17.46, 69.81, -73.68] True\n",
      ">>> Result of IK(deg,%,const):  [-28.65, 16.57, 96.7, -53.18, 17.46, 69.81, -73.68]\n",
      ">>> Initial Joint Angle:  [-0.11, 0.26, 1.53, -1.02, 0.21, 1.25, -1.46]\n",
      ">>> InvKine Joint Angle:  [-28.65, 16.57, 96.7, -53.18, 17.46, 69.81, -73.68] True\n",
      ">>> Desired Position(Cal):  [-0.0644, 0.1234, 1.1193]\n",
      ">>> Final   Position(Sim):  [-0.1447, 0.1368, 1.0412]\n",
      ">>> Differ  Position     :  [-0.0803, 0.0134, -0.0782]\n",
      ">>> InvKine Joint Angle(rad):  [-0.7573, 0.3421, 1.7757, -0.8368, 0.4012, 1.1764, -1.1877] True\n",
      ">>> InvKine Joint Angle(deg):  [-43.39, 19.6, 101.74, -47.94, 22.99, 67.4, -68.05] True\n",
      ">>> Result of IK(deg,%,const):  [-43.39, 19.6, 101.74, -47.94, 22.99, 67.4, -68.05]\n",
      ">>> Initial Joint Angle:  [-0.5, 0.29, 1.69, -0.93, 0.3, 1.22, -1.29]\n",
      ">>> InvKine Joint Angle:  [-43.39, 19.6, 101.74, -47.94, 22.99, 67.4, -68.05] True\n",
      ">>> Desired Position(Cal):  [-0.0802, 0.1794, 1.1053]\n",
      ">>> Final   Position(Sim):  [-0.157, 0.1953, 1.0355]\n",
      ">>> Differ  Position     :  [-0.0769, 0.0159, -0.0697]\n",
      ">>> InvKine Joint Angle(rad):  [-0.9553, 0.3954, 1.8431, -0.7518, 0.4872, 1.1436, -1.1292] True\n",
      ">>> InvKine Joint Angle(deg):  [-54.73, 22.65, 105.6, -43.07, 27.92, 65.52, -64.7] True\n",
      ">>> Result of IK(deg,%,const):  [-54.73, 22.65, 105.6, -43.07, 27.92, 65.52, -64.7]\n",
      ">>> Initial Joint Angle:  [-0.76, 0.34, 1.78, -0.84, 0.4, 1.18, -1.19]\n",
      ">>> InvKine Joint Angle:  [-54.73, 22.65, 105.6, -43.07, 27.92, 65.52, -64.7] True\n",
      ">>> Desired Position(Cal):  [-0.0848, 0.2363, 1.087]\n",
      ">>> Final   Position(Sim):  [-0.1535, 0.2598, 1.026]\n",
      ">>> Differ  Position     :  [-0.0687, 0.0235, -0.061]\n",
      ">>> InvKine Joint Angle(rad):  [-1.123, 0.4466, 1.8987, -0.6737, 0.5641, 1.1209, -1.0873] True\n",
      ">>> InvKine Joint Angle(deg):  [-64.34, 25.59, 108.79, -38.6, 32.32, 64.22, -62.29] True\n",
      ">>> Result of IK(deg,%,const):  [-64.34, 25.59, 108.79, -38.6, 32.32, 64.22, -62.29]\n",
      ">>> Initial Joint Angle:  [-0.96, 0.4, 1.84, -0.75, 0.49, 1.14, -1.13]\n",
      ">>> InvKine Joint Angle:  [-64.34, 25.59, 108.79, -38.6, 32.32, 64.22, -62.29] True\n",
      ">>> Desired Position(Cal):  [-0.0781, 0.2917, 1.0652]\n",
      ">>> Final   Position(Sim):  [-0.1372, 0.3221, 1.0138]\n",
      ">>> Differ  Position     :  [-0.0591, 0.0304, -0.0514]\n",
      ">>> InvKine Joint Angle(rad):  [-1.2722, 0.4953, 1.9447, -0.6028, 0.6332, 1.1068, -1.0504] True\n",
      ">>> InvKine Joint Angle(deg):  [-72.89, 28.38, 111.42, -34.54, 36.28, 63.42, -60.19] True\n",
      ">>> Result of IK(deg,%,const):  [-72.89, 28.38, 111.42, -34.54, 36.28, 63.42, -60.19]\n",
      ">>> Initial Joint Angle:  [-1.12, 0.45, 1.9, -0.67, 0.56, 1.12, -1.09]\n",
      ">>> InvKine Joint Angle:  [-72.89, 28.38, 111.42, -34.54, 36.28, 63.42, -60.19] True\n",
      ">>> Desired Position(Cal):  [-0.0603, 0.3434, 1.0409]\n",
      ">>> Final   Position(Sim):  [-0.1103, 0.3791, 0.9996]\n",
      ">>> Differ  Position     :  [-0.05, 0.0356, -0.0413]\n",
      ">>> InvKine Joint Angle(rad):  [-1.4086, 0.5407, 1.9815, -0.5398, 0.6953, 1.0993, -1.0125] True\n",
      ">>> InvKine Joint Angle(deg):  [-80.71, 30.98, 113.53, -30.93, 39.84, 62.98, -58.01] True\n",
      ">>> Result of IK(deg,%,const):  [-80.71, 30.98, 113.53, -30.93, 39.84, 62.98, -58.01]\n",
      ">>> Initial Joint Angle:  [-1.27, 0.5, 1.94, -0.6, 0.63, 1.11, -1.05]\n",
      ">>> InvKine Joint Angle:  [-80.71, 30.98, 113.53, -30.93, 39.84, 62.98, -58.01] True\n",
      ">>> Desired Position(Cal):  [-0.0321, 0.3895, 1.0149]\n",
      ">>> Final   Position(Sim):  [-0.0741, 0.4289, 0.984]\n",
      ">>> Differ  Position     :  [-0.042, 0.0395, -0.0309]\n",
      ">>> InvKine Joint Angle(rad):  [-1.535, 0.5824, 2.0093, -0.4857, 0.7513, 1.0965, -0.97] True\n",
      ">>> InvKine Joint Angle(deg):  [-87.95, 33.37, 115.13, -27.83, 43.05, 62.82, -55.58] True\n",
      ">>> Result of IK(deg,%,const):  [-87.95, 33.37, 115.13, -27.83, 43.05, 62.82, -55.58]\n",
      ">>> Initial Joint Angle:  [-1.41, 0.54, 1.98, -0.54, 0.7, 1.1, -1.01]\n",
      ">>> InvKine Joint Angle:  [-87.95, 33.37, 115.13, -27.83, 43.05, 62.82, -55.58] True\n",
      ">>> Desired Position(Cal):  [0.0053, 0.428, 0.9884]\n",
      ">>> Final   Position(Sim):  [-0.0298, 0.4702, 0.9675]\n",
      ">>> Differ  Position     :  [-0.0351, 0.0422, -0.0209]\n",
      ">>> InvKine Joint Angle(rad):  [-1.6529, 0.6193, 2.0284, -0.4415, 0.8018, 1.0968, -0.9206] True\n",
      ">>> InvKine Joint Angle(deg):  [-94.71, 35.48, 116.22, -25.3, 45.94, 62.84, -52.75] True\n",
      ">>> Result of IK(deg,%,const):  [-94.71, 35.48, 116.22, -25.3, 45.94, 62.84, -52.75]\n",
      ">>> Initial Joint Angle:  [-1.53, 0.58, 2.01, -0.49, 0.75, 1.1, -0.97]\n",
      ">>> InvKine Joint Angle:  [-94.71, 35.48, 116.22, -25.3, 45.94, 62.84, -52.75] True\n",
      ">>> Desired Position(Cal):  [0.0505, 0.4573, 0.9622]\n",
      ">>> Final   Position(Sim):  [0.021, 0.5016, 0.9507]\n",
      ">>> Differ  Position     :  [-0.0295, 0.0443, -0.0116]\n",
      ">>> InvKine Joint Angle(rad):  [-1.7633, 0.6506, 2.0388, -0.4084, 0.8471, 1.0989, -0.8631] True\n",
      ">>> InvKine Joint Angle(deg):  [-101.03, 37.28, 116.82, -23.4, 48.54, 62.96, -49.45] True\n",
      ">>> Result of IK(deg,%,const):  [-101.03, 37.28, 116.82, -23.4, 48.54, 62.96, -49.45]\n",
      ">>> Initial Joint Angle:  [-1.65, 0.62, 2.03, -0.44, 0.8, 1.1, -0.92]\n",
      ">>> InvKine Joint Angle:  [-101.03, 37.28, 116.82, -23.4, 48.54, 62.96, -49.45] True\n",
      ">>> Desired Position(Cal):  [0.1017, 0.4765, 0.9376]\n",
      ">>> Final   Position(Sim):  [0.0765, 0.5222, 0.9342]\n",
      ">>> Differ  Position     :  [-0.0252, 0.0458, -0.0035]\n",
      ">>> InvKine Joint Angle(rad):  [-1.8665, 0.6754, 2.0412, -0.3875, 0.8877, 1.1015, -0.7966] True\n",
      ">>> InvKine Joint Angle(deg):  [-106.94, 38.7, 116.95, -22.2, 50.86, 63.11, -45.64] True\n",
      ">>> Result of IK(deg,%,const):  [-106.94, 38.7, 116.95, -22.2, 50.86, 63.11, -45.64]\n",
      ">>> Initial Joint Angle:  [-1.76, 0.65, 2.04, -0.41, 0.85, 1.1, -0.86]\n",
      ">>> InvKine Joint Angle:  [-106.94, 38.7, 116.95, -22.2, 50.86, 63.11, -45.64] True\n",
      ">>> Desired Position(Cal):  [0.1567, 0.4846, 0.9155]\n",
      ">>> Final   Position(Sim):  [0.1347, 0.5314, 0.9187]\n",
      ">>> Differ  Position     :  [-0.0221, 0.0468, 0.0031]\n",
      ">>> InvKine Joint Angle(rad):  [-1.9628, 0.693, 2.0359, -0.3795, 0.9237, 1.1034, -0.7209] True\n",
      ">>> InvKine Joint Angle(deg):  [-112.46, 39.71, 116.65, -21.74, 52.92, 63.22, -41.3] True\n",
      ">>> Result of IK(deg,%,const):  [-112.46, 39.71, 116.65, -21.74, 52.92, 63.22, -41.3]\n",
      ">>> Initial Joint Angle:  [-1.87, 0.68, 2.04, -0.39, 0.89, 1.1, -0.8]\n",
      ">>> InvKine Joint Angle:  [-112.46, 39.71, 116.65, -21.74, 52.92, 63.22, -41.3] True\n",
      ">>> Desired Position(Cal):  [0.2135, 0.4814, 0.8968]\n",
      ">>> Final   Position(Sim):  [0.1935, 0.5287, 0.9047]\n",
      ">>> Differ  Position     :  [-0.0201, 0.0474, 0.008]\n",
      ">>> InvKine Joint Angle(rad):  [-2.0525, 0.7032, 2.0233, -0.3843, 0.9549, 1.1036, -0.6359] True\n",
      ">>> InvKine Joint Angle(deg):  [-117.6, 40.29, 115.93, -22.02, 54.71, 63.23, -36.43] True\n",
      ">>> Result of IK(deg,%,const):  [-117.6, 40.29, 115.93, -22.02, 54.71, 63.23, -36.43]\n",
      ">>> Initial Joint Angle:  [-1.96, 0.69, 2.04, -0.38, 0.92, 1.1, -0.72]\n",
      ">>> InvKine Joint Angle:  [-117.6, 40.29, 115.93, -22.02, 54.71, 63.23, -36.43] True\n",
      ">>> Desired Position(Cal):  [0.2698, 0.4669, 0.8822]\n",
      ">>> Final   Position(Sim):  [0.2506, 0.5145, 0.8929]\n",
      ">>> Differ  Position     :  [-0.0192, 0.0476, 0.0108]\n",
      ">>> InvKine Joint Angle(rad):  [-2.1355, 0.7058, 2.0039, -0.4017, 0.9815, 1.1008, -0.5421] True\n",
      ">>> InvKine Joint Angle(deg):  [-122.35, 40.44, 114.82, -23.01, 56.23, 63.07, -31.06] True\n",
      ">>> Result of IK(deg,%,const):  [-122.35, 40.44, 114.82, -23.01, 56.23, 63.07, -31.06]\n",
      ">>> Initial Joint Angle:  [-2.05, 0.7, 2.02, -0.38, 0.95, 1.1, -0.64]\n",
      ">>> InvKine Joint Angle:  [-122.35, 40.44, 114.82, -23.01, 56.23, 63.07, -31.06] True\n",
      ">>> Desired Position(Cal):  [0.3233, 0.4418, 0.8722]\n",
      ">>> Final   Position(Sim):  [0.304, 0.4893, 0.8836]\n",
      ">>> Differ  Position     :  [-0.0193, 0.0474, 0.0114]\n",
      ">>> InvKine Joint Angle(rad):  [-2.1695, 0.7055, 1.9949, -0.41, 0.9916, 1.0978, -0.5018] True\n",
      ">>> InvKine Joint Angle(deg):  [-124.3, 40.42, 114.3, -23.49, 56.81, 62.9, -28.75] True\n",
      ">>> Result of IK(deg,%,const):  [-124.3, 40.42, 114.3, -23.49, 56.81, 62.9, -28.75]\n",
      ">>> Initial Joint Angle:  [-2.14, 0.71, 2.0, -0.4, 0.98, 1.1, -0.54]\n",
      ">>> InvKine Joint Angle:  [-124.3, 40.42, 114.3, -23.49, 56.81, 62.9, -28.75] True\n",
      ">>> Desired Position(Cal):  [0.3718, 0.4071, 0.8674]\n",
      ">>> Final   Position(Sim):  [0.3361, 0.4688, 0.8786]\n",
      ">>> Differ  Position     :  [-0.0358, 0.0617, 0.0112]\n"
     ]
    }
   ],
   "source": [
    "from RoboticsCore import *\n",
    "\n",
    "# Generate Endeffector shape\n",
    "end_effector_visual_shape = p.createVisualShape(p.GEOM_CYLINDER, length=0.03, radius=0.025, rgbaColor=[1, 0, 0, 0.5])\n",
    "end_effector_visual_sim_id = p.createMultiBody(baseMass=0, baseVisualShapeIndex=end_effector_visual_shape)\n",
    "end_effector_visual_shape = p.createVisualShape(p.GEOM_CYLINDER, length=0.03, radius=0.05, rgbaColor=[0, 1, 0, 0.5])\n",
    "end_effector_visual_cal_id = p.createMultiBody(baseMass=0, baseVisualShapeIndex=end_effector_visual_shape)\n",
    "\n",
    "h7 = 0.06 # zero position에서 Endeffector의 offset\n",
    "Tee = np.array([\n",
    "    [ 1, 0, 0,  0],\n",
    "    [ 0, 1, 0,  0],\n",
    "    [ 0, 0, 1, h7],\n",
    "    [ 0, 0, 0,  1]])\n",
    "M = np.array([\n",
    "    [ 1, 0, 0,       0],\n",
    "    [ 0, 1, 0, -0.1864],\n",
    "    [ 0, 0, 1,  1.2670],\n",
    "    [ 0, 0, 0,       1]])\n",
    "Blist = np.array([\n",
    "    [ 0.1864,0,0,0,\t0,1],\n",
    "    [-0.9675,0,0,0,-1,0],\n",
    "    [-0.0073,0,0,0,\t0,1],\n",
    "    [ -0.518,0,0,0,-1,0],\n",
    "    [  0.183,0,0,0,\t0,1],\n",
    "    [ -0.168,0,0,0,-1,0],\n",
    "    [      0,0,0,0,\t0,1]]).T\n",
    "Slist = np.array([\n",
    "    [      0,0,0,0, 0,1],\n",
    "    [ 0.2995,0,0,0,-1,0],\n",
    "    [-0.1937,0,0,0, 0,1],\n",
    "    [  0.749,0,0,0,-1,0],\n",
    "    [-0.0034,0,0,0, 0,1],\n",
    "    [  1.099,0,0,0,-1,0],\n",
    "    [-0.1864,0,0,0, 0,1]]).T\n",
    "\n",
    "def MoveRobot(thetalist0, T, v, on_track):\n",
    "    eomg = 0.001\n",
    "    ev = 0.0001\n",
    "\n",
    "    if on_track:    \n",
    "        Jb = JacobianBody(Blist,thetalist0)\n",
    "        theta_dot = np.dot(np.linalg.pinv(Jb),v)\n",
    "        thetalist_IK = [thetalist0 + theta_dot,True]\n",
    "\n",
    "    else:\n",
    "        # thetalist_IK = IKinSpace(Slist, M, T, thetalist0*np.pi/180.0, eomg, ev, maxiter=1000)\n",
    "        thetalist_IK = IKinBody(Blist, M, np.dot(TransInv(Tee),T), thetalist0*np.pi/180.0, eomg, ev, maxiter=1000)\n",
    "\n",
    "    qw = np.sqrt(1+T[0,0]+T[1,1]+T[2,2])/2.0\n",
    "    p.resetBasePositionAndOrientation(end_effector_visual_cal_id, T[0:3,3], [(T[2,1]-T[1,2])/(4*qw),(T[0,2]-T[2,0])/(4*qw),(T[1,0]-T[0,1])/(4*qw),qw])\n",
    "    # Apply Joint Angle Constrains\n",
    "    if True:\n",
    "        print(\">>> InvKine Joint Angle(rad): \", [round(x,4) for x in thetalist_IK[0]], thetalist_IK[1])\n",
    "        print(\">>> InvKine Joint Angle(deg): \", [round(x,2) for x in thetalist_IK[0]*180.0/np.pi], thetalist_IK[1])\n",
    "        for i in range(p.getNumJoints(robot_id)):\n",
    "            if thetalist_IK[0][i] < np.pi and thetalist_IK[0][i] > -np.pi:\n",
    "                thetalist_IK[0][i] = thetalist_IK[0][i]\n",
    "            else:\n",
    "                thetalist_IK[0][i] = (thetalist_IK[0][i]+np.pi) % (np.pi*2) - np.pi\n",
    "        print(\">>> Result of IK(deg,%,const): \", [round(x,2) for x in thetalist_IK[0]*180.0/np.pi])\n",
    "    print(\">>> Initial Joint Angle: \",[round(x,2) for x in thetalist0])\n",
    "    print(\">>> InvKine Joint Angle: \", [round(x,2) for x in thetalist_IK[0]*180.0/np.pi], thetalist_IK[1])\n",
    "    print(\">>> Desired Position(Cal): \",[round(x,4) for x in T[0:3,3]])\n",
    "\n",
    "    # Plot Inverse Kinematics Position\n",
    "    p.setJointMotorControlArray(bodyUniqueId=robot_id,\n",
    "                                    jointIndices=range(p.getNumJoints(robot_id)),\n",
    "                                    controlMode=p.POSITION_CONTROL,\n",
    "                                    targetPositions=(thetalist_IK[0]).reshape([p.getNumJoints(robot_id)]))\n",
    "    for i in range(10):\n",
    "        p.stepSimulation()\n",
    "        end_effector_link_index = 6  # Replace with the index of your robot's end-effector link\n",
    "        end_effector_offset = np.dot(np.array(p.getMatrixFromQuaternion(p.getLinkState(robot_id, end_effector_link_index)[1])).reshape((3,3)),np.array([0,0,h7]))\n",
    "        p.resetBasePositionAndOrientation(end_effector_visual_sim_id,\n",
    "                                        np.array(p.getLinkState(robot_id, end_effector_link_index)[0])+end_effector_offset, \n",
    "                                        p.getLinkState(robot_id, end_effector_link_index)[1])\n",
    "        time.sleep(1./240)\n",
    "    print(\">>> Final   Position(Sim): \", [round(x,4) for x in p.getLinkState(robot_id,p.getNumJoints(robot_id)-1)[0]])\n",
    "    print(\">>> Differ  Position     : \", [round(x,4) for x in p.getLinkState(robot_id,p.getNumJoints(robot_id)-1)[0]-T[0:3,3]])\n",
    "    return thetalist_IK[0]\n",
    "\n",
    "thetalist0 = (np.random.rand(p.getNumJoints(robot_id))-1.0)*2.0\n",
    "\n",
    "# move to initial point of circle\n",
    "T0 = np.array([\n",
    "    [ 1, 0, 0, x_circle[0]],\n",
    "    [ 0, 1, 0, y_circle[0]],\n",
    "    [ 0, 0, 1, z_circle[0]],\n",
    "    [ 0, 0, 0,    1]])\n",
    "thetalist0 = MoveRobot(thetalist0, T0, np.zeros(7), False)\n",
    "\n",
    "# track circle\n",
    "for i in range(1,len(x_circle)):\n",
    "    T = np.array([\n",
    "        [ 1, 0, 0, x_circle[i]],\n",
    "        [ 0, 1, 0, y_circle[i]],\n",
    "        [ 0, 0, 1, z_circle[i]],\n",
    "        [ 0, 0, 0,    1]])\n",
    "    v = np.array([\n",
    "        x_circle[(i+1)%len(x_circle)]-x_circle[i],\n",
    "        y_circle[(i+1)%len(y_circle)]-y_circle[i],\n",
    "        z_circle[(i+1)%len(z_circle)]-z_circle[i],\n",
    "        0,0,0]).T\n",
    "    thetalist0 = MoveRobot(thetalist0, T, v, True)\n"
   ]
  },
  {
   "attachments": {},
   "cell_type": "markdown",
   "metadata": {},
   "source": [
    "# Generate Arditary Circle and Motion"
   ]
  },
  {
   "cell_type": "code",
   "execution_count": 1,
   "metadata": {},
   "outputs": [
    {
     "ename": "NameError",
     "evalue": "name 'robot_id' is not defined",
     "output_type": "error",
     "traceback": [
      "\u001b[1;31m---------------------------------------------------------------------------\u001b[0m",
      "\u001b[1;31mNameError\u001b[0m                                 Traceback (most recent call last)",
      "Cell \u001b[1;32mIn[1], line 8\u001b[0m\n\u001b[0;32m      6\u001b[0m     \u001b[39mif\u001b[39;00m \u001b[39mid\u001b[39m \u001b[39min\u001b[39;00m [robot_id, plain_id, x_axis_visual_id, y_axis_visual_id, z_axis_visual_id]: \u001b[39mreturn\u001b[39;00m \u001b[39mFalse\u001b[39;00m\n\u001b[0;32m      7\u001b[0m     \u001b[39melse\u001b[39;00m: \u001b[39mreturn\u001b[39;00m \u001b[39mTrue\u001b[39;00m\n\u001b[1;32m----> 8\u001b[0m \u001b[39mfor\u001b[39;00m i \u001b[39min\u001b[39;00m [x \u001b[39mfor\u001b[39;00m x \u001b[39min\u001b[39;00m \u001b[39mrange\u001b[39m(\u001b[39m0\u001b[39m,\u001b[39m200\u001b[39m) \u001b[39mif\u001b[39;00m isRemainObject(x)]: p\u001b[39m.\u001b[39mremoveBody(i)\n\u001b[0;32m     10\u001b[0m \u001b[39m# Set Robot's zero-position\u001b[39;00m\n\u001b[0;32m     11\u001b[0m p\u001b[39m.\u001b[39msetJointMotorControlArray(bodyUniqueId\u001b[39m=\u001b[39mrobot_id,\n\u001b[0;32m     12\u001b[0m                                 jointIndices\u001b[39m=\u001b[39m\u001b[39mrange\u001b[39m(p\u001b[39m.\u001b[39mgetNumJoints(robot_id)),\n\u001b[0;32m     13\u001b[0m                                 controlMode\u001b[39m=\u001b[39mp\u001b[39m.\u001b[39mPOSITION_CONTROL,\n\u001b[0;32m     14\u001b[0m                                 targetPositions\u001b[39m=\u001b[39mnp\u001b[39m.\u001b[39mzeros(\u001b[39m7\u001b[39m)\u001b[39m.\u001b[39mreshape([p\u001b[39m.\u001b[39mgetNumJoints(robot_id)]))\n",
      "Cell \u001b[1;32mIn[1], line 8\u001b[0m, in \u001b[0;36m<listcomp>\u001b[1;34m(.0)\u001b[0m\n\u001b[0;32m      6\u001b[0m     \u001b[39mif\u001b[39;00m \u001b[39mid\u001b[39m \u001b[39min\u001b[39;00m [robot_id, plain_id, x_axis_visual_id, y_axis_visual_id, z_axis_visual_id]: \u001b[39mreturn\u001b[39;00m \u001b[39mFalse\u001b[39;00m\n\u001b[0;32m      7\u001b[0m     \u001b[39melse\u001b[39;00m: \u001b[39mreturn\u001b[39;00m \u001b[39mTrue\u001b[39;00m\n\u001b[1;32m----> 8\u001b[0m \u001b[39mfor\u001b[39;00m i \u001b[39min\u001b[39;00m [x \u001b[39mfor\u001b[39;00m x \u001b[39min\u001b[39;00m \u001b[39mrange\u001b[39m(\u001b[39m0\u001b[39m,\u001b[39m200\u001b[39m) \u001b[39mif\u001b[39;00m isRemainObject(x)]: p\u001b[39m.\u001b[39mremoveBody(i)\n\u001b[0;32m     10\u001b[0m \u001b[39m# Set Robot's zero-position\u001b[39;00m\n\u001b[0;32m     11\u001b[0m p\u001b[39m.\u001b[39msetJointMotorControlArray(bodyUniqueId\u001b[39m=\u001b[39mrobot_id,\n\u001b[0;32m     12\u001b[0m                                 jointIndices\u001b[39m=\u001b[39m\u001b[39mrange\u001b[39m(p\u001b[39m.\u001b[39mgetNumJoints(robot_id)),\n\u001b[0;32m     13\u001b[0m                                 controlMode\u001b[39m=\u001b[39mp\u001b[39m.\u001b[39mPOSITION_CONTROL,\n\u001b[0;32m     14\u001b[0m                                 targetPositions\u001b[39m=\u001b[39mnp\u001b[39m.\u001b[39mzeros(\u001b[39m7\u001b[39m)\u001b[39m.\u001b[39mreshape([p\u001b[39m.\u001b[39mgetNumJoints(robot_id)]))\n",
      "Cell \u001b[1;32mIn[1], line 6\u001b[0m, in \u001b[0;36misRemainObject\u001b[1;34m(id)\u001b[0m\n\u001b[0;32m      5\u001b[0m \u001b[39mdef\u001b[39;00m \u001b[39misRemainObject\u001b[39m(\u001b[39mid\u001b[39m):\n\u001b[1;32m----> 6\u001b[0m     \u001b[39mif\u001b[39;00m \u001b[39mid\u001b[39m \u001b[39min\u001b[39;00m [robot_id, plain_id, x_axis_visual_id, y_axis_visual_id, z_axis_visual_id]: \u001b[39mreturn\u001b[39;00m \u001b[39mFalse\u001b[39;00m\n\u001b[0;32m      7\u001b[0m     \u001b[39melse\u001b[39;00m: \u001b[39mreturn\u001b[39;00m \u001b[39mTrue\u001b[39;00m\n",
      "\u001b[1;31mNameError\u001b[0m: name 'robot_id' is not defined"
     ]
    }
   ],
   "source": [
    "from RoboticsCore import *\n",
    "import time\n",
    "\n",
    "# Clear 3D Space\n",
    "def isRemainObject(id):\n",
    "    if id in [robot_id, plain_id, x_axis_visual_id, y_axis_visual_id, z_axis_visual_id]: return False\n",
    "    else: return True\n",
    "for i in [x for x in range(0,200) if isRemainObject(x)]: p.removeBody(i)\n",
    "\n",
    "# Set Robot's zero-position\n",
    "p.setJointMotorControlArray(bodyUniqueId=robot_id,\n",
    "                                jointIndices=range(p.getNumJoints(robot_id)),\n",
    "                                controlMode=p.POSITION_CONTROL,\n",
    "                                targetPositions=np.zeros(7).reshape([p.getNumJoints(robot_id)]))\n",
    "for i in range(100):\n",
    "    p.stepSimulation()\n",
    "    time.sleep(1./240)\n",
    "\n",
    "# Generate Arbitary circle Motion\n",
    "t = np.arange(0,2*np.pi,0.1)\n",
    "r = 0.1 + (np.random.rand())*0.2\n",
    "rand_p = (np.random.rand()-0.5)*1\n",
    "rand_z = 0.8+np.random.rand()*0.3\n",
    "p0 = np.array([(np.random.rand()-0.5)*0.4,(np.random.rand()-0.5)*0.4,rand_z])\n",
    "p1 = np.array([rand_p,rand_p,(np.random.rand()-0.5)*1])\n",
    "#p2 = np.array([rand_x,-rand_y,0])\n",
    "p2 = np.cross(p0,p1)\n",
    "p1 =  p1 / np.linalg.norm(p1) \n",
    "p2 =  p2 / np.linalg.norm(p2) \n",
    "p_circle = []\n",
    "for tt in t : \n",
    "    p_circle.append(p0+r*np.cos(tt)*p1+r*np.sin(tt)*p2)\n",
    "p_circle = np.array(p_circle)\n",
    "x_circle = p_circle[:,0]\n",
    "y_circle = p_circle[:,1]\n",
    "z_circle = p_circle[:,2]\n",
    "\n",
    "# Plot circle in 3D Space\n",
    "x_circle = np.array(x_circle)\n",
    "y_circle = np.array(y_circle)\n",
    "z_circle = np.array(z_circle)\n",
    "for i in range(len(x_circle)):\n",
    "    exec(f\"trace{i}_visual_shape = p.createVisualShape(p.GEOM_SPHERE, radius=0.03, rgbaColor=[0, {i}/(len(x_circle)), 1, 0.5])  # Red sphere shape\")\n",
    "    exec(f\"trace{i}_visual_id = p.createMultiBody(baseMass=0, baseVisualShapeIndex=trace{i}_visual_shape)\")\n",
    "    exec(f\"p.resetBasePositionAndOrientation(trace{i}_visual_id, [x_circle[{i}],y_circle[{i}],z_circle[{i}]], [1,0,0,1])\")\n",
    "\n",
    "# Generate Endeffector shape\n",
    "end_effector_visual_shape = p.createVisualShape(p.GEOM_CYLINDER, length=0.03, radius=0.025, rgbaColor=[1, 0, 0, 0.5])\n",
    "end_effector_visual_sim_id = p.createMultiBody(baseMass=0, baseVisualShapeIndex=end_effector_visual_shape)\n",
    "end_effector_visual_shape = p.createVisualShape(p.GEOM_CYLINDER, length=0.03, radius=0.05, rgbaColor=[0, 1, 0, 0.5])\n",
    "end_effector_visual_cal_id = p.createMultiBody(baseMass=0, baseVisualShapeIndex=end_effector_visual_shape)\n",
    "\n",
    "# Trajectory Generation\n",
    "h7 = 0.06 # zero position에서 Endeffector의 offset\n",
    "Tee = np.array([\n",
    "    [ 1, 0, 0,  0],\n",
    "    [ 0, 1, 0,  0],\n",
    "    [ 0, 0, 1, h7],\n",
    "    [ 0, 0, 0,  1]])\n",
    "M = np.array([\n",
    "    [ 1, 0, 0,       0],\n",
    "    [ 0, 1, 0, -0.1864],\n",
    "    [ 0, 0, 1,  1.2670],\n",
    "    [ 0, 0, 0,       1]])\n",
    "Blist = np.array([\n",
    "    [ 0.1864,0,0,0,\t0,1],\n",
    "    [-0.9675,0,0,0,-1,0],\n",
    "    [-0.0073,0,0,0,\t0,1],\n",
    "    [ -0.518,0,0,0,-1,0],\n",
    "    [  0.183,0,0,0,\t0,1],\n",
    "    [ -0.168,0,0,0,-1,0],\n",
    "    [      0,0,0,0,\t0,1]]).T\n",
    "Slist = np.array([\n",
    "    [      0,0,0,0, 0,1],\n",
    "    [ 0.2995,0,0,0,-1,0],\n",
    "    [-0.1937,0,0,0, 0,1],\n",
    "    [  0.749,0,0,0,-1,0],\n",
    "    [-0.0034,0,0,0, 0,1],\n",
    "    [  1.099,0,0,0,-1,0],\n",
    "    [-0.1864,0,0,0, 0,1]]).T\n",
    "\n",
    "err_pos_history = []\n",
    "def MoveRobot(thetalist0, T, v, on_track):\n",
    "    eomg = 0.001\n",
    "    ev = 0.0001\n",
    "\n",
    "    if on_track:    \n",
    "        Jb = JacobianBody(Blist,thetalist0)\n",
    "        theta_dot = np.dot(np.linalg.pinv(Jb),v)\n",
    "        # theta_dot = np.dot(np.dot(Jb.T,np.linalg.inv(np.eye(6)*0+np.dot(Jb,Jb.T))),v)\n",
    "        thetalist_IK = [thetalist0 + theta_dot,True]\n",
    "\n",
    "    else:\n",
    "        # thetalist_IK = IKinSpace(Slist, M, T, thetalist0*np.pi/180.0, eomg, ev, maxiter=1000)\n",
    "        thetalist_IK = IKinBody(Blist, M, np.dot(TransInv(Tee),T), thetalist0*np.pi/180.0, eomg, ev, maxiter=1000)\n",
    "\n",
    "    qw = np.sqrt(1+T[0,0]+T[1,1]+T[2,2])/2.0\n",
    "    p.resetBasePositionAndOrientation(end_effector_visual_cal_id, T[0:3,3], [(T[2,1]-T[1,2])/(4*qw),(T[0,2]-T[2,0])/(4*qw),(T[1,0]-T[0,1])/(4*qw),qw])\n",
    "\n",
    "    # Apply Joint Angle Constrains\n",
    "    if True:\n",
    "        # print(\">>> InvKine Joint Angle(rad): \", [round(x,4) for x in thetalist_IK[0]], thetalist_IK[1])\n",
    "        # print(\">>> InvKine Joint Angle(deg): \", [round(x,2) for x in thetalist_IK[0]*180.0/np.pi], thetalist_IK[1])\n",
    "        for i in range(p.getNumJoints(robot_id)):\n",
    "            if thetalist_IK[0][i] < np.pi and thetalist_IK[0][i] > -np.pi:\n",
    "                thetalist_IK[0][i] = thetalist_IK[0][i]\n",
    "            else:\n",
    "                thetalist_IK[0][i] = (thetalist_IK[0][i]+np.pi) % (np.pi*2) - np.pi\n",
    "    #     print(\">>> Result of IK(deg,%,const): \", [round(x,2) for x in thetalist_IK[0]*180.0/np.pi])\n",
    "    # print(\">>> Initial Joint Angle: \",[round(x,2) for x in thetalist0])\n",
    "    # print(\">>> InvKine Joint Angle: \", [round(x,2) for x in thetalist_IK[0]*180.0/np.pi], thetalist_IK[1])\n",
    "    # print(\">>> Desired Position(Cal): \",[round(x,4) for x in T[0:3,3]])\n",
    "\n",
    "    # Plot Inverse Kinematics Position\n",
    "    p.setJointMotorControlArray(bodyUniqueId=robot_id,\n",
    "                                    jointIndices=range(p.getNumJoints(robot_id)),\n",
    "                                    controlMode=p.POSITION_CONTROL,\n",
    "                                    targetPositions=(thetalist_IK[0]).reshape([p.getNumJoints(robot_id)]))\n",
    "    for i in range(10):\n",
    "        p.stepSimulation()\n",
    "        end_effector_link_index = 6  # Replace with the index of your robot's end-effector link\n",
    "        end_effector_offset = np.dot(np.array(p.getMatrixFromQuaternion(p.getLinkState(robot_id, end_effector_link_index)[1])).reshape((3,3)),np.array([0,0,h7]))\n",
    "        p.resetBasePositionAndOrientation(end_effector_visual_sim_id,\n",
    "                                        np.array(p.getLinkState(robot_id, end_effector_link_index)[0])+end_effector_offset, \n",
    "                                        p.getLinkState(robot_id, end_effector_link_index)[1])    \n",
    "        time.sleep(1./240)\n",
    "        \n",
    "    ri = np.random.randint(1,100)\n",
    "    exec(f\"trace{ri}_visual_shape_ee = p.createVisualShape(p.GEOM_SPHERE, radius=0.01, rgbaColor=[1, 0, 0, 1])\")\n",
    "    exec(f\"trace{ri}_visual_id_ee = p.createMultiBody(baseMass=0, baseVisualShapeIndex=trace{ri}_visual_shape_ee)\")\n",
    "    exec(f\"p.resetBasePositionAndOrientation(trace{ri}_visual_id_ee, np.array(p.getLinkState(robot_id, end_effector_link_index)[0])+end_effector_offset, [1,0,0,1])\")\n",
    "    # print(\">>> Final   Position(Sim): \", [round(x,4) for x in p.getLinkState(robot_id,p.getNumJoints(robot_id)-1)[0]])\n",
    "    # print(\">>> Differ  Position     : \", [round(x,4) for x in p.getLinkState(robot_id,p.getNumJoints(robot_id)-1)[0]-T[0:3,3]])\n",
    "\n",
    "    err_pos_history.append(np.abs(p.getLinkState(robot_id,p.getNumJoints(robot_id)-1)[0]-T[0:3,3]))\n",
    "    print(\">>> Position Error: \",np.mean(np.array(err_pos_history)[:,0]),np.mean(np.array(err_pos_history)[:,1]),np.mean(np.array(err_pos_history)[:,2]))\n",
    "\n",
    "    return thetalist_IK[0]\n",
    "\n",
    "thetalist0 = (np.random.rand(p.getNumJoints(robot_id))-1.0)*2.0\n",
    "\n",
    "# move to initial point of circle\n",
    "T0 = np.array([\n",
    "    [ 1, 0, 0, x_circle[0]],\n",
    "    [ 0, 1, 0, y_circle[0]],\n",
    "    [ 0, 0, 1, z_circle[0]],\n",
    "    [ 0, 0, 0,    1]])\n",
    "thetalist0 = MoveRobot(thetalist0, T0, np.zeros(7), False)\n",
    "\n",
    "# track circle\n",
    "for i in range(1,len(x_circle)):\n",
    "    T = np.array([\n",
    "        [ 1, 0, 0, x_circle[i]],\n",
    "        [ 0, 1, 0, y_circle[i]],\n",
    "        [ 0, 0, 1, z_circle[i]],\n",
    "        [ 0, 0, 0,    1]])\n",
    "    v = np.array([\n",
    "        x_circle[(i+1)%len(x_circle)]-x_circle[i],\n",
    "        y_circle[(i+1)%len(y_circle)]-y_circle[i],\n",
    "        z_circle[(i+1)%len(z_circle)]-z_circle[i],\n",
    "        0,0,0]).T\n",
    "    thetalist0 = MoveRobot(thetalist0, T, v, True)\n",
    "\n",
    "err_pos_history = np.array(err_pos_history)\n",
    "print(\"Final Position Error Avg: \",np.mean(err_pos_history[:,0]),np.mean(err_pos_history[:,1]),np.mean(err_pos_history[:,2]))\n",
    "print(\"Final Position Error: \",err_pos_history[-1,0],err_pos_history[-1,1],err_pos_history[-1,2])"
   ]
  },
  {
   "cell_type": "code",
   "execution_count": 3,
   "metadata": {},
   "outputs": [
    {
     "data": {
      "text/plain": [
       "0"
      ]
     },
     "execution_count": 3,
     "metadata": {},
     "output_type": "execute_result"
    }
   ],
   "source": [
    "p.addUserDebugLine([0,0,0],[1,1,1])"
   ]
  },
  {
   "cell_type": "code",
   "execution_count": 33,
   "metadata": {},
   "outputs": [],
   "source": [
    "aa = p.addUserDebugParameter(\"joint1\",0,180,90,pID)\n",
    "bb = p.addUserDebugParameter(\"update\",1,0,1,pID)"
   ]
  },
  {
   "cell_type": "code",
   "execution_count": 37,
   "metadata": {},
   "outputs": [
    {
     "name": "stdout",
     "output_type": "stream",
     "text": [
      "90.0\n",
      "13.0\n"
     ]
    }
   ],
   "source": [
    "print(p.readUserDebugParameter(aa, pID))\n",
    "print(p.readUserDebugParameter(bb, pID))"
   ]
  },
  {
   "cell_type": "code",
   "execution_count": 55,
   "metadata": {},
   "outputs": [],
   "source": [
    "# 기존 번잡한 UI를 깔끔하게 바꿔줌\n",
    "p.configureDebugVisualizer(p.COV_ENABLE_GUI, 1)\n",
    "# p.configureDebugVisualizer(p.COV_ENABLE_SHADOWS, 0)\n",
    "# p.configureDebugVisualizer(p.COV_ENABLE_RGB_BUFFER_PREVIEW, 0)\n",
    "# p.configureDebugVisualizer(p.COV_ENABLE_DEPTH_BUFFER_PREVIEW, 0)\n",
    "# p.configureDebugVisualizer(p.COV_ENABLE_SEGMENTATION_MARK_PREVIEW, 1)\n"
   ]
  },
  {
   "cell_type": "code",
   "execution_count": 56,
   "metadata": {},
   "outputs": [
    {
     "name": "stdout",
     "output_type": "stream",
     "text": [
      "[0, 0, 0, 0, 0, 0, 0]\n"
     ]
    }
   ],
   "source": [
    "print([0]*7)"
   ]
  },
  {
   "attachments": {},
   "cell_type": "markdown",
   "metadata": {},
   "source": [
    "# Disconnect Pybullet"
   ]
  },
  {
   "cell_type": "code",
   "execution_count": 47,
   "metadata": {},
   "outputs": [
    {
     "ename": "error",
     "evalue": "Not connected to physics server.",
     "output_type": "error",
     "traceback": [
      "\u001b[1;31m---------------------------------------------------------------------------\u001b[0m",
      "\u001b[1;31merror\u001b[0m                                     Traceback (most recent call last)",
      "Cell \u001b[1;32mIn[47], line 1\u001b[0m\n\u001b[1;32m----> 1\u001b[0m p\u001b[39m.\u001b[39;49mdisconnect()\n",
      "\u001b[1;31merror\u001b[0m: Not connected to physics server."
     ]
    }
   ],
   "source": [
    "p.disconnect()"
   ]
  },
  {
   "cell_type": "code",
   "execution_count": null,
   "metadata": {},
   "outputs": [],
   "source": []
  }
 ],
 "metadata": {
  "kernelspec": {
   "display_name": "MECH639",
   "language": "python",
   "name": "python3"
  },
  "language_info": {
   "codemirror_mode": {
    "name": "ipython",
    "version": 3
   },
   "file_extension": ".py",
   "mimetype": "text/x-python",
   "name": "python",
   "nbconvert_exporter": "python",
   "pygments_lexer": "ipython3",
   "version": "3.8.16"
  },
  "orig_nbformat": 4
 },
 "nbformat": 4,
 "nbformat_minor": 2
}
