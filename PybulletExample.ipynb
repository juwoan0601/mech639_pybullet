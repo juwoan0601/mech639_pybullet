{
 "cells": [
  {
   "attachments": {},
   "cell_type": "markdown",
   "metadata": {},
   "source": [
    "# Initial Setting"
   ]
  },
  {
   "cell_type": "code",
   "execution_count": 1,
   "metadata": {},
   "outputs": [],
   "source": [
    "import numpy as np\n",
    "import pybullet as p\n",
    "import pybullet_data\n",
    "\n",
    "# Pybullet GUI 창 열기\n",
    "p.connect(p.GUI)\n",
    "\n",
    "# 기타 URDF 파일 경로 설정\n",
    "p.setAdditionalSearchPath(pybullet_data.getDataPath())\n",
    "\n",
    "# 기존 번잡한 UI를 깔끔하게 바꿔줌\n",
    "p.configureDebugVisualizer(p.COV_ENABLE_GUI, 0)\n",
    "p.configureDebugVisualizer(p.COV_ENABLE_SHADOWS, 0)\n",
    "p.configureDebugVisualizer(p.COV_ENABLE_RGB_BUFFER_PREVIEW, 0)\n",
    "p.configureDebugVisualizer(p.COV_ENABLE_DEPTH_BUFFER_PREVIEW, 0)\n",
    "p.configureDebugVisualizer(p.COV_ENABLE_SEGMENTATION_MARK_PREVIEW, 0)\n",
    "\n",
    "# 처음 로드하면 로봇이 굉장히 멀리 있는데, camera position을 카메라에 가깝게 세팅함\n",
    "p.resetDebugVisualizerCamera(cameraDistance=1, cameraYaw=45, cameraPitch=-30, cameraTargetPosition=[0, 0, 0.7])\n",
    "\n",
    "# 3D Object 로드\n",
    "plain_id = p.loadURDF(\"plane.urdf\")\n",
    "robot_id = p.loadURDF(r\"D:\\MECH639\\mech639_pybullet\\urdf\\indyRP2\\indyrp2.urdf\", basePosition=[0, 0, 0], baseOrientation=p.getQuaternionFromEuler([0, 0, 0]))\n",
    "\n",
    "# 중력 설정\n",
    "p.setGravity(0, 0, -9.81) # set gravity\n",
    "\n"
   ]
  },
  {
   "attachments": {},
   "cell_type": "markdown",
   "metadata": {},
   "source": [
    "# Move Robot"
   ]
  },
  {
   "attachments": {},
   "cell_type": "markdown",
   "metadata": {},
   "source": [
    "## Set Random Joint Angle"
   ]
  },
  {
   "cell_type": "code",
   "execution_count": 4,
   "metadata": {},
   "outputs": [],
   "source": [
    "import time\n",
    "p.setJointMotorControlArray(bodyUniqueId=robot_id,\n",
    "                                jointIndices=range(p.getNumJoints(robot_id)),\n",
    "                                controlMode=p.POSITION_CONTROL,\n",
    "                                targetPositions=np.array(2*(1-2*np.random.rand(7))).reshape([p.getNumJoints(robot_id)]))\n",
    "\n",
    "for i in range(100):\n",
    "    p.stepSimulation()\n",
    "    time.sleep(1./240)"
   ]
  },
  {
   "attachments": {},
   "cell_type": "markdown",
   "metadata": {},
   "source": [
    "## Set Robot Zero Position"
   ]
  },
  {
   "cell_type": "code",
   "execution_count": 89,
   "metadata": {},
   "outputs": [],
   "source": [
    "import time\n",
    "p.setJointMotorControlArray(bodyUniqueId=robot_id,\n",
    "                                jointIndices=range(p.getNumJoints(robot_id)),\n",
    "                                controlMode=p.POSITION_CONTROL,\n",
    "                                targetPositions=np.zeros(7).reshape([p.getNumJoints(robot_id)]))\n",
    "\n",
    "for i in range(100):\n",
    "    p.stepSimulation()\n",
    "    time.sleep(1./240)"
   ]
  },
  {
   "attachments": {},
   "cell_type": "markdown",
   "metadata": {},
   "source": [
    "## Set Specific Joint Angle"
   ]
  },
  {
   "cell_type": "code",
   "execution_count": 105,
   "metadata": {},
   "outputs": [
    {
     "name": "stdout",
     "output_type": "stream",
     "text": [
      "Last Link Info: \n",
      "-- Position:  [0.5437, -0.6325, 0.2772]\n",
      "-- Orientation(M):  [-0.0, -1.0, 0.0, 1.0, -0.0, 0.0, -0.0, 0.0, 1.0]\n"
     ]
    }
   ],
   "source": [
    "import time\n",
    "# thetalist = np.array([0,45,0,-90,0,45,0])\n",
    "# thetalist = np.array([170,0,0,0,0,0,0])\n",
    "# thetalist = np.array([0,0,90,0,0,0,0])\n",
    "thetalist = np.ones(7)*90\n",
    "# thetalist = np.array([170.01224834774075,19.90207326018981,33.05070859545958,154.8715380004641,56.22058650480949,51.59578506452726,56.76358544110735])\n",
    "p.setJointMotorControlArray(bodyUniqueId=robot_id,\n",
    "                                jointIndices=range(p.getNumJoints(robot_id)),\n",
    "                                controlMode=p.POSITION_CONTROL,\n",
    "                                targetPositions=(thetalist*np.pi/180.0).reshape([p.getNumJoints(robot_id)]))\n",
    "\n",
    "for i in range(100):\n",
    "    p.stepSimulation()\n",
    "    time.sleep(1./240)\n",
    "\n",
    "print(f\"Last Link Info: \")\n",
    "print(\"-- Position: \", [round(x,4) for x in p.getLinkState(1,p.getNumJoints(robot_id)-1)[0]])\n",
    "print(\"-- Orientation(M): \", [round(x,2) for x in p.getMatrixFromQuaternion(p.getLinkState(1,p.getNumJoints(robot_id)-1)[1])])"
   ]
  },
  {
   "attachments": {},
   "cell_type": "markdown",
   "metadata": {},
   "source": [
    "## Set Specific Joint Angle (6DOF)"
   ]
  },
  {
   "cell_type": "code",
   "execution_count": 45,
   "metadata": {},
   "outputs": [
    {
     "name": "stdout",
     "output_type": "stream",
     "text": [
      "Last Link Info: \n",
      "-- Position:  [-0.1429, -0.4448, 0.1497]\n",
      "-- Orientation(M):  [0.36, -0.72, 0.6, 0.78, -0.12, -0.62, 0.51, 0.69, 0.51]\n"
     ]
    }
   ],
   "source": [
    "import time\n",
    "# thetalist = np.array([0,90,0,0,0,0,0]) # Radian\n",
    "thetalist = np.array([0, 70.50320434570312,46.7353515625,259.91958236694336,209.0672607421875,74.66415405273438,127.7919921875])\n",
    "p.setJointMotorControlArray(bodyUniqueId=robot_id,\n",
    "                                jointIndices=range(p.getNumJoints(robot_id)),\n",
    "                                controlMode=p.POSITION_CONTROL,\n",
    "                                targetPositions=(thetalist*np.pi/180.0).reshape([p.getNumJoints(robot_id)]))\n",
    "\n",
    "for i in range(300):\n",
    "    p.stepSimulation()\n",
    "    time.sleep(1./240)\n",
    "\n",
    "print(f\"Last Link Info: \")\n",
    "print(\"-- Position: \", [round(x,4) for x in p.getLinkState(1,p.getNumJoints(robot_id)-1)[0]])\n",
    "print(\"-- Orientation(M): \", [round(x,2) for x in p.getMatrixFromQuaternion(p.getLinkState(1,p.getNumJoints(robot_id)-1)[1])])"
   ]
  },
  {
   "attachments": {},
   "cell_type": "markdown",
   "metadata": {},
   "source": [
    "# Figure Out Robot's Dimention"
   ]
  },
  {
   "cell_type": "code",
   "execution_count": 18,
   "metadata": {},
   "outputs": [
    {
     "name": "stdout",
     "output_type": "stream",
     "text": [
      "Link 0 Info: \n",
      "-- Position:  [0.0, 0.0, 0.0775]\n",
      "-- Orientation(Q):  [0.0, 0.0, -0.0, 1.0]\n",
      "-- Orientation(E):  [0.0, 0.0, -0.0]\n",
      "-- Orientation(A):  [1.0, 0.0, 0.0] 0.0\n",
      "-- Orientation(M):  [1.0, 0.0, 0.0, -0.0, 1.0, -0.0, -0.0, 0.0, 1.0]\n",
      "Link 1 Info: \n",
      "-- Position:  [-0.0, -0.109, 0.2995]\n",
      "-- Orientation(Q):  [0.5, 0.5, -0.5, 0.5]\n",
      "-- Orientation(E):  [0.0, 90.0, -90.0]\n",
      "-- Orientation(A):  [0.57735, 0.57735, -0.57735] 120.0\n",
      "-- Orientation(M):  [0.0, 1.0, 0.0, 0.0, 0.0, -1.0, -1.0, 0.0, 0.0]\n",
      "Link 2 Info: \n",
      "-- Position:  [-0.0, -0.1937, 0.6835]\n",
      "-- Orientation(Q):  [0.0, 0.0, 0.0, 1.0]\n",
      "-- Orientation(E):  [0.0, -0.0, 0.0]\n",
      "-- Orientation(A):  [1.0, 0.0, 0.0] 0.0\n",
      "-- Orientation(M):  [1.0, -0.0, 0.0, 0.0, 1.0, -0.0, 0.0, 0.0, 1.0]\n",
      "Link 3 Info: \n",
      "-- Position:  [-0.0, -0.0784, 0.749]\n",
      "-- Orientation(Q):  [0.5, 0.5, -0.5, 0.5]\n",
      "-- Orientation(E):  [0.0, 90.0, -90.0]\n",
      "-- Orientation(A):  [0.57735, 0.57735, -0.57735] 120.0\n",
      "-- Orientation(M):  [0.0, 1.0, 0.0, 0.0, 0.0, -1.0, -1.0, 0.0, -0.0]\n",
      "Link 4 Info: \n",
      "-- Position:  [-0.0, -0.0034, 1.016]\n",
      "-- Orientation(Q):  [0.0, -0.0, 0.0, 1.0]\n",
      "-- Orientation(E):  [0.0, -0.0, 0.0]\n",
      "-- Orientation(A):  [1.0, 0.0, 0.0] 0.0\n",
      "-- Orientation(M):  [1.0, -0.0, -0.0, 0.0, 1.0, -0.0, 0.0, 0.0, 1.0]\n",
      "Link 5 Info: \n",
      "-- Position:  [-0.0, -0.1174, 1.099]\n",
      "-- Orientation(Q):  [0.5, 0.5, -0.5, 0.5]\n",
      "-- Orientation(E):  [0.0, 90.0, -90.0]\n",
      "-- Orientation(A):  [0.57735, 0.57735, -0.57735] 120.0\n",
      "-- Orientation(M):  [0.0, 1.0, 0.0, 0.0, 0.0, -1.0, -1.0, 0.0, -0.0]\n",
      "Link 6 Info: \n",
      "-- Position:  [-0.0, -0.1864, 1.267]\n",
      "-- Orientation(Q):  [0.0, -0.0, 0.0, 1.0]\n",
      "-- Orientation(E):  [0.0, -0.0, 0.0]\n",
      "-- Orientation(A):  [1.0, 0.0, 0.0] 0.0\n",
      "-- Orientation(M):  [1.0, -0.0, -0.0, 0.0, 1.0, -0.0, 0.0, 0.0, 1.0]\n"
     ]
    }
   ],
   "source": [
    "for i in range(0,p.getNumJoints(robot_id)):\n",
    "    print(f\"Link {i} Info: \")\n",
    "    print(\"-- Position: \", [round(x,4) for x in p.getLinkState(1,i)[0]])\n",
    "    print(\"-- Orientation(Q): \", [round(x,2) for x in p.getLinkState(1,i)[1]])\n",
    "    print(\"-- Orientation(E): \", [round(x*180/np.pi,2) for x in p.getEulerFromQuaternion(p.getLinkState(1,i)[1])])\n",
    "    print(\"-- Orientation(A): \", [round(x,6) for x in p.getAxisAngleFromQuaternion(p.getLinkState(1,i)[1])[0]], round(180/np.pi*p.getAxisAngleFromQuaternion(p.getLinkState(1,i)[1])[1],2))\n",
    "    print(\"-- Orientation(M): \", [round(x,2) for x in p.getMatrixFromQuaternion(p.getLinkState(1,i)[1])])"
   ]
  },
  {
   "cell_type": "code",
   "execution_count": 27,
   "metadata": {},
   "outputs": [],
   "source": [
    "p.disconnect()"
   ]
  }
 ],
 "metadata": {
  "kernelspec": {
   "display_name": "MECH639",
   "language": "python",
   "name": "python3"
  },
  "language_info": {
   "codemirror_mode": {
    "name": "ipython",
    "version": 3
   },
   "file_extension": ".py",
   "mimetype": "text/x-python",
   "name": "python",
   "nbconvert_exporter": "python",
   "pygments_lexer": "ipython3",
   "version": "3.8.16"
  },
  "orig_nbformat": 4
 },
 "nbformat": 4,
 "nbformat_minor": 2
}
