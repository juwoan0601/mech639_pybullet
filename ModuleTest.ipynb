{
 "cells": [
  {
   "attachments": {},
   "cell_type": "markdown",
   "metadata": {},
   "source": [
    "# Validation Robotics Core"
   ]
  },
  {
   "attachments": {},
   "cell_type": "markdown",
   "metadata": {},
   "source": [
    "## Import Modules"
   ]
  },
  {
   "cell_type": "code",
   "execution_count": 65,
   "metadata": {},
   "outputs": [
    {
     "data": {
      "text/plain": [
       "<module 'RoboticsCore' from 'd:\\\\MECH639\\\\mech639_pybullet\\\\RoboticsCore.py'>"
      ]
     },
     "execution_count": 65,
     "metadata": {},
     "output_type": "execute_result"
    }
   ],
   "source": [
    "import importlib\n",
    "import numpy as np\n",
    "import RoboticsCore as r\n",
    "importlib.reload(r)"
   ]
  },
  {
   "attachments": {},
   "cell_type": "markdown",
   "metadata": {},
   "source": [
    "## se3 -> SE3 --> PASS"
   ]
  },
  {
   "cell_type": "code",
   "execution_count": 45,
   "metadata": {},
   "outputs": [
    {
     "name": "stdout",
     "output_type": "stream",
     "text": [
      "[[ 1.          0.          0.          3.        ]\n",
      " [ 0.          0.54030231  0.84147098  6.27991891]\n",
      " [ 0.         -0.84147098  0.54030231  7.49531446]\n",
      " [ 0.          0.          0.          1.        ]]\n",
      "[[ 1.          0.          0.          3.        ]\n",
      " [ 0.          0.54030231  0.84147098  6.27991891]\n",
      " [ 0.         -0.84147098  0.54030231  7.49531446]\n",
      " [ 0.          0.          0.          1.        ]]\n",
      "[[0.0000000e+00 0.0000000e+00 0.0000000e+00 0.0000000e+00]\n",
      " [0.0000000e+00 0.0000000e+00 0.0000000e+00 0.0000000e+00]\n",
      " [0.0000000e+00 0.0000000e+00 0.0000000e+00 8.8817842e-16]\n",
      " [0.0000000e+00 0.0000000e+00 0.0000000e+00 0.0000000e+00]]\n"
     ]
    }
   ],
   "source": [
    "#se3mat = np.array([[0, 0, 0, 0], [0, 0, -1.57079632, 2.35619449], [0, 1.57079632, 0, 2.35619449], [0, 0, 0, 0]])\n",
    "#se3mat = np.array([[0, 0, 0, 0], [0, 0, -1.570, 2.356], [0, 1.570, 0, 2.356], [0, 0, 0, 0]]) # Pitch h=0\n",
    "se3mat = np.array([[0, 0, 0, 3], [0, 0, 1.0, 2.0], [0, -1.0, 0, 10.0], [0, 0, 0, 0]])\n",
    "print(r.MatrixExp6(se3mat, formula=1))\n",
    "print(r.MatrixExp6(se3mat, formula=2))\n",
    "print(r.MatrixExp6(se3mat, formula=1)-r.MatrixExp6(se3mat, formula=2))"
   ]
  },
  {
   "attachments": {},
   "cell_type": "markdown",
   "metadata": {},
   "source": [
    "## FK and IK Body 3DOF --> PASS"
   ]
  },
  {
   "cell_type": "code",
   "execution_count": 80,
   "metadata": {},
   "outputs": [
    {
     "name": "stdout",
     "output_type": "stream",
     "text": [
      ">>> Theta for FK(deg):  [ 90.         171.88733854 180.        ]\n",
      ">>> Result of FK:  [[-1.14423775e-17  1.00000000e+00  0.00000000e+00 -5.00000000e+00]\n",
      " [ 1.00000000e+00  1.14423775e-17  0.00000000e+00  4.00000000e+00]\n",
      " [ 0.00000000e+00  0.00000000e+00 -1.00000000e+00  1.01303956e+00]\n",
      " [ 0.00000000e+00  0.00000000e+00  0.00000000e+00  1.00000000e+00]]\n",
      ">>> Result of IK(deg):  [ 89.99939868 171.88733251 180.00880019]\n",
      ">>> Diff between FK-IK:  [ 6.01319206e-04  6.02790496e-06 -8.80019029e-03]\n"
     ]
    }
   ],
   "source": [
    "M = np.array([[-1, 0, 0, 0],[ 0, 1, 0, 6], [ 0, 0, -1, 2], [ 0, 0, 0, 1]])\n",
    "Blist = np.array([[2, 0, 0, 0, 0, -1],[0, 1, 0, 0, 0, 0], [0, 0, 0.1, 0, 0, 1]]).T\n",
    "thetalist = np.array([np.pi / 2.0, 3, np.pi])\n",
    "T = r.FKinBody(M, Blist,thetalist)\n",
    "\n",
    "print(\">>> Theta for FK(deg): \", thetalist*(180/np.pi))\n",
    "print(\">>> Result of FK: \", T)\n",
    "\n",
    "eomg = 0.0001\n",
    "ev = 0.0001\n",
    "thetalist0 = np.array([1.5, 2.5, 3])\n",
    "thetalist_IK = r.IKinBody(Blist, M, T, thetalist0, eomg, ev)\n",
    "print(\">>> Result of IK(deg): \", thetalist_IK[0]*(180/np.pi))\n",
    "\n",
    "print(\">>> Diff between FK-IK: \",(thetalist-thetalist_IK[0])*(180/np.pi))\n"
   ]
  },
  {
   "attachments": {},
   "cell_type": "markdown",
   "metadata": {},
   "source": [
    "## FK and IK Space 3DOF --> PASS"
   ]
  },
  {
   "cell_type": "code",
   "execution_count": 149,
   "metadata": {},
   "outputs": [
    {
     "name": "stdout",
     "output_type": "stream",
     "text": [
      ">>> Theta for FK(deg):  [ 90.         171.88733854 180.        ]\n",
      ">>> Result of FK:  [[-1.14423775e-17  1.00000000e+00  0.00000000e+00 -5.00000000e+00]\n",
      " [ 1.00000000e+00  1.14423775e-17  0.00000000e+00  4.00000000e+00]\n",
      " [ 0.00000000e+00  0.00000000e+00 -1.00000000e+00  1.01303956e+00]\n",
      " [ 0.00000000e+00  0.00000000e+00  0.00000000e+00  1.00000000e+00]]\n",
      ">>> Result of IK(deg):  [ 89.4380083  167.47737327 178.20793748]\n",
      ">>> Diff between FK-IK:  [0.5619917  4.40996527 1.79206252]\n"
     ]
    }
   ],
   "source": [
    "M = np.array([[-1, 0, 0, 0],[ 0, 1, 0, 6], [ 0, 0, -1, 2], [ 0, 0, 0, 1]])\n",
    "Slist = np.array([[ 4, 0, 0, 0, 0, 1],[ 0, 1, 0, 0, 0, 0], [-6, 0, -0.1, 0, 0, -1]]).T\n",
    "thetalist = np.array([np.pi / 2.0, 3, np.pi])\n",
    "T = r.FKinSpace(M,Slist,thetalist)\n",
    "\n",
    "print(\">>> Theta for FK(deg): \", thetalist*(180/np.pi))\n",
    "print(\">>> Result of FK: \", T)\n",
    "\n",
    "eomg = 0.0001\n",
    "ev = 0.0001\n",
    "thetalist0 = np.array([1.5, 2.5, 3])\n",
    "thetalist_IK = r.IKinSpace(Slist, M, T, thetalist0, eomg, ev)\n",
    "print(\">>> Result of IK(deg): \", thetalist_IK[0]*(180/np.pi))\n",
    "print(\">>> Diff between FK-IK: \",(thetalist-thetalist_IK[0])*(180/np.pi))"
   ]
  },
  {
   "attachments": {},
   "cell_type": "markdown",
   "metadata": {},
   "source": [
    "# Validation Using IndyRP2 Info"
   ]
  },
  {
   "attachments": {},
   "cell_type": "markdown",
   "metadata": {},
   "source": [
    "## FK and IK Body 7 DOF --> FAIL"
   ]
  },
  {
   "cell_type": "code",
   "execution_count": 135,
   "metadata": {},
   "outputs": [
    {
     "name": "stdout",
     "output_type": "stream",
     "text": [
      ">>> Theta for FK(deg):  [90. 90. 90. 90. 90. 90. 90.]\n",
      ">>> Result of FK: \n",
      " [[ 3.33066907e-16 -1.00000000e+00  2.22044605e-16 -1.56300000e-01]\n",
      " [ 1.00000000e+00  3.33066907e-16  2.22044605e-16  2.66500000e-01]\n",
      " [-2.22044605e-16  2.22044605e-16  1.00000000e+00  1.87620000e+00]\n",
      " [ 0.00000000e+00  0.00000000e+00  0.00000000e+00  1.00000000e+00]]\n",
      ">>> Result of IK(deg):  [-163.5, 1050.16, 213.55, -1323.39, 34.16, 164.41, 2261.44]\n",
      ">>> Result of IK(deg,%):  [196.5, 330.16, 213.55, 116.61, 34.16, 164.41, 101.44]\n",
      ">>> Diff between FK-IK(deg):  [-106.5, -240.16, -123.55, -26.61, 55.84, -74.41, -11.44]\n",
      ">>> Result of FK': \n",
      " [[-0.36378699 -0.7799445   0.50925986  0.07130091]\n",
      " [ 0.81915148 -0.00759334  0.57352697  0.339759  ]\n",
      " [-0.44345223  0.62580262  0.64165505  2.05243979]\n",
      " [ 0.          0.          0.          1.        ]]\n",
      ">>> Diff between FK-IK(T): \n",
      " [[ 0.36378699 -0.2200555  -0.50925986 -0.22760091]\n",
      " [ 0.18084852  0.00759334 -0.57352697 -0.073259  ]\n",
      " [ 0.44345223 -0.62580262  0.35834495 -0.17623979]\n",
      " [ 0.          0.          0.          0.        ]]\n"
     ]
    }
   ],
   "source": [
    "M = np.array([\n",
    "    [1, 0, 0,        0],\n",
    "    [ 0, 1, 0, -0.1864],\n",
    "    [ 0, 0, 1,  1.2670],\n",
    "    [ 0, 0, 0,       1]])\n",
    "\n",
    "Blist = np.array([[0.1864,\t0,0,\t0,\t0,\t1],[0.9675,\t0,\t0,\t0,\t-1,\t0],[-0.0073,\t0,\t0,\t0,\t0,\t1],[0.518,\t0,\t0,\t0,\t-1,\t0],[0.183,\t0,\t0,\t0,\t0,\t1],[0.168,\t0,\t0,\t0,\t-1,\t0],[0,\t0,\t0,\t0,\t0,\t1]]).T\n",
    "thetalist = np.ones(7)*np.pi/2.0\n",
    "T = r.FKinBody(M,Blist,thetalist)\n",
    "\n",
    "print(\">>> Theta for FK(deg): \", thetalist*(180/np.pi))\n",
    "print(\">>> Result of FK: \\n\", T)\n",
    "\n",
    "eomg = 0.0001\n",
    "ev = 0.0001\n",
    "thetalist0 = np.zeros(7)\n",
    "thetalist_IK = r.IKinBody(Blist, M, T, thetalist0, eomg, ev)\n",
    "print(\">>> Result of IK(deg): \", [round(x,2) for x in thetalist_IK[0]*(180/np.pi)])\n",
    "print(\">>> Result of IK(deg,%): \", [round(x,2) for x in thetalist_IK[0]*(180/np.pi)%360])\n",
    "print(\">>> Diff between FK-IK(deg): \",[round(x,2) for x in (thetalist*(180/np.pi)-(thetalist_IK[0]*(180/np.pi)%360))])\n",
    "\n",
    "TT = r.FKinBody(M,Blist,thetalist_IK[0])\n",
    "print(\">>> Result of FK': \\n\", TT)\n",
    "print(\">>> Diff between FK-IK(T): \\n\",T-TT)\n"
   ]
  },
  {
   "attachments": {},
   "cell_type": "markdown",
   "metadata": {},
   "source": [
    "## FK and IK Space 7 DOF --> FAIL"
   ]
  },
  {
   "cell_type": "code",
   "execution_count": 136,
   "metadata": {},
   "outputs": [
    {
     "name": "stdout",
     "output_type": "stream",
     "text": [
      ">>> Theta for FK(deg):  [90. 90. 90. 90. 90. 90. 90.]\n",
      ">>> Result of FK: \n",
      " [[ 3.33066907e-16 -1.00000000e+00  2.22044605e-16 -1.56300000e-01]\n",
      " [ 1.00000000e+00  3.33066907e-16  2.22044605e-16  2.66500000e-01]\n",
      " [-2.22044605e-16  2.22044605e-16  1.00000000e+00  1.87620000e+00]\n",
      " [ 0.00000000e+00  0.00000000e+00  0.00000000e+00  1.00000000e+00]]\n",
      ">>> Result of IK(deg):  [8617.19, 1196.01, 4534.77, -8680.06, -1909.45, -1095.38, -1443.58]\n",
      ">>> Result of IK(deg,%):  [337.19, 116.01, 214.77, 319.94, 250.55, 344.62, 356.42]\n",
      ">>> Diff between FK-IK(deg):  [-247.19, -26.01, -124.77, -229.94, -160.55, -254.62, -266.42]\n",
      ">>> Result of FK': \n",
      " [[ 0.40112622  0.79219394 -0.45992013 -0.83845786]\n",
      " [ 0.90637979 -0.41591019  0.0741241  -0.14256233]\n",
      " [-0.13256481 -0.44659543 -0.88486106 -1.7346533 ]\n",
      " [ 0.          0.          0.          1.        ]]\n",
      ">>> Diff between FK-IK(T): \n",
      " [[-0.40112622 -1.79219394  0.45992013  0.68215786]\n",
      " [ 0.09362021  0.41591019 -0.0741241   0.40906233]\n",
      " [ 0.13256481  0.44659543  1.88486106  3.6108533 ]\n",
      " [ 0.          0.          0.          0.        ]]\n"
     ]
    }
   ],
   "source": [
    "M = np.array([\n",
    "    [1, 0, 0,        0],\n",
    "    [ 0, 1, 0, -0.1864],\n",
    "    [ 0, 0, 1,  1.2670],\n",
    "    [ 0, 0, 0,       1]])\n",
    "\n",
    "Slist = np.array([[0,0,0,0,0,1],[-0.2995,0,0,0,-1,0],[-0.1937,0,0,0,0,1],[-0.749,0,0,0,-1,0],[-0.0034,0,0,0,0,1],[-1.099,0,0,0,-1,0],[-0.1864,0,0,0,0,1]]).T\n",
    "thetalist = np.ones(7)*np.pi/2.0\n",
    "T = r.FKinSpace(M,Slist,thetalist)\n",
    "\n",
    "print(\">>> Theta for FK(deg): \", thetalist*(180/np.pi))\n",
    "print(\">>> Result of FK: \\n\", T)\n",
    "\n",
    "eomg = 0.0001\n",
    "ev = 0.0001\n",
    "thetalist0 = np.zeros(7)\n",
    "thetalist_IK = r.IKinSpace(Slist, M, T, thetalist0, eomg, ev)\n",
    "print(\">>> Result of IK(deg): \", [round(x,2) for x in thetalist_IK[0]*(180/np.pi)])\n",
    "print(\">>> Result of IK(deg,%): \", [round(x,2) for x in thetalist_IK[0]*(180/np.pi)%360])\n",
    "print(\">>> Diff between FK-IK(deg): \",[round(x,2) for x in (thetalist*(180/np.pi)-(thetalist_IK[0]*(180/np.pi)%360))])\n",
    "\n",
    "TT = r.FKinSpace(M,Slist,thetalist_IK[0])\n",
    "print(\">>> Result of FK': \\n\", TT)\n",
    "print(\">>> Diff between FK-IK(T): \\n\",T-TT)"
   ]
  },
  {
   "attachments": {},
   "cell_type": "markdown",
   "metadata": {},
   "source": [
    "## FK in Body and Space 7 DOF --> PASS"
   ]
  },
  {
   "cell_type": "code",
   "execution_count": 137,
   "metadata": {},
   "outputs": [
    {
     "name": "stdout",
     "output_type": "stream",
     "text": [
      ">>> Result of FKBody': \n",
      " [[ 3.33066907e-16 -1.00000000e+00  2.22044605e-16 -1.56300000e-01]\n",
      " [ 1.00000000e+00  3.33066907e-16  2.22044605e-16  2.66500000e-01]\n",
      " [-2.22044605e-16  2.22044605e-16  1.00000000e+00  1.87620000e+00]\n",
      " [ 0.00000000e+00  0.00000000e+00  0.00000000e+00  1.00000000e+00]]\n",
      ">>> Result of FKSpace': \n",
      " [[ 3.33066907e-16 -1.00000000e+00  2.22044605e-16 -1.56300000e-01]\n",
      " [ 1.00000000e+00  3.33066907e-16  2.22044605e-16  2.66500000e-01]\n",
      " [-2.22044605e-16  2.22044605e-16  1.00000000e+00  1.87620000e+00]\n",
      " [ 0.00000000e+00  0.00000000e+00  0.00000000e+00  1.00000000e+00]]\n",
      ">>> Diff between Tb-Ts: \n",
      " [[ 0.00000000e+00  0.00000000e+00  0.00000000e+00 -9.99200722e-16]\n",
      " [ 0.00000000e+00  0.00000000e+00  0.00000000e+00 -3.88578059e-16]\n",
      " [ 0.00000000e+00  0.00000000e+00  0.00000000e+00  2.22044605e-16]\n",
      " [ 0.00000000e+00  0.00000000e+00  0.00000000e+00  0.00000000e+00]]\n"
     ]
    }
   ],
   "source": [
    "M = np.array([\n",
    "    [1, 0, 0,        0],\n",
    "    [ 0, 1, 0, -0.1864],\n",
    "    [ 0, 0, 1,  1.2670],\n",
    "    [ 0, 0, 0,       1]])\n",
    "\n",
    "Blist = np.array([[0.1864,\t0,0,\t0,\t0,\t1],[0.9675,\t0,\t0,\t0,\t-1,\t0],[-0.0073,\t0,\t0,\t0,\t0,\t1],[0.518,\t0,\t0,\t0,\t-1,\t0],[0.183,\t0,\t0,\t0,\t0,\t1],[0.168,\t0,\t0,\t0,\t-1,\t0],[0,\t0,\t0,\t0,\t0,\t1]]).T\n",
    "Slist = np.array([[0,0,0,0,0,1],[-0.2995,0,0,0,-1,0],[-0.1937,0,0,0,0,1],[-0.749,0,0,0,-1,0],[-0.0034,0,0,0,0,1],[-1.099,0,0,0,-1,0],[-0.1864,0,0,0,0,1]]).T\n",
    "\n",
    "thetalist = np.ones(7)*np.pi/2.0\n",
    "Ts = r.FKinSpace(M,Slist,thetalist)\n",
    "Tb = r.FKinBody(M,Blist,thetalist)\n",
    "print(\">>> Result of FKBody': \\n\", Tb)\n",
    "print(\">>> Result of FKSpace': \\n\", Ts)\n",
    "print(\">>> Diff between Tb-Ts: \\n\",Tb-Ts)\n"
   ]
  },
  {
   "attachments": {},
   "cell_type": "markdown",
   "metadata": {},
   "source": [
    "## IK in Body and Space 7 DOF --> FAIL"
   ]
  },
  {
   "cell_type": "code",
   "execution_count": 148,
   "metadata": {},
   "outputs": [
    {
     "name": "stdout",
     "output_type": "stream",
     "text": [
      ">>> Result of IKs(deg,%):  [241.83, 8.48, 36.26, 145.48, 235.25, 253.94, 284.94]\n",
      ">>> Result of IKb(deg,%):  [90.01, 90.0, 89.99, 90.0, 90.0, 90.01, 90.0]\n",
      ">>> Diff between IKs-IKb(deg):  [151.83, -81.52, -53.73, 55.49, 145.24, 163.93, 194.95]\n"
     ]
    }
   ],
   "source": [
    "M = np.array([\n",
    "    [1, 0, 0,        0],\n",
    "    [ 0, 1, 0, -0.1864],\n",
    "    [ 0, 0, 1,  1.2670],\n",
    "    [ 0, 0, 0,       1]])\n",
    "\n",
    "Blist = np.array([[0.1864,\t0,0,\t0,\t0,\t1],[0.9675,\t0,\t0,\t0,\t-1,\t0],[-0.0073,\t0,\t0,\t0,\t0,\t1],[0.518,\t0,\t0,\t0,\t-1,\t0],[0.183,\t0,\t0,\t0,\t0,\t1],[0.168,\t0,\t0,\t0,\t-1,\t0],[0,\t0,\t0,\t0,\t0,\t1]]).T\n",
    "Slist = np.array([[0,0,0,0,0,1],[-0.2995,0,0,0,-1,0],[-0.1937,0,0,0,0,1],[-0.749,0,0,0,-1,0],[-0.0034,0,0,0,0,1],[-1.099,0,0,0,-1,0],[-0.1864,0,0,0,0,1]]).T\n",
    "\n",
    "thetalist = np.ones(7)*np.pi/2.0\n",
    "Ts = r.FKinSpace(M,Slist,thetalist)\n",
    "\n",
    "eomg = 0.0001\n",
    "ev = 0.0001\n",
    "thetalist0 = thetalist - np.random.rand(7)*0.0001\n",
    "\n",
    "thetalist_IKs = r.IKinSpace(Slist, M, T, thetalist0, eomg, ev)\n",
    "thetalist_IKb = r.IKinBody(Blist, M, T, thetalist0, eomg, ev)\n",
    "\n",
    "print(\">>> Result of IKs(deg,%): \", [round(x,2) for x in thetalist_IKs[0]*(180/np.pi)%360])\n",
    "print(\">>> Result of IKb(deg,%): \", [round(x,2) for x in thetalist_IKb[0]*(180/np.pi)%360])\n",
    "print(\">>> Diff between IKs-IKb(deg): \",[round(x,2) for x in ((thetalist_IKs[0]*(180/np.pi)%360)-(thetalist_IKb[0]*(180/np.pi)%360))])"
   ]
  },
  {
   "attachments": {},
   "cell_type": "markdown",
   "metadata": {},
   "source": [
    "# 7 DOF"
   ]
  },
  {
   "cell_type": "code",
   "execution_count": 106,
   "metadata": {},
   "outputs": [
    {
     "name": "stdout",
     "output_type": "stream",
     "text": [
      ">>> Result of IK(rad):  [-152.13030523   64.79403474 -138.29620881  -58.42568669  145.57403555\n",
      "   19.69317382  -14.75529024]\n",
      ">>> Result of IK(deg):  -8716.4244255022,3712.4247280368013,-7923.789087531694,-3347.5452625855914,8340.777843654909,1128.3357448397853,-845.4158559876978\n",
      ">>> Result of IK(deg,%):  283.5755744977996,112.4247280368013,356.21091246830565,252.45473741440856,60.77784365490879,48.33574483978532,234.5841440123022\n"
     ]
    }
   ],
   "source": [
    "M = np.array([\n",
    "    [1, 0, 0,        0],\n",
    "    [ 0, 1, 0, -0.1864],\n",
    "    [ 0, 0, 1,  1.2670],\n",
    "    [ 0, 0, 0,       1]])\n",
    "\n",
    "# [0,0,0,0,0,0,0]\n",
    "T = np.array([\n",
    "    [1, 0, 0,        0],\n",
    "    [ 0, 1, 0, -0.1864],\n",
    "    [ 0, 0, 1,  1.2670],\n",
    "    [ 0, 0, 0,       1]])\n",
    "\n",
    "# [0,30,0,-60,0,30,0]\n",
    "# T = np.array([\n",
    "#     [1, 0, 0,        -0.0497],\n",
    "#     [ 0, 1, 0, -0.1864],\n",
    "#     [ 0, 0, 1,  1.1599],\n",
    "#     [ 0, 0, 0,       1]])\n",
    "\n",
    "# T = np.array([\n",
    "#     [ 0, 0,-1, -0.9675],\n",
    "#     [ 0, 1, 0, -0.1864], \n",
    "#     [ 1, 0, 0,  0.2995], \n",
    "#     [ 0, 0, 0,       1]])\n",
    "\n",
    "Slist = np.array([[0,0,0,0,0,1],[-0.2995,0,0,0,-1,0],[-0.1937,0,0,0,0,1],[-0.749,0,0,0,-1,0],[-0.0034,0,0,0,0,1],[-1.099,0,0,0,-1,0],[-0.1864,0,0,0,0,1]]).T\n",
    "eomg = 999999\n",
    "ev = 0.001\n",
    "thetalist0 = np.array([0,0,np.pi/2.0,0,0,0,0])\n",
    "#thetalist0 = np.ones(7)*np.pi/0.001\n",
    "thetalist_IK = r.IKinSpace(Slist, M, T, thetalist0, eomg, ev)\n",
    "print(\">>> Result of IK(rad): \", thetalist_IK[0])\n",
    "print(\">>> Result of IK(deg): \", \",\".join(map(str,thetalist_IK[0]*(180/np.pi))))\n",
    "print(\">>> Result of IK(deg,%): \", \",\".join(map(str,thetalist_IK[0]*(180/np.pi)%360)))"
   ]
  },
  {
   "cell_type": "code",
   "execution_count": 121,
   "metadata": {},
   "outputs": [
    {
     "name": "stdout",
     "output_type": "stream",
     "text": [
      ">>> Result of IK(rad):  [200.88761068  31.76328324 233.05470005   2.70301826 -49.28424812\n",
      " 132.84740778 -96.3986608 ]\n",
      ">>> Result of IK(deg):  11510.01224834774,1819.9020732601898,13353.05070859546,154.8715380004641,-2823.7794134951905,7611.595785064527,-5523.236414558892\n",
      ">>> Result of IK(deg,%):  350.01224834774075,19.90207326018981,33.05070859545958,154.8715380004641,56.22058650480949,51.59578506452726,236.76358544110826\n",
      ">>> Result of IK(deg,%,const):  170.01224834774075,19.90207326018981,33.05070859545958,154.8715380004641,56.22058650480949,51.59578506452726,56.76358544110735\n"
     ]
    }
   ],
   "source": [
    "M = np.array([\n",
    "    [1, 0, 0,        0],\n",
    "    [ 0, 1, 0, -0.1864],\n",
    "    [ 0, 0, 1,  1.2670],\n",
    "    [ 0, 0, 0,       1]])\n",
    "\n",
    "# [0,0,0,0,0,0,0]\n",
    "T = np.array([\n",
    "    [1, 0, 0,        0],\n",
    "    [ 0, 1, 0, -0.1864],\n",
    "    [ 0, 0, 1,  1.2670],\n",
    "    [ 0, 0, 0,       1]])\n",
    "\n",
    "# [0,30,0,-60,0,30,0]\n",
    "# T = np.array([\n",
    "#     [1, 0, 0,        -0.0497],\n",
    "#     [ 0, 1, 0, -0.1864],\n",
    "#     [ 0, 0, 1,  1.1599],\n",
    "#     [ 0, 0, 0,       1]])\n",
    "\n",
    "# [0,45,0,-90,0,45,0]\n",
    "# T = np.array([\n",
    "#     [1, 0, 0,  -0.0704],\n",
    "#     [ 0, 1, 0, -0.1864],\n",
    "#     [ 0, 0, 1,  1.0328],\n",
    "#     [ 0, 0, 0,       1]])\n",
    "\n",
    "Blist = np.array([[0.1864,\t0,0,\t0,\t0,\t1],[0.9675,\t0,\t0,\t0,\t-1,\t0],[-0.0073,\t0,\t0,\t0,\t0,\t1],[0.518,\t0,\t0,\t0,\t-1,\t0],[0.183,\t0,\t0,\t0,\t0,\t1],[0.168,\t0,\t0,\t0,\t-1,\t0],[0,\t0,\t0,\t0,\t0,\t1]]).T\n",
    "eomg = 0.1\n",
    "ev = 0.001\n",
    "#thetalist0 = np.array([0,0,0.01,0,0,0,0])\n",
    "thetalist0 = np.ones(7)*np.pi/1\n",
    "thetalist_IK = r.IKinBody(Blist, M, T, thetalist0, eomg, ev)\n",
    "print(\">>> Result of IK(rad): \", thetalist_IK[0])\n",
    "print(\">>> Result of IK(deg): \", \",\".join(map(str,thetalist_IK[0]*(180/np.pi))))\n",
    "print(\">>> Result of IK(deg,%): \", \",\".join(map(str,thetalist_IK[0]*(180/np.pi)%360)))\n",
    "\n",
    "# Apply Joint Angle Constrains\n",
    "for i in range(7):\n",
    "    if thetalist_IK[0][i]*(180/np.pi)%360 > 180:\n",
    "        thetalist_IK[0][i] = thetalist_IK[0][i] - np.pi\n",
    "print(\">>> Result of IK(deg,%,const): \", \",\".join(map(str,thetalist_IK[0]*(180/np.pi)%360)))"
   ]
  },
  {
   "attachments": {},
   "cell_type": "markdown",
   "metadata": {},
   "source": [
    "# 6 DOF"
   ]
  },
  {
   "cell_type": "code",
   "execution_count": 54,
   "metadata": {},
   "outputs": [
    {
     "name": "stdout",
     "output_type": "stream",
     "text": [
      ">>> Result of IK(rad):  [-4.13540164e+08  6.39234778e+09  1.72237838e+08  1.73227707e+09\n",
      "  2.41303124e+08 -8.12461985e+09]\n",
      ">>> Result of IK(deg):  -23694106032.681202,366254548953.01245,9868501174.256493,99252164869.72464,13825650581.847212,-465506427590.59064\n",
      ">>> Result of IK(deg,%):  287.31879806518555,33.012451171875,94.2564926147461,349.7246398925781,341.84721183776855,9.40936279296875\n"
     ]
    }
   ],
   "source": [
    "M = np.array([\n",
    "    [1, 0, 0,        0],\n",
    "    [ 0, 1, 0, -0.1864],\n",
    "    [ 0, 0, 1,  1.2670],\n",
    "    [ 0, 0, 0,       1]])\n",
    "\n",
    "T = np.array([\n",
    "    [1, 0, 0,        0],\n",
    "    [ 0, 1, 0, -0.1864],\n",
    "    [ 0, 0, 1,  1.2650],\n",
    "    [ 0, 0, 0,       1]])\n",
    "\n",
    "# T = np.array([\n",
    "#     [ 0, 0,-1, -0.9675],\n",
    "#     [ 0, 1, 0, -0.1864], \n",
    "#     [ 1, 0, 0,  0.2995], \n",
    "#     [ 0, 0, 0,       1]])\n",
    "\n",
    "Slist = np.array([[-0.2995,0,0,0,-1,0],[-0.1937,0,0,0,0,1],[-0.749,0,0,0,-1,0],[-0.0034,0,0,0,0,1],[-1.099,0,0,0,-1,0],[-0.1864,0,0,0,0,1]]).T\n",
    "eomg = 0.001\n",
    "ev = 0.001\n",
    "#thetalist0 = np.array([0,np.pi/0.1,0,0,0,0,0])\n",
    "thetalist0 = np.ones(6)*np.pi/0.01\n",
    "thetalist_IK = r.IKinSpace(Slist, M, T, thetalist0, eomg, ev)\n",
    "print(\">>> Result of IK(rad): \", thetalist_IK[0])\n",
    "print(\">>> Result of IK(deg): \", \",\".join(map(str,thetalist_IK[0]*(180/np.pi))))\n",
    "print(\">>> Result of IK(deg,%): \", \",\".join(map(str,thetalist_IK[0]*(180/np.pi)%360)))"
   ]
  }
 ],
 "metadata": {
  "kernelspec": {
   "display_name": "MECH639",
   "language": "python",
   "name": "python3"
  },
  "language_info": {
   "codemirror_mode": {
    "name": "ipython",
    "version": 3
   },
   "file_extension": ".py",
   "mimetype": "text/x-python",
   "name": "python",
   "nbconvert_exporter": "python",
   "pygments_lexer": "ipython3",
   "version": "3.8.16"
  },
  "orig_nbformat": 4
 },
 "nbformat": 4,
 "nbformat_minor": 2
}
