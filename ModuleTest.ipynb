{
 "cells": [
  {
   "attachments": {},
   "cell_type": "markdown",
   "metadata": {},
   "source": [
    "## Import Modules"
   ]
  },
  {
   "cell_type": "code",
   "execution_count": 244,
   "metadata": {},
   "outputs": [
    {
     "data": {
      "text/plain": [
       "<module 'RoboticsCore' from 'd:\\\\MECH639\\\\mech639_pybullet\\\\RoboticsCore.py'>"
      ]
     },
     "execution_count": 244,
     "metadata": {},
     "output_type": "execute_result"
    }
   ],
   "source": [
    "import importlib\n",
    "import numpy as np\n",
    "import RoboticsCore as r\n",
    "importlib.reload(r)"
   ]
  },
  {
   "attachments": {},
   "cell_type": "markdown",
   "metadata": {},
   "source": [
    "# Validation Robotics Core"
   ]
  },
  {
   "attachments": {},
   "cell_type": "markdown",
   "metadata": {},
   "source": [
    "## VecTose3"
   ]
  },
  {
   "cell_type": "code",
   "execution_count": 211,
   "metadata": {},
   "outputs": [
    {
     "data": {
      "text/plain": [
       "array([[ 0., -6.,  5.,  1.],\n",
       "       [ 6.,  0., -4.,  2.],\n",
       "       [-5.,  4.,  0.,  3.],\n",
       "       [ 0.,  0.,  0.,  0.]])"
      ]
     },
     "execution_count": 211,
     "metadata": {},
     "output_type": "execute_result"
    }
   ],
   "source": [
    "V = np.array([1, 2, 3, 4, 5, 6])\n",
    "\n",
    "r.VecTose3(V)"
   ]
  },
  {
   "attachments": {},
   "cell_type": "markdown",
   "metadata": {},
   "source": [
    "## se3ToVec"
   ]
  },
  {
   "cell_type": "code",
   "execution_count": 241,
   "metadata": {},
   "outputs": [
    {
     "data": {
      "text/plain": [
       "array([1, 2, 3, 4, 5, 6])"
      ]
     },
     "execution_count": 241,
     "metadata": {},
     "output_type": "execute_result"
    }
   ],
   "source": [
    "se3mat = np.array([[ 0, -6,  5, 1],\n",
    "                    [ 6,  0, -4, 2],\n",
    "                    [-5,  4,  0, 3],\n",
    "                    [ 0,  0,  0, 0]])\n",
    "r.se3ToVec(se3mat)"
   ]
  },
  {
   "attachments": {},
   "cell_type": "markdown",
   "metadata": {},
   "source": [
    "## Adjoint"
   ]
  },
  {
   "cell_type": "code",
   "execution_count": 221,
   "metadata": {},
   "outputs": [
    {
     "data": {
      "text/plain": [
       "array([[ 1.,  0.,  0.,  0.,  0.,  3.],\n",
       "       [ 0.,  0., -1.,  3.,  0.,  0.],\n",
       "       [ 0.,  1.,  0.,  0.,  0.,  0.],\n",
       "       [ 0.,  0.,  0.,  1.,  0.,  0.],\n",
       "       [ 0.,  0.,  0.,  0.,  0., -1.],\n",
       "       [ 0.,  0.,  0.,  0.,  1.,  0.]])"
      ]
     },
     "execution_count": 221,
     "metadata": {},
     "output_type": "execute_result"
    }
   ],
   "source": [
    "T = np.array([[1, 0,  0, 0],\n",
    "                [0, 0, -1, 0],\n",
    "                [0, 1,  0, 3],\n",
    "                [0, 0,  0, 1]])\n",
    "\n",
    "r.Adjoint(T)"
   ]
  },
  {
   "attachments": {},
   "cell_type": "markdown",
   "metadata": {},
   "source": [
    "## MatrixExp6"
   ]
  },
  {
   "cell_type": "code",
   "execution_count": 243,
   "metadata": {},
   "outputs": [
    {
     "data": {
      "text/plain": [
       "array([[ 1.00000000e+00,  0.00000000e+00,  0.00000000e+00,\n",
       "         0.00000000e+00],\n",
       "       [ 0.00000000e+00,  6.79489676e-09, -1.00000000e+00,\n",
       "         1.01923451e-08],\n",
       "       [ 0.00000000e+00,  1.00000000e+00,  6.79489676e-09,\n",
       "         3.00000000e+00],\n",
       "       [ 0.00000000e+00,  0.00000000e+00,  0.00000000e+00,\n",
       "         1.00000000e+00]])"
      ]
     },
     "execution_count": 243,
     "metadata": {},
     "output_type": "execute_result"
    }
   ],
   "source": [
    "se3mat = np.array([[0,          0,           0,          0],\n",
    "                    [0,          0, -1.57079632, 2.35619449],\n",
    "                    [0, 1.57079632,           0, 2.35619449],\n",
    "                    [0,          0,           0,          0]])\n",
    "r.MatrixExp6(se3mat, formula=1)"
   ]
  },
  {
   "attachments": {},
   "cell_type": "markdown",
   "metadata": {},
   "source": [
    "## Jacobian"
   ]
  },
  {
   "cell_type": "code",
   "execution_count": 222,
   "metadata": {},
   "outputs": [
    {
     "name": "stdout",
     "output_type": "stream",
     "text": [
      "[[0.  2.  0.  0.2]\n",
      " [0.2 0.  2.  0.3]\n",
      " [0.2 3.  1.  0.4]\n",
      " [0.  1.  0.  1. ]\n",
      " [0.  0.  1.  0. ]\n",
      " [1.  0.  0.  0. ]]\n"
     ]
    },
    {
     "data": {
      "text/plain": [
       "array([[ 2.42667378,  1.68606002,  0.56410831,  0.2       ],\n",
       "       [-1.61330295,  2.78042027,  1.38832734,  0.3       ],\n",
       "       [-2.26283471,  1.75945234, -1.60607945,  0.4       ],\n",
       "       [-0.04528405,  0.99500417,  0.        ,  1.        ],\n",
       "       [ 0.74359313,  0.09304865,  0.36235775,  0.        ],\n",
       "       [-0.66709716,  0.03617541, -0.93203909,  0.        ]])"
      ]
     },
     "execution_count": 222,
     "metadata": {},
     "output_type": "execute_result"
    }
   ],
   "source": [
    "Blist = np.array([[   0,   0.2, 0.2, 0, 0, 1],\n",
    "                    [   2,     0,   3, 1, 0, 0],\n",
    "                    [   0,     2,   1, 0, 1, 0],\n",
    "                    [ 0.2,   0.3, 0.4, 1, 0, 0]]).T\n",
    "thetalist = np.array([0.2, 1.1, 0.1, 1.2])\n",
    "\n",
    "print(Blist)\n",
    "r.JacobianBody(Blist, thetalist)"
   ]
  },
  {
   "cell_type": "code",
   "execution_count": 226,
   "metadata": {},
   "outputs": [
    {
     "data": {
      "text/plain": [
       "array([[ 2.42667378,  1.68606002,  0.56410831,  0.2       ],\n",
       "       [-1.61330295,  2.78042027,  1.38832734,  0.3       ],\n",
       "       [-2.26283471,  1.75945234, -1.60607945,  0.4       ],\n",
       "       [-0.04528405,  0.99500417,  0.        ,  1.        ],\n",
       "       [ 0.74359313,  0.09304865,  0.36235775,  0.        ],\n",
       "       [-0.66709716,  0.03617541, -0.93203909,  0.        ]])"
      ]
     },
     "execution_count": 226,
     "metadata": {},
     "output_type": "execute_result"
    }
   ],
   "source": [
    "Slist = np.array([[  0, 0.2, 0.2, 0, 0, 1],\n",
    "                    [  2,   0,   3, 1, 0, 0],\n",
    "                    [  0,   2,   1, 0, 1, 0],\n",
    "                    [0.2, 0.3, 0.4, 1, 0, 0]]).T\n",
    "thetalist = np.array([0.2, 1.1, 0.1, 1.2])\n",
    "\n",
    "r.JacobianBody(Blist, thetalist)\n"
   ]
  },
  {
   "attachments": {},
   "cell_type": "markdown",
   "metadata": {},
   "source": [
    "## se3 -> SE3 --> PASS"
   ]
  },
  {
   "cell_type": "code",
   "execution_count": 45,
   "metadata": {},
   "outputs": [
    {
     "name": "stdout",
     "output_type": "stream",
     "text": [
      "[[ 1.          0.          0.          3.        ]\n",
      " [ 0.          0.54030231  0.84147098  6.27991891]\n",
      " [ 0.         -0.84147098  0.54030231  7.49531446]\n",
      " [ 0.          0.          0.          1.        ]]\n",
      "[[ 1.          0.          0.          3.        ]\n",
      " [ 0.          0.54030231  0.84147098  6.27991891]\n",
      " [ 0.         -0.84147098  0.54030231  7.49531446]\n",
      " [ 0.          0.          0.          1.        ]]\n",
      "[[0.0000000e+00 0.0000000e+00 0.0000000e+00 0.0000000e+00]\n",
      " [0.0000000e+00 0.0000000e+00 0.0000000e+00 0.0000000e+00]\n",
      " [0.0000000e+00 0.0000000e+00 0.0000000e+00 8.8817842e-16]\n",
      " [0.0000000e+00 0.0000000e+00 0.0000000e+00 0.0000000e+00]]\n"
     ]
    }
   ],
   "source": [
    "#se3mat = np.array([[0, 0, 0, 0], [0, 0, -1.57079632, 2.35619449], [0, 1.57079632, 0, 2.35619449], [0, 0, 0, 0]])\n",
    "#se3mat = np.array([[0, 0, 0, 0], [0, 0, -1.570, 2.356], [0, 1.570, 0, 2.356], [0, 0, 0, 0]]) # Pitch h=0\n",
    "se3mat = np.array([[0, 0, 0, 3], [0, 0, 1.0, 2.0], [0, -1.0, 0, 10.0], [0, 0, 0, 0]])\n",
    "print(r.MatrixExp6(se3mat, formula=1))\n",
    "print(r.MatrixExp6(se3mat, formula=2))\n",
    "print(r.MatrixExp6(se3mat, formula=1)-r.MatrixExp6(se3mat, formula=2))"
   ]
  },
  {
   "attachments": {},
   "cell_type": "markdown",
   "metadata": {},
   "source": [
    "## FK and IK Body 3DOF --> PASS"
   ]
  },
  {
   "cell_type": "code",
   "execution_count": 245,
   "metadata": {},
   "outputs": [
    {
     "name": "stdout",
     "output_type": "stream",
     "text": [
      ">>> Theta for FK(deg):  [ 90.         171.88733854 180.        ]\n",
      ">>> Result of FK:  [[-1.14423775e-17  1.00000000e+00  0.00000000e+00 -5.00000000e+00]\n",
      " [ 1.00000000e+00  1.14423775e-17  0.00000000e+00  4.00000000e+00]\n",
      " [ 0.00000000e+00  0.00000000e+00 -1.00000000e+00  1.68584073e+00]\n",
      " [ 0.00000000e+00  0.00000000e+00  0.00000000e+00  1.00000000e+00]]\n"
     ]
    },
    {
     "name": "stderr",
     "output_type": "stream",
     "text": [
      "[IKinBody] Root Finding with iterative Newton-Raphson:   0%|          | 3/1000 [00:00<00:00, 1002.78it/s]"
     ]
    },
    {
     "name": "stdout",
     "output_type": "stream",
     "text": [
      ">>> Result of IK(deg):  [ 90.00000022 171.88733806 180.00000022]\n",
      ">>> Diff between FK-IK:  [-2.21149946e-07  4.81785054e-07 -2.18960351e-07]\n"
     ]
    },
    {
     "name": "stderr",
     "output_type": "stream",
     "text": [
      "\n"
     ]
    }
   ],
   "source": [
    "M = np.array([[-1, 0, 0, 0],[ 0, 1, 0, 6], [ 0, 0, -1, 2], [ 0, 0, 0, 1]])\n",
    "Blist = np.array([[2, 0, 0, 0, 0, -1],[0, 1, 0, 0, 0, 0], [0, 0, 0.1, 0, 0, 1]]).T\n",
    "thetalist = np.array([np.pi / 2.0, 3, np.pi])\n",
    "T = r.FKinBody(M, Blist,thetalist)\n",
    "\n",
    "print(\">>> Theta for FK(deg): \", thetalist*(180/np.pi))\n",
    "print(\">>> Result of FK: \", T)\n",
    "\n",
    "eomg = 0.0001\n",
    "ev = 0.0001\n",
    "thetalist0 = np.array([1.5, 2.5, 3])\n",
    "thetalist_IK = r.IKinBody(Blist, M, T, thetalist0, eomg, ev)\n",
    "print(\">>> Result of IK(deg): \", thetalist_IK[0]*(180/np.pi))\n",
    "\n",
    "print(\">>> Diff between FK-IK: \",(thetalist-thetalist_IK[0])*(180/np.pi))\n"
   ]
  },
  {
   "attachments": {},
   "cell_type": "markdown",
   "metadata": {},
   "source": [
    "## FK and IK Space 3DOF --> PASS"
   ]
  },
  {
   "cell_type": "code",
   "execution_count": 248,
   "metadata": {},
   "outputs": [
    {
     "name": "stdout",
     "output_type": "stream",
     "text": [
      ">>> Theta for FK(deg):  [ 90.         171.88733854 180.        ]\n",
      ">>> Result of FK:  [[-1.14423775e-17  1.00000000e+00  0.00000000e+00 -5.00000000e+00]\n",
      " [ 1.00000000e+00  1.14423775e-17  0.00000000e+00  4.00000000e+00]\n",
      " [ 0.00000000e+00  0.00000000e+00 -1.00000000e+00  1.68584073e+00]\n",
      " [ 0.00000000e+00  0.00000000e+00  0.00000000e+00  1.00000000e+00]]\n"
     ]
    },
    {
     "name": "stderr",
     "output_type": "stream",
     "text": [
      "[IKinSpace] Root Finding with iterative Newton-Raphson:   3%|▎         | 3/100 [00:00<00:00, 752.66it/s]"
     ]
    },
    {
     "name": "stdout",
     "output_type": "stream",
     "text": [
      ">>> Result of IK(deg):  [ 90.00000023 171.88733805 180.00000054]\n",
      ">>> Diff between FK-IK:  [-2.25507968e-07  4.92294981e-07 -5.38465668e-07]\n"
     ]
    },
    {
     "name": "stderr",
     "output_type": "stream",
     "text": [
      "\n"
     ]
    }
   ],
   "source": [
    "M = np.array([[-1, 0, 0, 0],[ 0, 1, 0, 6], [ 0, 0, -1, 2], [ 0, 0, 0, 1]])\n",
    "Slist = np.array([[ 4, 0, 0, 0, 0, 1],[ 0, 1, 0, 0, 0, 0], [-6, 0, -0.1, 0, 0, -1]]).T\n",
    "thetalist = np.array([np.pi / 2.0, 3, np.pi])\n",
    "T = r.FKinSpace(M,Slist,thetalist)\n",
    "\n",
    "print(\">>> Theta for FK(deg): \", thetalist*(180/np.pi))\n",
    "print(\">>> Result of FK: \", T)\n",
    "\n",
    "eomg = 0.0001\n",
    "ev = 0.0001\n",
    "thetalist0 = np.array([1.5, 2.5, 3])\n",
    "thetalist_IK = r.IKinSpace(Slist, M, T, thetalist0, eomg, ev, maxiter=100)\n",
    "print(\">>> Result of IK(deg): \", thetalist_IK[0]*(180/np.pi))\n",
    "print(\">>> Diff between FK-IK: \",(thetalist-thetalist_IK[0])*(180/np.pi))"
   ]
  },
  {
   "attachments": {},
   "cell_type": "markdown",
   "metadata": {},
   "source": [
    "# Validation Using IndyRP2 Info"
   ]
  },
  {
   "attachments": {},
   "cell_type": "markdown",
   "metadata": {},
   "source": [
    "## FK and IK Body 7 DOF --> PASS\n",
    "* Preper iterations for IK = 10"
   ]
  },
  {
   "cell_type": "code",
   "execution_count": 249,
   "metadata": {},
   "outputs": [
    {
     "name": "stdout",
     "output_type": "stream",
     "text": [
      ">>> Theta for FK(deg):  [90. 90. 90. 90. 90. 90. 90.]\n",
      ">>> Result of FK: \n",
      " [[ 3.33066907e-16 -1.00000000e+00  2.22044605e-16 -1.56300000e-01]\n",
      " [ 1.00000000e+00  3.33066907e-16  2.22044605e-16  2.66500000e-01]\n",
      " [-2.22044605e-16  2.22044605e-16  1.00000000e+00  1.87620000e+00]\n",
      " [ 0.00000000e+00  0.00000000e+00  0.00000000e+00  1.00000000e+00]]\n"
     ]
    },
    {
     "name": "stderr",
     "output_type": "stream",
     "text": [
      "[IKinBody] Root Finding with iterative Newton-Raphson: 100%|██████████| 10/10 [00:00<00:00, 557.40it/s]"
     ]
    },
    {
     "name": "stdout",
     "output_type": "stream",
     "text": [
      ">>> Result of IK(deg):  [221.73, -803.12, -78.45, -174.19, -799.19, 261.98, 942.5]\n",
      ">>> Result of IK(deg,%):  [221.73, 276.88, 281.55, 185.81, 280.81, 261.98, 222.5]\n",
      ">>> Diff between FK-IK(deg):  [-131.73, -186.88, -191.55, -95.81, -190.81, -171.98, -132.5]\n",
      ">>> Result of FK': \n",
      " [[ 3.19915705e-04 -9.99999933e-01 -1.77700869e-04 -1.56303394e-01]\n",
      " [ 9.99999931e-01  3.19949528e-04 -1.90342416e-04  2.66572293e-01]\n",
      " [ 1.90399258e-04 -1.77639963e-04  9.99999966e-01  1.87630779e+00]\n",
      " [ 0.00000000e+00  0.00000000e+00  0.00000000e+00  1.00000000e+00]]\n",
      ">>> Mean of FK-IK(T):  -2.882724043190648e-05\n",
      ">>> Diff between FK-IK(T): \n",
      " [[-3.19915705e-04 -6.69618307e-08  1.77700869e-04  3.39357775e-06]\n",
      " [ 6.92989703e-08 -3.19949528e-04  1.90342416e-04 -7.22928933e-05]\n",
      " [-1.90399258e-04  1.77639963e-04  3.39039175e-08 -1.07791528e-04]\n",
      " [ 0.00000000e+00  0.00000000e+00  0.00000000e+00  0.00000000e+00]]\n"
     ]
    },
    {
     "name": "stderr",
     "output_type": "stream",
     "text": [
      "\n"
     ]
    }
   ],
   "source": [
    "M = np.array([\n",
    "    [1, 0, 0,        0],\n",
    "    [ 0, 1, 0, -0.1864],\n",
    "    [ 0, 0, 1,  1.2670],\n",
    "    [ 0, 0, 0,       1]])\n",
    "\n",
    "Blist = np.array([[0.1864,\t0,0,\t0,\t0,\t1],[0.9675,\t0,\t0,\t0,\t-1,\t0],[-0.0073,\t0,\t0,\t0,\t0,\t1],[0.518,\t0,\t0,\t0,\t-1,\t0],[0.183,\t0,\t0,\t0,\t0,\t1],[0.168,\t0,\t0,\t0,\t-1,\t0],[0,\t0,\t0,\t0,\t0,\t1]]).T\n",
    "thetalist = np.ones(7)*np.pi/2.0\n",
    "T = r.FKinBody(M,Blist,thetalist)\n",
    "\n",
    "print(\">>> Theta for FK(deg): \", thetalist*(180/np.pi))\n",
    "print(\">>> Result of FK: \\n\", T)\n",
    "\n",
    "eomg = 0.0001\n",
    "ev = 0.0001\n",
    "thetalist0 = np.zeros(7)\n",
    "thetalist_IK = r.IKinBody(Blist, M, T, thetalist0, eomg, ev, maxiter=10)\n",
    "print(\">>> Result of IK(deg): \", [round(x,2) for x in thetalist_IK[0]*(180/np.pi)])\n",
    "print(\">>> Result of IK(deg,%): \", [round(x,2) for x in thetalist_IK[0]*(180/np.pi)%360])\n",
    "print(\">>> Diff between FK-IK(deg): \",[round(x,2) for x in (thetalist*(180/np.pi)-(thetalist_IK[0]*(180/np.pi)%360))])\n",
    "\n",
    "TT = r.FKinBody(M,Blist,thetalist_IK[0])\n",
    "print(\">>> Result of FK': \\n\", TT)\n",
    "print(\">>> Mean of FK-IK(T): \", np.mean(T-TT))\n",
    "print(\">>> Diff between FK-IK(T): \\n\",T-TT)\n"
   ]
  },
  {
   "attachments": {},
   "cell_type": "markdown",
   "metadata": {},
   "source": [
    "## FK and IK Space 7 DOF --> PASS\n",
    "* Preper iterations for IK = 10"
   ]
  },
  {
   "cell_type": "code",
   "execution_count": 235,
   "metadata": {},
   "outputs": [
    {
     "name": "stdout",
     "output_type": "stream",
     "text": [
      ">>> Theta for FK(deg):  [90. 90. 90. 90. 90. 90. 90.]\n",
      ">>> Result of FK: \n",
      " [[ 3.33066907e-16 -1.00000000e+00  2.22044605e-16 -1.56300000e-01]\n",
      " [ 1.00000000e+00  3.33066907e-16  2.22044605e-16  2.66500000e-01]\n",
      " [-2.22044605e-16  2.22044605e-16  1.00000000e+00  1.87620000e+00]\n",
      " [ 0.00000000e+00  0.00000000e+00  0.00000000e+00  1.00000000e+00]]\n"
     ]
    },
    {
     "name": "stderr",
     "output_type": "stream",
     "text": [
      "[IKinSpace] Root Finding with iterative Newton-Raphson: 100%|██████████| 10/10 [00:00<00:00, 401.33it/s]"
     ]
    },
    {
     "name": "stdout",
     "output_type": "stream",
     "text": [
      ">>> Result of IK(deg):  [221.73, -803.12, -78.45, -174.19, -799.19, 261.98, 942.5]\n",
      ">>> Result of IK(deg,%):  [221.73, 276.88, 281.55, 185.81, 280.81, 261.98, 222.5]\n",
      ">>> Diff between FK-IK(deg):  [-131.73, -186.88, -191.55, -95.81, -190.81, -171.98, -132.5]\n",
      ">>> Result of FK': \n",
      " [[ 3.19915704e-04 -9.99999933e-01 -1.77700868e-04 -1.56753688e-01]\n",
      " [ 9.99999931e-01  3.19949527e-04 -1.90342415e-04  2.66089965e-01]\n",
      " [ 1.90399258e-04 -1.77639962e-04  9.99999966e-01  1.87630771e+00]\n",
      " [ 0.00000000e+00  0.00000000e+00  0.00000000e+00  1.00000000e+00]]\n",
      ">>> Mean of FK-IK(T):  2.9466984059751883e-05\n",
      ">>> Diff between FK-IK(T): \n",
      " [[-3.19915704e-04 -6.69618302e-08  1.77700868e-04  4.53687576e-04]\n",
      " [ 6.92989700e-08 -3.19949527e-04  1.90342415e-04  4.10034787e-04]\n",
      " [-1.90399258e-04  1.77639962e-04  3.39039172e-08 -1.07705615e-04]\n",
      " [ 0.00000000e+00  0.00000000e+00  0.00000000e+00  0.00000000e+00]]\n"
     ]
    },
    {
     "name": "stderr",
     "output_type": "stream",
     "text": [
      "\n"
     ]
    }
   ],
   "source": [
    "M = np.array([\n",
    "    [1, 0, 0,        0],\n",
    "    [ 0, 1, 0, -0.1864],\n",
    "    [ 0, 0, 1,  1.2670],\n",
    "    [ 0, 0, 0,       1]])\n",
    "\n",
    "Slist = np.array([[0,0,0,0,0,1],[-0.2995,0,0,0,-1,0],[-0.1937,0,0,0,0,1],[-0.749,0,0,0,-1,0],[-0.0034,0,0,0,0,1],[-1.099,0,0,0,-1,0],[-0.1864,0,0,0,0,1]]).T\n",
    "thetalist = np.ones(7)*np.pi/2.0\n",
    "T = r.FKinSpace(M,Slist,thetalist)\n",
    "\n",
    "print(\">>> Theta for FK(deg): \", thetalist*(180/np.pi))\n",
    "print(\">>> Result of FK: \\n\", T)\n",
    "\n",
    "eomg = 0.0001\n",
    "ev = 0.0001\n",
    "thetalist0 = np.zeros(7)\n",
    "thetalist_IK = r.IKinSpace(Slist, M, T, thetalist0, eomg, ev, maxiter=10)\n",
    "print(\">>> Result of IK(deg): \", [round(x,2) for x in thetalist_IK[0]*(180/np.pi)])\n",
    "print(\">>> Result of IK(deg,%): \", [round(x,2) for x in thetalist_IK[0]*(180/np.pi)%360])\n",
    "print(\">>> Diff between FK-IK(deg): \",[round(x,2) for x in (thetalist*(180/np.pi)-(thetalist_IK[0]*(180/np.pi)%360))])\n",
    "\n",
    "TT = r.FKinSpace(M,Slist,thetalist_IK[0])\n",
    "print(\">>> Result of FK': \\n\", TT)\n",
    "print(\">>> Mean of FK-IK(T): \", np.mean(T-TT))\n",
    "print(\">>> Diff between FK-IK(T): \\n\",T-TT)"
   ]
  },
  {
   "attachments": {},
   "cell_type": "markdown",
   "metadata": {},
   "source": [
    "## FK in Body and Space 7 DOF --> PASS"
   ]
  },
  {
   "cell_type": "code",
   "execution_count": 254,
   "metadata": {},
   "outputs": [
    {
     "name": "stdout",
     "output_type": "stream",
     "text": [
      ">>> Result of FKBody': \n",
      " [[ 0.20076997 -0.89399666  0.40057632  0.06077065]\n",
      " [-0.40057632 -0.44807362 -0.79923003 -0.33124158]\n",
      " [ 0.89399666  0.         -0.44807362  1.02372363]\n",
      " [ 0.          0.          0.          1.        ]]\n",
      ">>> Result of FKSpace': \n",
      " [[ 0.20076997 -0.89399666  0.40057632  0.06077065]\n",
      " [-0.40057632 -0.44807362 -0.79923003 -0.33124158]\n",
      " [ 0.89399666  0.         -0.44807362  1.02372363]\n",
      " [ 0.          0.          0.          1.        ]]\n",
      ">>> Diff between Tb-Ts: \n",
      " [[ 0.00000000e+00  0.00000000e+00  0.00000000e+00  2.20656826e-15]\n",
      " [ 0.00000000e+00  0.00000000e+00  0.00000000e+00 -3.38618023e-15]\n",
      " [ 0.00000000e+00  0.00000000e+00  0.00000000e+00 -2.22044605e-16]\n",
      " [ 0.00000000e+00  0.00000000e+00  0.00000000e+00  0.00000000e+00]]\n"
     ]
    }
   ],
   "source": [
    "M = np.array([\n",
    "    [1, 0, 0,        0],\n",
    "    [ 0, 1, 0, -0.1864],\n",
    "    [ 0, 0, 1,  1.2670],\n",
    "    [ 0, 0, 0,       1]])\n",
    "\n",
    "Blist = np.array([\n",
    "    [ 0.1864,0,0,0,\t0,1],\n",
    "    [-0.9675,0,0,0,-1,0],\n",
    "    [-0.0073,0,0,0,\t0,1],\n",
    "    [ -0.518,0,0,0,-1,0],\n",
    "    [  0.183,0,0,0,\t0,1],\n",
    "    [ -0.168,0,0,0,-1,0],\n",
    "    [      0,0,0,0,\t0,1]]).T\n",
    "Slist = np.array([\n",
    "    [      0,0,0,0, 0,1],\n",
    "    [ 0.2995,0,0,0,-1,0],\n",
    "    [-0.1937,0,0,0, 0,1],\n",
    "    [  0.749,0,0,0,-1,0],\n",
    "    [-0.0034,0,0,0, 0,1],\n",
    "    [  1.099,0,0,0,-1,0],\n",
    "    [-0.1864,0,0,0, 0,1]]).T\n",
    "\n",
    "#thetalist = np.ones(7)*np.pi/2.0\n",
    "thetalist = [0,0,90,0,0,90,0]\n",
    "\n",
    "Ts = r.FKinSpace(M,Slist,thetalist)\n",
    "Tb = r.FKinBody(M,Blist,thetalist)\n",
    "print(\">>> Result of FKBody': \\n\", Tb)\n",
    "print(\">>> Result of FKSpace': \\n\", Ts)\n",
    "print(\">>> Diff between Tb-Ts: \\n\",Tb-Ts)\n"
   ]
  },
  {
   "attachments": {},
   "cell_type": "markdown",
   "metadata": {},
   "source": [
    "## IK in Body and Space 7 DOF --> PASS"
   ]
  },
  {
   "cell_type": "code",
   "execution_count": 238,
   "metadata": {},
   "outputs": [
    {
     "name": "stderr",
     "output_type": "stream",
     "text": [
      "[IKinBody] Root Finding with iterative Newton-Raphson: 100%|██████████| 1/1 [00:00<00:00, 250.81it/s]\n",
      "[IKinSpace] Root Finding with iterative Newton-Raphson: 100%|██████████| 1/1 [00:00<00:00, 334.50it/s]"
     ]
    },
    {
     "name": "stdout",
     "output_type": "stream",
     "text": [
      ">>> Result of IKs(deg,%):  [89.9, 89.9, 89.88, 89.99, 90.09, 90.13, 90.11]\n",
      ">>> Result of IKb(deg,%):  [89.9, 89.9, 89.88, 89.99, 90.09, 90.13, 90.11]\n",
      ">>> Mean between IKs-IKb(deg):  -2.0301221021717147e-15\n",
      ">>> Diff between IKs-IKb(deg):  [0.0, -0.0, -0.0, 0.0, 0.0, 0.0, -0.0]\n",
      ">>> Result of FKs': \n",
      " [[ 3.95318056e-05 -9.99999999e-01 -3.71306237e-05 -1.56382966e-01]\n",
      " [ 9.99999999e-01  3.95307455e-05  2.85510717e-05  2.66585087e-01]\n",
      " [-2.85496038e-05 -3.71317523e-05  9.99999999e-01  1.87620632e+00]\n",
      " [ 0.00000000e+00  0.00000000e+00  0.00000000e+00  1.00000000e+00]]\n",
      ">>> Result of FKb': \n",
      " [[ 3.95318056e-05 -9.99999999e-01 -3.71306237e-05 -1.56288877e-01]\n",
      " [ 9.99999999e-01  3.95307455e-05  2.85510717e-05  2.66512739e-01]\n",
      " [-2.85496038e-05 -3.71317523e-05  9.99999999e-01  1.87620633e+00]\n",
      " [ 0.00000000e+00  0.00000000e+00  0.00000000e+00  1.00000000e+00]]\n",
      ">>> Mean of FKs-FKb:  -1.3589602791648305e-06\n",
      ">>> Diff between FKs-FKb: \n",
      " [[ 2.73761049e-18  0.00000000e+00  2.22153025e-16 -9.40890005e-05]\n",
      " [ 1.11022302e-16  2.29715335e-18 -1.07064965e-18  7.23484156e-05]\n",
      " [ 9.58841296e-19  2.21773554e-16  1.11022302e-16 -2.77960366e-09]\n",
      " [ 0.00000000e+00  0.00000000e+00  0.00000000e+00  0.00000000e+00]]\n"
     ]
    },
    {
     "name": "stderr",
     "output_type": "stream",
     "text": [
      "\n"
     ]
    }
   ],
   "source": [
    "M = np.array([\n",
    "    [1, 0, 0,        0],\n",
    "    [ 0, 1, 0, -0.1864],\n",
    "    [ 0, 0, 1,  1.2670],\n",
    "    [ 0, 0, 0,       1]])\n",
    "\n",
    "Blist = np.array([[0.1864,\t0,0,\t0,\t0,\t1],[0.9675,\t0,\t0,\t0,\t-1,\t0],[-0.0073,\t0,\t0,\t0,\t0,\t1],[0.518,\t0,\t0,\t0,\t-1,\t0],[0.183,\t0,\t0,\t0,\t0,\t1],[0.168,\t0,\t0,\t0,\t-1,\t0],[0,\t0,\t0,\t0,\t0,\t1]]).T\n",
    "Slist = np.array([[0,0,0,0,0,1],[-0.2995,0,0,0,-1,0],[-0.1937,0,0,0,0,1],[-0.749,0,0,0,-1,0],[-0.0034,0,0,0,0,1],[-1.099,0,0,0,-1,0],[-0.1864,0,0,0,0,1]]).T\n",
    "\n",
    "thetalist = np.ones(7)*np.pi/2.0\n",
    "Ts = r.FKinSpace(M,Slist,thetalist)\n",
    "\n",
    "eomg = 0.0001\n",
    "ev = 0.0001\n",
    "thetalist0 = thetalist - np.random.rand(7)*0.01\n",
    "maxiter = 1\n",
    "\n",
    "thetalist_IKb = r.IKinBody(Blist, M, T, thetalist0, eomg, ev, maxiter=maxiter)\n",
    "thetalist_IKs = r.IKinSpace(Slist, M, T, thetalist0, eomg, ev, maxiter=maxiter)\n",
    "\n",
    "print(\">>> Result of IKs(deg,%): \", [round(x,2) for x in thetalist_IKs[0]*(180/np.pi)%360])\n",
    "print(\">>> Result of IKb(deg,%): \", [round(x,2) for x in thetalist_IKb[0]*(180/np.pi)%360])\n",
    "print(\">>> Mean between IKs-IKb(deg): \",np.mean((thetalist_IKs[0]*(180/np.pi)%360)-(thetalist_IKb[0]*(180/np.pi)%360)))\n",
    "print(\">>> Diff between IKs-IKb(deg): \",[round(x,2) for x in ((thetalist_IKs[0]*(180/np.pi)%360)-(thetalist_IKb[0]*(180/np.pi)%360))])\n",
    "\n",
    "Ts = r.FKinSpace(M,Slist,thetalist_IKs[0])\n",
    "Tb = r.FKinBody(M,Blist,thetalist_IKb[0])\n",
    "print(\">>> Result of FKs': \\n\", Ts)\n",
    "print(\">>> Result of FKb': \\n\", Tb)\n",
    "print(\">>> Mean of FKs-FKb: \", np.mean(Ts-Tb))\n",
    "print(\">>> Diff between FKs-FKb: \\n\",Ts-Tb)\n"
   ]
  },
  {
   "attachments": {},
   "cell_type": "markdown",
   "metadata": {},
   "source": [
    "# 7 DOF"
   ]
  },
  {
   "cell_type": "code",
   "execution_count": 106,
   "metadata": {},
   "outputs": [
    {
     "name": "stdout",
     "output_type": "stream",
     "text": [
      ">>> Result of IK(rad):  [-152.13030523   64.79403474 -138.29620881  -58.42568669  145.57403555\n",
      "   19.69317382  -14.75529024]\n",
      ">>> Result of IK(deg):  -8716.4244255022,3712.4247280368013,-7923.789087531694,-3347.5452625855914,8340.777843654909,1128.3357448397853,-845.4158559876978\n",
      ">>> Result of IK(deg,%):  283.5755744977996,112.4247280368013,356.21091246830565,252.45473741440856,60.77784365490879,48.33574483978532,234.5841440123022\n"
     ]
    }
   ],
   "source": [
    "M = np.array([\n",
    "    [1, 0, 0,        0],\n",
    "    [ 0, 1, 0, -0.1864],\n",
    "    [ 0, 0, 1,  1.2670],\n",
    "    [ 0, 0, 0,       1]])\n",
    "\n",
    "# [0,0,0,0,0,0,0]\n",
    "T = np.array([\n",
    "    [1, 0, 0,        0],\n",
    "    [ 0, 1, 0, -0.1864],\n",
    "    [ 0, 0, 1,  1.2670],\n",
    "    [ 0, 0, 0,       1]])\n",
    "\n",
    "# [0,30,0,-60,0,30,0]\n",
    "# T = np.array([\n",
    "#     [1, 0, 0,        -0.0497],\n",
    "#     [ 0, 1, 0, -0.1864],\n",
    "#     [ 0, 0, 1,  1.1599],\n",
    "#     [ 0, 0, 0,       1]])\n",
    "\n",
    "# T = np.array([\n",
    "#     [ 0, 0,-1, -0.9675],\n",
    "#     [ 0, 1, 0, -0.1864], \n",
    "#     [ 1, 0, 0,  0.2995], \n",
    "#     [ 0, 0, 0,       1]])\n",
    "\n",
    "Slist = np.array([[0,0,0,0,0,1],[-0.2995,0,0,0,-1,0],[-0.1937,0,0,0,0,1],[-0.749,0,0,0,-1,0],[-0.0034,0,0,0,0,1],[-1.099,0,0,0,-1,0],[-0.1864,0,0,0,0,1]]).T\n",
    "eomg = 999999\n",
    "ev = 0.001\n",
    "thetalist0 = np.array([0,0,np.pi/2.0,0,0,0,0])\n",
    "#thetalist0 = np.ones(7)*np.pi/0.001\n",
    "thetalist_IK = r.IKinSpace(Slist, M, T, thetalist0, eomg, ev)\n",
    "print(\">>> Result of IK(rad): \", thetalist_IK[0])\n",
    "print(\">>> Result of IK(deg): \", \",\".join(map(str,thetalist_IK[0]*(180/np.pi))))\n",
    "print(\">>> Result of IK(deg,%): \", \",\".join(map(str,thetalist_IK[0]*(180/np.pi)%360)))"
   ]
  },
  {
   "cell_type": "code",
   "execution_count": 121,
   "metadata": {},
   "outputs": [
    {
     "name": "stdout",
     "output_type": "stream",
     "text": [
      ">>> Result of IK(rad):  [200.88761068  31.76328324 233.05470005   2.70301826 -49.28424812\n",
      " 132.84740778 -96.3986608 ]\n",
      ">>> Result of IK(deg):  11510.01224834774,1819.9020732601898,13353.05070859546,154.8715380004641,-2823.7794134951905,7611.595785064527,-5523.236414558892\n",
      ">>> Result of IK(deg,%):  350.01224834774075,19.90207326018981,33.05070859545958,154.8715380004641,56.22058650480949,51.59578506452726,236.76358544110826\n",
      ">>> Result of IK(deg,%,const):  170.01224834774075,19.90207326018981,33.05070859545958,154.8715380004641,56.22058650480949,51.59578506452726,56.76358544110735\n"
     ]
    }
   ],
   "source": [
    "M = np.array([\n",
    "    [1, 0, 0,        0],\n",
    "    [ 0, 1, 0, -0.1864],\n",
    "    [ 0, 0, 1,  1.2670],\n",
    "    [ 0, 0, 0,       1]])\n",
    "\n",
    "# [0,0,0,0,0,0,0]\n",
    "T = np.array([\n",
    "    [1, 0, 0,        0],\n",
    "    [ 0, 1, 0, -0.1864],\n",
    "    [ 0, 0, 1,  1.2670],\n",
    "    [ 0, 0, 0,       1]])\n",
    "\n",
    "# [0,30,0,-60,0,30,0]\n",
    "# T = np.array([\n",
    "#     [1, 0, 0,        -0.0497],\n",
    "#     [ 0, 1, 0, -0.1864],\n",
    "#     [ 0, 0, 1,  1.1599],\n",
    "#     [ 0, 0, 0,       1]])\n",
    "\n",
    "# [0,45,0,-90,0,45,0]\n",
    "# T = np.array([\n",
    "#     [1, 0, 0,  -0.0704],\n",
    "#     [ 0, 1, 0, -0.1864],\n",
    "#     [ 0, 0, 1,  1.0328],\n",
    "#     [ 0, 0, 0,       1]])\n",
    "\n",
    "Blist = np.array([[0.1864,\t0,0,\t0,\t0,\t1],[0.9675,\t0,\t0,\t0,\t-1,\t0],[-0.0073,\t0,\t0,\t0,\t0,\t1],[0.518,\t0,\t0,\t0,\t-1,\t0],[0.183,\t0,\t0,\t0,\t0,\t1],[0.168,\t0,\t0,\t0,\t-1,\t0],[0,\t0,\t0,\t0,\t0,\t1]]).T\n",
    "eomg = 0.1\n",
    "ev = 0.001\n",
    "#thetalist0 = np.array([0,0,0.01,0,0,0,0])\n",
    "thetalist0 = np.ones(7)*np.pi/1\n",
    "thetalist_IK = r.IKinBody(Blist, M, T, thetalist0, eomg, ev)\n",
    "print(\">>> Result of IK(rad): \", thetalist_IK[0])\n",
    "print(\">>> Result of IK(deg): \", \",\".join(map(str,thetalist_IK[0]*(180/np.pi))))\n",
    "print(\">>> Result of IK(deg,%): \", \",\".join(map(str,thetalist_IK[0]*(180/np.pi)%360)))\n",
    "\n",
    "# Apply Joint Angle Constrains\n",
    "for i in range(7):\n",
    "    if thetalist_IK[0][i]*(180/np.pi)%360 > 180:\n",
    "        thetalist_IK[0][i] = thetalist_IK[0][i] - np.pi\n",
    "print(\">>> Result of IK(deg,%,const): \", \",\".join(map(str,thetalist_IK[0]*(180/np.pi)%360)))"
   ]
  },
  {
   "attachments": {},
   "cell_type": "markdown",
   "metadata": {},
   "source": [
    "# 6 DOF"
   ]
  },
  {
   "cell_type": "code",
   "execution_count": 54,
   "metadata": {},
   "outputs": [
    {
     "name": "stdout",
     "output_type": "stream",
     "text": [
      ">>> Result of IK(rad):  [-4.13540164e+08  6.39234778e+09  1.72237838e+08  1.73227707e+09\n",
      "  2.41303124e+08 -8.12461985e+09]\n",
      ">>> Result of IK(deg):  -23694106032.681202,366254548953.01245,9868501174.256493,99252164869.72464,13825650581.847212,-465506427590.59064\n",
      ">>> Result of IK(deg,%):  287.31879806518555,33.012451171875,94.2564926147461,349.7246398925781,341.84721183776855,9.40936279296875\n"
     ]
    }
   ],
   "source": [
    "M = np.array([\n",
    "    [1, 0, 0,        0],\n",
    "    [ 0, 1, 0, -0.1864],\n",
    "    [ 0, 0, 1,  1.2670],\n",
    "    [ 0, 0, 0,       1]])\n",
    "\n",
    "T = np.array([\n",
    "    [1, 0, 0,        0],\n",
    "    [ 0, 1, 0, -0.1864],\n",
    "    [ 0, 0, 1,  1.2650],\n",
    "    [ 0, 0, 0,       1]])\n",
    "\n",
    "# T = np.array([\n",
    "#     [ 0, 0,-1, -0.9675],\n",
    "#     [ 0, 1, 0, -0.1864], \n",
    "#     [ 1, 0, 0,  0.2995], \n",
    "#     [ 0, 0, 0,       1]])\n",
    "\n",
    "Slist = np.array([[-0.2995,0,0,0,-1,0],[-0.1937,0,0,0,0,1],[-0.749,0,0,0,-1,0],[-0.0034,0,0,0,0,1],[-1.099,0,0,0,-1,0],[-0.1864,0,0,0,0,1]]).T\n",
    "eomg = 0.001\n",
    "ev = 0.001\n",
    "#thetalist0 = np.array([0,np.pi/0.1,0,0,0,0,0])\n",
    "thetalist0 = np.ones(6)*np.pi/0.01\n",
    "thetalist_IK = r.IKinSpace(Slist, M, T, thetalist0, eomg, ev)\n",
    "print(\">>> Result of IK(rad): \", thetalist_IK[0])\n",
    "print(\">>> Result of IK(deg): \", \",\".join(map(str,thetalist_IK[0]*(180/np.pi))))\n",
    "print(\">>> Result of IK(deg,%): \", \",\".join(map(str,thetalist_IK[0]*(180/np.pi)%360)))"
   ]
  }
 ],
 "metadata": {
  "kernelspec": {
   "display_name": "MECH639",
   "language": "python",
   "name": "python3"
  },
  "language_info": {
   "codemirror_mode": {
    "name": "ipython",
    "version": 3
   },
   "file_extension": ".py",
   "mimetype": "text/x-python",
   "name": "python",
   "nbconvert_exporter": "python",
   "pygments_lexer": "ipython3",
   "version": "3.8.16"
  },
  "orig_nbformat": 4
 },
 "nbformat": 4,
 "nbformat_minor": 2
}
