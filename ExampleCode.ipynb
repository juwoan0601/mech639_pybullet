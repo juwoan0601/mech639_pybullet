{
 "cells": [
  {
   "cell_type": "code",
   "execution_count": 3,
   "id": "7bebbf60",
   "metadata": {},
   "outputs": [
    {
     "name": "stdout",
     "output_type": "stream",
     "text": [
      "The autoreload extension is already loaded. To reload it, use:\n",
      "  %reload_ext autoreload\n"
     ]
    }
   ],
   "source": [
    "import numpy as np\n",
    "import pybullet as p\n",
    "from PybulletCore import pybullet_core\n",
    "%load_ext autoreload\n",
    "%autoreload 2"
   ]
  },
  {
   "cell_type": "markdown",
   "id": "9af6e99c",
   "metadata": {},
   "source": [
    "## 1. Open Pybullet GUI"
   ]
  },
  {
   "cell_type": "code",
   "execution_count": 4,
   "id": "d610617b",
   "metadata": {},
   "outputs": [
    {
     "name": "stdout",
     "output_type": "stream",
     "text": [
      "\u001b[1m\u001b[34m****** LOAD SUCCESS ******\u001b[0m\u001b[30m\n",
      "\u001b[1mRobot name\u001b[0m: IndyRP2\n",
      "\u001b[1mDOF\u001b[0m: 7\n",
      "\u001b[1mJoint limit\u001b[0m: False\n"
     ]
    }
   ],
   "source": [
    "pb = pybullet_core()\n",
    "# pb.connect_pybullet(robot_name = \"Indy7\", joint_limit=False)\n",
    "pb.connect_pybullet(robot_name = \"IndyRP2\", joint_limit=False)"
   ]
  },
  {
   "cell_type": "markdown",
   "id": "655bd39a",
   "metadata": {},
   "source": [
    "## 2. Move robot"
   ]
  },
  {
   "attachments": {},
   "cell_type": "markdown",
   "id": "e1d023f8",
   "metadata": {},
   "source": [
    "### Random Motion"
   ]
  },
  {
   "cell_type": "code",
   "execution_count": 7,
   "id": "1610cd80",
   "metadata": {},
   "outputs": [
    {
     "name": "stdout",
     "output_type": "stream",
     "text": [
      "\u001b[1m\u001b[34mSet desired joint angle: \u001b[0m\u001b[30m[-1.17196432 -0.72218593  0.87826512 -0.42868754  1.18118973 -1.59892779\n",
      " -0.40086196]\n"
     ]
    }
   ],
   "source": [
    "pb.MoveRobot(2*(1-2*np.random.rand(7)), verbose=True)"
   ]
  },
  {
   "attachments": {},
   "cell_type": "markdown",
   "id": "62e22540",
   "metadata": {},
   "source": [
    "### Control using Joint Angle"
   ]
  },
  {
   "cell_type": "code",
   "execution_count": 12,
   "id": "27ef98e2",
   "metadata": {},
   "outputs": [
    {
     "name": "stdout",
     "output_type": "stream",
     "text": [
      "\u001b[1m\u001b[34mSet desired joint angle: \u001b[0m\u001b[30m[0 0 0 0 0 0 0]\n"
     ]
    }
   ],
   "source": [
    "thetalist = np.array([0,0,0,0,0,0,0])\n",
    "pb.MoveRobot(thetalist, verbose=True)"
   ]
  },
  {
   "cell_type": "markdown",
   "id": "270a61af",
   "metadata": {},
   "source": [
    "## 3. Close Pybullet GUI"
   ]
  },
  {
   "cell_type": "code",
   "execution_count": null,
   "id": "38465c66",
   "metadata": {},
   "outputs": [],
   "source": [
    "pb.disconnect_pybullet()"
   ]
  }
 ],
 "metadata": {
  "kernelspec": {
   "display_name": "Python 3 (ipykernel)",
   "language": "python",
   "name": "python3"
  },
  "language_info": {
   "codemirror_mode": {
    "name": "ipython",
    "version": 3
   },
   "file_extension": ".py",
   "mimetype": "text/x-python",
   "name": "python",
   "nbconvert_exporter": "python",
   "pygments_lexer": "ipython3",
   "version": "3.8.16"
  }
 },
 "nbformat": 4,
 "nbformat_minor": 5
}
